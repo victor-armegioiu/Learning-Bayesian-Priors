{
  "nbformat": 4,
  "nbformat_minor": 0,
  "metadata": {
    "accelerator": "GPU",
    "colab": {
      "name": "Prior as Particles (Standard Variational Inference for posterior training).ipynb",
      "provenance": [],
      "collapsed_sections": [],
      "authorship_tag": "ABX9TyPcAxbAltJ47h7/p6qA3Ydv",
      "include_colab_link": true
    },
    "kernelspec": {
      "display_name": "Python 3",
      "name": "python3"
    }
  },
  "cells": [
    {
      "cell_type": "markdown",
      "metadata": {
        "id": "view-in-github",
        "colab_type": "text"
      },
      "source": [
        "<a href=\"https://colab.research.google.com/github/victor-armegioiu/Learning-Bayesian-Priors/blob/main/Prior_as_Particles_(Standard_Variational_Inference_for_posterior_training).ipynb\" target=\"_parent\"><img src=\"https://colab.research.google.com/assets/colab-badge.svg\" alt=\"Open In Colab\"/></a>"
      ]
    },
    {
      "cell_type": "markdown",
      "metadata": {
        "id": "Ttj1NMzeLb7l"
      },
      "source": [
        "# Better priors represented as particles\n",
        "\n",
        "---\n",
        "\n",
        "Seed papers: FUNCTIONAL VARIATIONAL BAYESIAN NEURAL NETWORKS (https://arxiv.org/pdf/1903.05779.pdf)\n",
        "\n",
        "Understanding Variational Inference in Function-Space (https://arxiv.org/pdf/2011.09421.pdf)\n",
        "\n"
      ]
    },
    {
      "cell_type": "markdown",
      "metadata": {
        "id": "3HNFtn3JLmBv"
      },
      "source": [
        "## Setup \n",
        "\n",
        "Necessary imports, setting up the Colab environment."
      ]
    },
    {
      "cell_type": "code",
      "metadata": {
        "id": "emnY7qQ_D27i",
        "colab": {
          "base_uri": "https://localhost:8080/"
        },
        "outputId": "f7579b3d-e8a2-4813-b6dd-64b07d0d5b59"
      },
      "source": [
        "from google.colab import drive\n",
        "drive.mount('/content/gdrive')"
      ],
      "execution_count": null,
      "outputs": [
        {
          "output_type": "stream",
          "text": [
            "Mounted at /content/gdrive\n"
          ],
          "name": "stdout"
        }
      ]
    },
    {
      "cell_type": "code",
      "metadata": {
        "id": "fDhq3YG2Lh57"
      },
      "source": [
        "# gpflow doesn't come preloaded with colab.\n",
        "!pip3 install gpflow"
      ],
      "execution_count": null,
      "outputs": []
    },
    {
      "cell_type": "code",
      "metadata": {
        "colab": {
          "base_uri": "https://localhost:8080/"
        },
        "id": "Ks43pRGGFeLZ",
        "outputId": "99fe7805-525f-4898-ed9e-90ca2ff35edb"
      },
      "source": [
        "import numpy as np\n",
        "import time\n",
        "\n",
        "from sklearn.preprocessing import StandardScaler\n",
        "from sklearn.datasets import make_regression\n",
        "from sklearn.model_selection import train_test_split\n",
        "\n",
        "import tensorflow as tf\n",
        "import tensorflow_probability as tfp\n",
        "\n",
        "import matplotlib\n",
        "import matplotlib.pyplot as plt\n",
        "\n",
        "from gdrive.MyDrive.prior_learning.spectral_stein_grad.estimator import SpectralScoreEstimator\n",
        "from gdrive.MyDrive.prior_learning import data_utils\n",
        "from gdrive.MyDrive.prior_learning import gp_utils\n",
        "from gdrive.MyDrive.prior_learning import prior_utils\n",
        "from gdrive.MyDrive.prior_learning import sliced_score_estimation\n",
        "\n",
        "tf.compat.v1.enable_eager_execution()\n"
      ],
      "execution_count": null,
      "outputs": [
        {
          "output_type": "stream",
          "text": [
            "WARNING:tensorflow:From /usr/local/lib/python3.7/dist-packages/tensorflow/python/compat/v2_compat.py:96: disable_resource_variables (from tensorflow.python.ops.variable_scope) is deprecated and will be removed in a future version.\n",
            "Instructions for updating:\n",
            "non-resource variables are not supported in the long term\n"
          ],
          "name": "stdout"
        }
      ]
    },
    {
      "cell_type": "code",
      "metadata": {
        "colab": {
          "base_uri": "https://localhost:8080/"
        },
        "id": "jpyirMceU8rl",
        "outputId": "44c45902-f9db-4e4e-a239-7ea735e561dc"
      },
      "source": [
        "tf.executing_eagerly()"
      ],
      "execution_count": null,
      "outputs": [
        {
          "output_type": "execute_result",
          "data": {
            "text/plain": [
              "True"
            ]
          },
          "metadata": {
            "tags": []
          },
          "execution_count": 4
        }
      ]
    },
    {
      "cell_type": "code",
      "metadata": {
        "colab": {
          "base_uri": "https://localhost:8080/"
        },
        "id": "exSRRJaSZHEA",
        "outputId": "cbcd8388-ca11-4208-f11a-8ad27ae1ebec"
      },
      "source": [
        "tf.config.list_physical_devices('GPU') "
      ],
      "execution_count": null,
      "outputs": [
        {
          "output_type": "execute_result",
          "data": {
            "text/plain": [
              "[PhysicalDevice(name='/physical_device:GPU:0', device_type='GPU')]"
            ]
          },
          "metadata": {
            "tags": []
          },
          "execution_count": 5
        }
      ]
    },
    {
      "cell_type": "markdown",
      "metadata": {
        "id": "AtFYyye2Lq1G"
      },
      "source": [
        "## Building the dataset\n",
        "\n",
        "We assume a typical meta-learning scenario, where one has access to a limited number of related tasks which are assumed to be generated under the same generating process. Naturally, we expect the underlying generating parameters of each task to be subject to small perturbations, rendering a family of functions. \n",
        "Specifically, we assume access to a \\textit{meta-training} dataset $\\mathcal{D}_{\\text{train}} := \\{T_i\\}_{i=1}^m$ where each task $T_i := \\{(x_j, y_j)\\}_{j=1}^k$ corresponds to a meta-learning task.\n",
        "Analogously, we assume access to a \\textit{meta-tuning} dataset $\\mathcal{D}_{\\text{tune}} := \\{T_i\\}_{i=1}^n$, where typically $n \\ll m$. \\\\\n",
        "\n",
        "\n",
        "In this example, we generate the index sets per task as $X_i \\sim \\mathcal{U}(-5, 5)$ and apply a linear combination of a scaled + shifted sinusoid and an affine transform to get the targets $y_i$."
      ]
    },
    {
      "cell_type": "code",
      "metadata": {
        "id": "SC6KrF3DNlZG"
      },
      "source": [
        "config = {\n",
        "    'generation_method': 'sine', \n",
        "    'meta_training_task_cnt': 50,   # Meta tasks used for prior learning.\n",
        "    'meta_tuning_task_cnt': 25,     # Meta tasks to deploy learned priors on.\n",
        "    'task_size': 5, # Number of inputs/outputs per meta-task.\n",
        "    'input_shape': (1,),\n",
        "}"
      ],
      "execution_count": null,
      "outputs": []
    },
    {
      "cell_type": "code",
      "metadata": {
        "id": "qAhcM4vPgZBE"
      },
      "source": [
        "meta_training_tasks, meta_tuning_tasks = data_utils.GetDataset(config)"
      ],
      "execution_count": null,
      "outputs": []
    },
    {
      "cell_type": "code",
      "metadata": {
        "id": "0WoIeHxbpzcX"
      },
      "source": [
        "def NormalizeData(tasks, scaler=None, y_max=None):\n",
        "  if not scaler or not y_max:\n",
        "    scaler = StandardScaler()\n",
        "    y_max = np.max([np.max(y) for _, y in tasks])\n",
        "  for x, y in tasks:\n",
        "    x = scaler.fit_transform(x)\n",
        "    y /= y_max\n",
        "  return tasks, scaler, y_max"
      ],
      "execution_count": null,
      "outputs": []
    },
    {
      "cell_type": "markdown",
      "metadata": {
        "id": "WI1ZtuUVxg5d"
      },
      "source": [
        "Use last `test_tasks_cnt` for testing, and leave the rest for training. "
      ]
    },
    {
      "cell_type": "code",
      "metadata": {
        "id": "o8AB9zYEqYJl"
      },
      "source": [
        "test_tasks_cnt = 5"
      ],
      "execution_count": null,
      "outputs": []
    },
    {
      "cell_type": "code",
      "metadata": {
        "id": "VQZtL6nxglLY"
      },
      "source": [
        "# Use the same scaler in order to ensure that we don't inject knowledge\n",
        "# about the test distribution in our training biases.\n",
        "meta_tuning_train_tasks, scaler, y_max = NormalizeData(\n",
        "    meta_tuning_tasks[:-test_tasks_cnt])\n",
        "meta_tuning_test_tasks, _ , _ = NormalizeData(meta_tuning_tasks[-test_tasks_cnt:],\n",
        "                                       scaler, y_max)"
      ],
      "execution_count": null,
      "outputs": []
    },
    {
      "cell_type": "code",
      "metadata": {
        "id": "eemwpWnDwnOi"
      },
      "source": [
        "# Scale meta_training_tasks as well.\n",
        "meta_training_tasks, _, _ = NormalizeData(meta_training_tasks)"
      ],
      "execution_count": null,
      "outputs": []
    },
    {
      "cell_type": "code",
      "metadata": {
        "colab": {
          "base_uri": "https://localhost:8080/",
          "height": 279
        },
        "id": "K7YNPV1PtCA6",
        "outputId": "ff7a733b-c63d-473b-b81b-4d721e4f4b5b"
      },
      "source": [
        "for x, y in meta_training_tasks:\n",
        "  plt.plot(x, y)\n",
        "\n",
        "plt.xlabel('x')\n",
        "plt.ylabel('y')\n",
        "plt.show()"
      ],
      "execution_count": null,
      "outputs": [
        {
          "output_type": "display_data",
          "data": {
            "image/png": "[encoded data removed]",
            "text/plain": [
              "<Figure size 432x288 with 1 Axes>"
            ]
          },
          "metadata": {
            "tags": [],
            "needs_background": "light"
          }
        }
      ]
    },
    {
      "cell_type": "markdown",
      "metadata": {
        "id": "hUczRSqDrgyZ"
      },
      "source": [
        "## GP Prior Setup\n",
        "\n",
        "Train a $\\mathcal{GP}$ on the training data, so that we may later use the tuned kernel for estimating the covariance of a Normal distribution over function values (this shall be used as the prior in the `f-bnn` formulation below)."
      ]
    },
    {
      "cell_type": "code",
      "metadata": {
        "id": "R8reHpDqdZNH",
        "colab": {
          "base_uri": "https://localhost:8080/"
        },
        "outputId": "8455ea53-8fb8-4bd8-c2b2-793bafa28c80"
      },
      "source": [
        "# Pre-train GP prior.\n",
        "mean_function, kernel = gp_utils.TrainGPPrior(meta_training_tasks, verbose=True)"
      ],
      "execution_count": null,
      "outputs": [
        {
          "output_type": "stream",
          "text": [
            "\n",
            "Currently in meta-iteration/epoch 1/5:\n",
            "Task 0 log-likelihood: -5.254992507854491\n",
            "Task 5 log-likelihood: -3.9980017087042534\n",
            "Task 10 log-likelihood: -3.7490316570636177\n",
            "Task 15 log-likelihood: -3.3792788985375135\n",
            "Task 20 log-likelihood: -2.6489726642593823\n",
            "Task 25 log-likelihood: -2.358396618506363\n",
            "Task 30 log-likelihood: -2.2543869299557477\n",
            "Task 35 log-likelihood: -0.9125043520627187\n",
            "Task 40 log-likelihood: -2.2597796798360585\n",
            "Task 45 log-likelihood: -0.6056557110791179\n",
            "\n",
            "Currently in meta-iteration/epoch 2/5:\n",
            "Task 0 log-likelihood: -3.653880602651848\n",
            "Task 5 log-likelihood: -3.2868128192418773\n",
            "Task 10 log-likelihood: -3.1223493212469977\n",
            "Task 15 log-likelihood: -2.7189708198204627\n",
            "Task 20 log-likelihood: -2.0552213511724573\n",
            "Task 25 log-likelihood: -1.8482464737442816\n",
            "Task 30 log-likelihood: -1.691210499992199\n",
            "Task 35 log-likelihood: -0.523222829096512\n",
            "Task 40 log-likelihood: -1.7781101718798347\n",
            "Task 45 log-likelihood: -0.2989843463238433\n",
            "\n",
            "Currently in meta-iteration/epoch 3/5:\n",
            "Task 0 log-likelihood: -3.0457943582076354\n",
            "Task 5 log-likelihood: -2.568621330947377\n",
            "Task 10 log-likelihood: -2.469886617184389\n",
            "Task 15 log-likelihood: -2.0650547534364567\n",
            "Task 20 log-likelihood: -1.442816880347448\n",
            "Task 25 log-likelihood: -1.3134372955479092\n",
            "Task 30 log-likelihood: -1.1442948295220283\n",
            "Task 35 log-likelihood: -0.1375599446426099\n",
            "Task 40 log-likelihood: -1.277877314407542\n",
            "Task 45 log-likelihood: 0.013310528840448477\n",
            "\n",
            "Currently in meta-iteration/epoch 4/5:\n",
            "Task 0 log-likelihood: -2.3969192412600506\n",
            "Task 5 log-likelihood: -1.8076803092809186\n",
            "Task 10 log-likelihood: -1.7967866536073402\n",
            "Task 15 log-likelihood: -1.4082836908810914\n",
            "Task 20 log-likelihood: -0.8529056160322361\n",
            "Task 25 log-likelihood: -0.7927730934526913\n",
            "Task 30 log-likelihood: -0.5979215156038951\n",
            "Task 35 log-likelihood: 0.24290075300369995\n",
            "Task 40 log-likelihood: -0.777292395680393\n",
            "Task 45 log-likelihood: 0.33799748638410154\n",
            "\n",
            "Currently in meta-iteration/epoch 5/5:\n",
            "Task 0 log-likelihood: -1.738289258374445\n",
            "Task 5 log-likelihood: -1.0449556625306125\n",
            "Task 10 log-likelihood: -1.116019614039026\n",
            "Task 15 log-likelihood: -0.7481466574785869\n",
            "Task 20 log-likelihood: -0.24245646477496496\n",
            "Task 25 log-likelihood: -0.2683041513068165\n",
            "Task 30 log-likelihood: -0.05601157701359227\n",
            "Task 35 log-likelihood: 0.6175925312411836\n",
            "Task 40 log-likelihood: -0.2720104541793713\n",
            "Task 45 log-likelihood: 0.6724301698728885\n"
          ],
          "name": "stdout"
        }
      ]
    },
    {
      "cell_type": "markdown",
      "metadata": {
        "id": "Lp0sKmQh6O-i"
      },
      "source": [
        "## Sliced Score Estimator Setup (https://arxiv.org/pdf/1905.07088.pdf)\n",
        "\n",
        "Here we train a network $h(\\cdot, \\hat{\\theta})$ which minimizes the objective $\\mathbb{E}_{x \\sim \\mu} \\Vert h(x, \\hat{\\theta}) - \\nabla_x \\log p(x) \\Vert_{2}$ in an unsupervised way, where $\\mu$ is some unknown data generating process and $p := \\sum_i \\delta_{x_i}$ is an empirical measure represented as a set of particles."
      ]
    },
    {
      "cell_type": "code",
      "metadata": {
        "id": "0s1vAhNu75Ax"
      },
      "source": [
        "input_shape = (1,)\n",
        "score_net = tf.keras.Sequential([\n",
        "    tf.keras.Input(shape=input_shape, name='input'),\n",
        "    tf.keras.layers.Dense(64, activation='relu'),\n",
        "    #tf.keras.layers.Dense(64, activation='relu'),\n",
        "    tf.keras.layers.Dense(input_shape[0]),\n",
        "])\n",
        "\n",
        "# Take all meta-functions as an empirical prior over functions.\n",
        "data = np.concatenate(tuple((y for _, y in meta_training_tasks)))\n",
        "config_slice_train = {'data': data,\n",
        "          'score_net': score_net,\n",
        "          'epochs': 10, \n",
        "          'lambda_reg': 0.15\n",
        "}"
      ],
      "execution_count": null,
      "outputs": []
    },
    {
      "cell_type": "code",
      "metadata": {
        "colab": {
          "base_uri": "https://localhost:8080/"
        },
        "id": "yTktaqjF7TGu",
        "outputId": "ae22ebd8-4a32-4a89-bc79-d1cc70773559"
      },
      "source": [
        "score_net, best_loss = (\n",
        "    sliced_score_estimation.GetSlicedScoreEstimator(config_slice_train,\n",
        "                                                    verbose=True))"
      ],
      "execution_count": null,
      "outputs": [
        {
          "output_type": "stream",
          "text": [
            "WARNING:tensorflow:Calling GradientTape.gradient on a persistent tape inside its context is significantly less efficient than calling it outside the context (it causes the gradient ops to be recorded on the tape, leading to increased CPU and memory usage). Only call GradientTape.gradient inside the context if you actually want to trace the gradient in order to compute higher order derivatives.\n",
            "Epoch [0], loss: [66.190899]\n"
          ],
          "name": "stdout"
        }
      ]
    },
    {
      "cell_type": "markdown",
      "metadata": {
        "id": "CgDB6_SSLxOW"
      },
      "source": [
        "## Model setup\n",
        "\n",
        "This section covers the actual training of our particle based models, minimizing the `f-bnn` loss (likelihood term + $KL$ term), where we represent the prior as a set of particles. The prior particles themselves will be the actual **training targets**, since we regard them to be representative of the true generating process."
      ]
    },
    {
      "cell_type": "code",
      "metadata": {
        "id": "UbS_6q1rNlwg"
      },
      "source": [
        "def ApproximateEntropyGrads(estimator, samples):\n",
        "  dlog_q = estimator.compute_gradients(samples)\n",
        "  surrogate = tf.reduce_mean(\n",
        "      tf.reduce_sum(\n",
        "          tf.stop_gradient(-dlog_q) * tf.cast(samples, tf.float64), -1))\n",
        "  return surrogate"
      ],
      "execution_count": null,
      "outputs": []
    },
    {
      "cell_type": "code",
      "metadata": {
        "id": "D2P4aL4kLMMg"
      },
      "source": [
        "# Estimator to be used for computing score gradients of implicit distributions\n",
        "# represtend as sets of particles.\n",
        "estimator = SpectralScoreEstimator(n_eigen_threshold=0.99, eta=0.0)"
      ],
      "execution_count": null,
      "outputs": []
    },
    {
      "cell_type": "code",
      "metadata": {
        "id": "gXbEKuDpL-L0"
      },
      "source": [
        "# TODO: Allow for customizable models.\n",
        "def _GetModel(meta_task_size=((1,), 5)):\n",
        "  kl_divergence_function = (lambda q, p, _:\n",
        "                            tfp.distributions.kl_divergence(q, p) /\n",
        "                            tf.cast(meta_task_size[1], dtype=tf.float64))\n",
        "\n",
        "  # Setup a feed forward BNN with 1 hidden layer.\n",
        "  model = tf.keras.Sequential([\n",
        "      tf.keras.Input(shape=meta_task_size[0],name='input'),\n",
        "      tfp.layers.DenseFlipout(10, kernel_divergence_fn=kl_divergence_function,\n",
        "                              activation=tf.nn.relu, name=\"dense_tfp_1\"),\n",
        "      tfp.layers.DenseFlipout(1,\n",
        "                              kernel_divergence_fn=kl_divergence_function,\n",
        "                              name=\"out_tfp_pred\"),\n",
        "  ])\n",
        "\n",
        "  return model"
      ],
      "execution_count": null,
      "outputs": []
    },
    {
      "cell_type": "markdown",
      "metadata": {
        "id": "f37ZS9Fa1_N6"
      },
      "source": [
        "Reframing variational inference in the function space, we arrive at the following objective formulation [Sun et al., 2019]\n",
        "\n",
        "\\begin{equation}\n",
        " \\log p(\\mathcal{D} \\vert f) - \\lambda KL(q \\Vert p) \\hspace{0.5cm}(1)\n",
        "\\end{equation}\n",
        "\n",
        "where $q, p$ represent the posterior, and the prior over function values.\n",
        "\n",
        "Using the reparametrization trick, function values $f(x) \\sim q(\\cdot)$ are drawn from a parameterized neural net $g_\\phi(x ; \\xi)$. Here $\\phi$ denotes the set of optimizable parameters, while $\\xi$ is a random perturbation under which the change of variable is performed. Hence, drawing samples $f(x) \\sim q$ is done by forwarding $x$ through $g_\\phi(\\cdot ; \\xi)$.\n",
        "\n",
        "In order to obtain a feasible optimization procedure from $(1)$, the $KL$ divergence gradient is then expanded as \n",
        "\n",
        "\\begin{equation}\n",
        " \\nabla_\\phi KL(q \\Vert p)  = \\mathbb{E}_{\\xi}[\\nabla_\\phi \\textbf{f} (\\nabla_\\textbf{f} \\log q(\\textbf{f}) - \\nabla_\\textbf{f}\\log p(\\textbf{f})  )] \\hspace{0.5cm}(2)\n",
        "\\end{equation}\n",
        "\n",
        "Note that the $KL$ term is made tractable by using SSGE [Shi et al., 2018] to extract gradients for the score functions, since both $q(\\cdot), p(\\cdot)$ are both implicit distributions represented as particles."
      ]
    },
    {
      "cell_type": "code",
      "metadata": {
        "id": "17AdJLvodP8K"
      },
      "source": [
        "# Draw samples from the variational posterior.\n",
        "def SamplePosterior(variational_posterior, n_particles, x, training=False):\n",
        "  return tf.stack([variational_posterior(x, training=training)  \n",
        "                    for _ in range(n_particles)])"
      ],
      "execution_count": null,
      "outputs": []
    },
    {
      "cell_type": "code",
      "metadata": {
        "id": "imt5TrXCIrC_",
        "colab": {
          "base_uri": "https://localhost:8080/"
        },
        "outputId": "62c32c66-6d57-4979-9eb9-82d8674ee17e"
      },
      "source": [
        "def Train(model=_GetModel(),\n",
        "          train_tasks=None,\n",
        "          test_tasks=None,\n",
        "          epochs=10,\n",
        "          n_particles=10,\n",
        "          task_size=5,\n",
        "          prior_particles=None,\n",
        "          use_functional_kl=True,\n",
        "          lambda_kl=1.0,\n",
        "          method='sliced_score_estimation',\n",
        "          config=None,\n",
        "          verbose=True):\n",
        "\n",
        "  \"\"\"\n",
        "  Utility function used to train a model to minimize the f-BNN loss.\n",
        "\n",
        "  @params:\n",
        "    -train_tasks: [(X_train_i, y_train_i)], list of pairs where X_train_i,\n",
        "      is the i-th meta-tuning input task and y_train_i the function values.\n",
        "    -test_tasks: same as |train_tasks|, only a smaller dataset of related tasks\n",
        "      used for testing.\n",
        "    -epochs: number of meta-iterations/epochs to train on the given tasks.   \n",
        "    -task_size: number of samples per task.\n",
        "    -n_particles: number of function values to draw from the variational \n",
        "      posterior at every input location (i.e. task); this will be used as the\n",
        "      empirical posterior over functions.\n",
        "    -prior_particles: particles (samples) to represent the true prior.\n",
        "    -use_functional_kl: if this is set to |True| the whole fELBO objective \n",
        "      is used for training - otherwise, we just do MLE and drop the prior term.\n",
        "    -lamba_kl: weight of the KL divergence term.\n",
        "    -method: method to be used for approximating log-prior gradients in case\n",
        "      the prior is represented as a set of particles.\n",
        "    -config: dictionary used to serialize some particular requirements needed\n",
        "      for calling the |prior_utils.ComputeCrossEntropy| utility function used\n",
        "      for computing the functional KL gradients.\n",
        "    -verbose: if this is set to |True| it prints relevant statistics concerning\n",
        "      the training progress.\n",
        "\n",
        "  @returns:\n",
        "    model: post-training variational posterior neural net.\n",
        "    test_losses: list containing losses recorded on the test set.\n",
        "  \"\"\"\n",
        "  mse = tf.keras.losses.MeanSquaredError()\n",
        "  optimizer = tf.keras.optimizers.Adam(0.001)\n",
        "  test_losses = [] # Record losses we see during testing.\n",
        "\n",
        "  if use_functional_kl:\n",
        "    print('Using %s for computing log-prior gradients. \\n' % method)\n",
        "\n",
        "  for epoch in range(epochs):\n",
        "    for i, (X_train, y_train) in enumerate(train_tasks): \n",
        "      with tf.GradientTape() as g:\n",
        "        predictions = SamplePosterior(model, n_particles, X_train, True)\n",
        "        log_likelihood = -mse(tf.reduce_mean(predictions, axis=0), y_train)\n",
        "        \n",
        "        if use_functional_kl:\n",
        "            # Use SSGE to approximate the log gradients of the functional\n",
        "            # posterior given the 'drawn' samples from the neural net.\n",
        "            # See Equation (2).\n",
        "            posterior_samples = (\n",
        "                predictions + np.random.normal(0, 1, size=predictions.shape))\n",
        "            entropy_sur = ApproximateEntropyGrads(estimator, posterior_samples)\n",
        "          \n",
        "            if 'gp' in method:\n",
        "              config['x'] = X_train\n",
        "              config['y'] = tf.squeeze(posterior_samples, axis=2)\n",
        "            elif 'ssge' in method:\n",
        "              config['y'] = posterior_samples\n",
        "            elif 'score' in method:\n",
        "              config['y'] = tf.reshape(posterior_samples,\n",
        "                  [n_particles *  len(y_train), -1])\n",
        "              \n",
        "            cross_entropy_sur = prior_utils.ComputeCrossEntropy(configs[method])\n",
        "            \n",
        "            # Add these up to produce the KL term to be optimized.\n",
        "            functional_kl = (tf.cast(entropy_sur, tf.float32) -\n",
        "                              tf.cast(cross_entropy_sur, tf.float32))\n",
        "            log_likelihood += (lambda_kl * tf.cast(functional_kl, tf.float64) /\n",
        "                              len(X_train))\n",
        "      \n",
        "        grads = g.gradient(-log_likelihood, model.trainable_weights)\n",
        "        optimizer.apply_gradients(zip(grads, model.trainable_weights))\n",
        "\n",
        "    if verbose and epoch % 2 == 0 and i == (len(train_tasks) - 1):\n",
        "      test_log_likelihoods = []\n",
        "\n",
        "      for X_test, y_test in test_tasks:\n",
        "        test_predictions = SamplePosterior(model, n_particles, X_test, False)\n",
        "        test_log_likelihood = -mse(tf.reduce_mean(predictions, axis=0), \n",
        "                                        y_test)\n",
        "        test_log_likelihoods.append(test_log_likelihood.numpy())\n",
        "        print('Epoch [%d] test log-likelihood: [%f]' % \n",
        "              (epoch, test_log_likelihood,))\n",
        "        test_losses.append(np.mean(test_log_likelihoods))\n",
        "      \n",
        "  return (model, test_losses)"
      ],
      "execution_count": null,
      "outputs": [
        {
          "output_type": "stream",
          "text": [
            "/usr/local/lib/python3.7/dist-packages/tensorflow/python/keras/engine/base_layer.py:2281: UserWarning: `layer.add_variable` is deprecated and will be removed in a future version. Please use `layer.add_weight` method instead.\n",
            "  warnings.warn('`layer.add_variable` is deprecated and '\n"
          ],
          "name": "stderr"
        }
      ]
    },
    {
      "cell_type": "markdown",
      "metadata": {
        "id": "X7_Tlu0v4BRY"
      },
      "source": [
        "## Results\n",
        "\n",
        "We run the models in two regimes:\n",
        "\n",
        "\n",
        "\n",
        "1.   Just use $MLE$ for training, no functional $KL$.\n",
        "2.   Use the full `f-bnn` objective (Eq. (1)), where we perform the log-prior gradient estimation with each of : `Sliced Score Estimation`, `GP Prior`, `Spectral Stein Gradient Estimator`.\n",
        "\n",
        "We run the training loop `tries_per_method` times for each of the 4 above combinations.\n",
        "\n"
      ]
    },
    {
      "cell_type": "code",
      "metadata": {
        "colab": {
          "base_uri": "https://localhost:8080/"
        },
        "id": "ybP0bwGSReVq",
        "outputId": "805c8a83-dc8e-4fb1-bb91-7863d95d38d1"
      },
      "source": [
        "from collections import defaultdict\n",
        "\n",
        "statistics = defaultdict(list)\n",
        "tries_per_method = 3\n",
        "n_particles = 10\n",
        "prior_particles = np.concatenate(tuple((y for _, y in meta_training_tasks)))\n",
        "prior_particles = np.squeeze(prior_particles, -1)\n",
        "  \n",
        "# Configs used as arguments for the `ComputeCrossEntropy` function, which\n",
        "# will be used for computing the log_prior gradients\n",
        "# (or approximate gradients). The method field indicates which log-prior\n",
        "# gradient scheme we will use. Only 'gp' comes with an analytical form.\n",
        "# for the gradients, trading off expresiveness.\n",
        "configs = {\n",
        "  'gp': {'method': 'gp',\n",
        "         'kernel_function': kernel,\n",
        "         'mean_function': mean_function},\n",
        "\n",
        "  'ssge': {'method': 'ssge',\n",
        "           'estimator': estimator,\n",
        "           'n_particles': n_particles,\n",
        "           'prior_particles': prior_particles},\n",
        "\n",
        "  'sliced_score_estimation': {\n",
        "      'method': 'sliced', \n",
        "    'score_estimator': score_net},\n",
        "\n",
        "  'mle' : {},\n",
        "}\n",
        "\n",
        "for method in [(False, 'mle'), (True, 'sliced_score_estimation'),\n",
        "               (True, 'ssge'), (True, 'gp')][::-1]:\n",
        "  for i in range(tries_per_method):\n",
        "    print(method, i)\n",
        "    model, test_losses = Train(\n",
        "        train_tasks=meta_tuning_train_tasks,\n",
        "        test_tasks=meta_tuning_test_tasks,\n",
        "        n_particles=n_particles,\n",
        "        prior_particles=prior_particles,\n",
        "        use_functional_kl=method[0],\n",
        "        method=method[1],\n",
        "        config=configs[method[1]],\n",
        "        verbose=True)\n",
        "    \n",
        "    statistics[method].append(test_losses[-1])"
      ],
      "execution_count": null,
      "outputs": [
        {
          "output_type": "stream",
          "text": [
            "(True, 'gp') 0\n",
            "Using gp for computing log-prior gradients. \n",
            "\n",
            "WARNING:tensorflow:From /content/gdrive/MyDrive/prior_learning/spectral_stein_grad/estimator/spectral.py:72: to_int32 (from tensorflow.python.ops.math_ops) is deprecated and will be removed in a future version.\n",
            "Instructions for updating:\n",
            "Use `tf.cast` instead.\n",
            "WARNING:tensorflow:From /usr/local/lib/python3.7/dist-packages/tensorflow_probability/python/distributions/distribution.py:298: MultivariateNormalFullCovariance.__init__ (from tensorflow_probability.python.distributions.mvn_full_covariance) is deprecated and will be removed after 2019-12-01.\n",
            "Instructions for updating:\n",
            "`MultivariateNormalFullCovariance` is deprecated, use `MultivariateNormalTriL(loc=loc, scale_tril=tf.linalg.cholesky(covariance_matrix))` instead.\n",
            "Epoch [0] test log-likelihood: [-0.277336]\n",
            "Epoch [0] test log-likelihood: [-0.388315]\n",
            "Epoch [0] test log-likelihood: [-0.305079]\n",
            "Epoch [0] test log-likelihood: [-0.330250]\n",
            "Epoch [0] test log-likelihood: [-0.527608]\n",
            "Epoch [2] test log-likelihood: [-0.216669]\n",
            "Epoch [2] test log-likelihood: [-0.318158]\n",
            "Epoch [2] test log-likelihood: [-0.242236]\n",
            "Epoch [2] test log-likelihood: [-0.261955]\n",
            "Epoch [2] test log-likelihood: [-0.444963]\n",
            "Epoch [4] test log-likelihood: [-0.165321]\n",
            "Epoch [4] test log-likelihood: [-0.253671]\n",
            "Epoch [4] test log-likelihood: [-0.186518]\n",
            "Epoch [4] test log-likelihood: [-0.205245]\n",
            "Epoch [4] test log-likelihood: [-0.367441]\n",
            "Epoch [6] test log-likelihood: [-0.133088]\n",
            "Epoch [6] test log-likelihood: [-0.212441]\n",
            "Epoch [6] test log-likelihood: [-0.151134]\n",
            "Epoch [6] test log-likelihood: [-0.168518]\n",
            "Epoch [6] test log-likelihood: [-0.317110]\n",
            "Epoch [8] test log-likelihood: [-0.101536]\n",
            "Epoch [8] test log-likelihood: [-0.173755]\n",
            "Epoch [8] test log-likelihood: [-0.118302]\n",
            "Epoch [8] test log-likelihood: [-0.132543]\n",
            "Epoch [8] test log-likelihood: [-0.267334]\n",
            "(True, 'gp') 1\n",
            "Using gp for computing log-prior gradients. \n",
            "\n",
            "Epoch [0] test log-likelihood: [-0.071084]\n",
            "Epoch [0] test log-likelihood: [-0.133835]\n",
            "Epoch [0] test log-likelihood: [-0.083694]\n",
            "Epoch [0] test log-likelihood: [-0.094713]\n",
            "Epoch [0] test log-likelihood: [-0.214515]\n",
            "Epoch [2] test log-likelihood: [-0.051564]\n",
            "Epoch [2] test log-likelihood: [-0.103836]\n",
            "Epoch [2] test log-likelihood: [-0.060651]\n",
            "Epoch [2] test log-likelihood: [-0.070493]\n",
            "Epoch [2] test log-likelihood: [-0.176497]\n",
            "Epoch [4] test log-likelihood: [-0.033955]\n",
            "Epoch [4] test log-likelihood: [-0.082144]\n",
            "Epoch [4] test log-likelihood: [-0.041641]\n",
            "Epoch [4] test log-likelihood: [-0.047815]\n",
            "Epoch [4] test log-likelihood: [-0.141358]\n",
            "Epoch [6] test log-likelihood: [-0.023686]\n",
            "Epoch [6] test log-likelihood: [-0.070683]\n",
            "Epoch [6] test log-likelihood: [-0.033227]\n",
            "Epoch [6] test log-likelihood: [-0.033427]\n",
            "Epoch [6] test log-likelihood: [-0.121847]\n",
            "Epoch [8] test log-likelihood: [-0.023451]\n",
            "Epoch [8] test log-likelihood: [-0.066681]\n",
            "Epoch [8] test log-likelihood: [-0.030250]\n",
            "Epoch [8] test log-likelihood: [-0.031428]\n",
            "Epoch [8] test log-likelihood: [-0.117243]\n",
            "(True, 'gp') 2\n",
            "Using gp for computing log-prior gradients. \n",
            "\n",
            "Epoch [0] test log-likelihood: [-0.018493]\n",
            "Epoch [0] test log-likelihood: [-0.056147]\n",
            "Epoch [0] test log-likelihood: [-0.023794]\n",
            "Epoch [0] test log-likelihood: [-0.026744]\n",
            "Epoch [0] test log-likelihood: [-0.102540]\n",
            "Epoch [2] test log-likelihood: [-0.015659]\n",
            "Epoch [2] test log-likelihood: [-0.049540]\n",
            "Epoch [2] test log-likelihood: [-0.018981]\n",
            "Epoch [2] test log-likelihood: [-0.020215]\n",
            "Epoch [2] test log-likelihood: [-0.092302]\n",
            "Epoch [4] test log-likelihood: [-0.016241]\n",
            "Epoch [4] test log-likelihood: [-0.052403]\n",
            "Epoch [4] test log-likelihood: [-0.019914]\n",
            "Epoch [4] test log-likelihood: [-0.019800]\n",
            "Epoch [4] test log-likelihood: [-0.094087]\n",
            "Epoch [6] test log-likelihood: [-0.013586]\n",
            "Epoch [6] test log-likelihood: [-0.048559]\n",
            "Epoch [6] test log-likelihood: [-0.016895]\n",
            "Epoch [6] test log-likelihood: [-0.015945]\n",
            "Epoch [6] test log-likelihood: [-0.085472]\n",
            "Epoch [8] test log-likelihood: [-0.014460]\n",
            "Epoch [8] test log-likelihood: [-0.047132]\n",
            "Epoch [8] test log-likelihood: [-0.016499]\n",
            "Epoch [8] test log-likelihood: [-0.017045]\n",
            "Epoch [8] test log-likelihood: [-0.085457]\n",
            "(True, 'ssge') 0\n",
            "Using ssge for computing log-prior gradients. \n",
            "\n",
            "Epoch [0] test log-likelihood: [-0.010380]\n",
            "Epoch [0] test log-likelihood: [-0.038122]\n",
            "Epoch [0] test log-likelihood: [-0.013252]\n",
            "Epoch [0] test log-likelihood: [-0.013677]\n",
            "Epoch [0] test log-likelihood: [-0.073409]\n",
            "Epoch [2] test log-likelihood: [-0.013238]\n",
            "Epoch [2] test log-likelihood: [-0.036694]\n",
            "Epoch [2] test log-likelihood: [-0.011528]\n",
            "Epoch [2] test log-likelihood: [-0.014417]\n",
            "Epoch [2] test log-likelihood: [-0.074199]\n",
            "Epoch [4] test log-likelihood: [-0.011153]\n",
            "Epoch [4] test log-likelihood: [-0.037525]\n",
            "Epoch [4] test log-likelihood: [-0.013619]\n",
            "Epoch [4] test log-likelihood: [-0.015302]\n",
            "Epoch [4] test log-likelihood: [-0.075945]\n",
            "Epoch [6] test log-likelihood: [-0.012728]\n",
            "Epoch [6] test log-likelihood: [-0.033718]\n",
            "Epoch [6] test log-likelihood: [-0.011378]\n",
            "Epoch [6] test log-likelihood: [-0.016636]\n",
            "Epoch [6] test log-likelihood: [-0.072703]\n",
            "Epoch [8] test log-likelihood: [-0.016178]\n",
            "Epoch [8] test log-likelihood: [-0.038100]\n",
            "Epoch [8] test log-likelihood: [-0.012371]\n",
            "Epoch [8] test log-likelihood: [-0.020216]\n",
            "Epoch [8] test log-likelihood: [-0.080216]\n",
            "(True, 'ssge') 1\n",
            "Using ssge for computing log-prior gradients. \n",
            "\n",
            "Epoch [0] test log-likelihood: [-0.015359]\n",
            "Epoch [0] test log-likelihood: [-0.033879]\n",
            "Epoch [0] test log-likelihood: [-0.011186]\n",
            "Epoch [0] test log-likelihood: [-0.019213]\n",
            "Epoch [0] test log-likelihood: [-0.074541]\n",
            "Epoch [2] test log-likelihood: [-0.016573]\n",
            "Epoch [2] test log-likelihood: [-0.032074]\n",
            "Epoch [2] test log-likelihood: [-0.010049]\n",
            "Epoch [2] test log-likelihood: [-0.020296]\n",
            "Epoch [2] test log-likelihood: [-0.073045]\n",
            "Epoch [4] test log-likelihood: [-0.014678]\n",
            "Epoch [4] test log-likelihood: [-0.027237]\n",
            "Epoch [4] test log-likelihood: [-0.008111]\n",
            "Epoch [4] test log-likelihood: [-0.016163]\n",
            "Epoch [4] test log-likelihood: [-0.064600]\n",
            "Epoch [6] test log-likelihood: [-0.013827]\n",
            "Epoch [6] test log-likelihood: [-0.025525]\n",
            "Epoch [6] test log-likelihood: [-0.006899]\n",
            "Epoch [6] test log-likelihood: [-0.014622]\n",
            "Epoch [6] test log-likelihood: [-0.059822]\n",
            "Epoch [8] test log-likelihood: [-0.015823]\n",
            "Epoch [8] test log-likelihood: [-0.028930]\n",
            "Epoch [8] test log-likelihood: [-0.008885]\n",
            "Epoch [8] test log-likelihood: [-0.020480]\n",
            "Epoch [8] test log-likelihood: [-0.068137]\n",
            "(True, 'ssge') 2\n",
            "Using ssge for computing log-prior gradients. \n",
            "\n",
            "Epoch [0] test log-likelihood: [-0.015758]\n",
            "Epoch [0] test log-likelihood: [-0.029193]\n",
            "Epoch [0] test log-likelihood: [-0.008013]\n",
            "Epoch [0] test log-likelihood: [-0.017053]\n",
            "Epoch [0] test log-likelihood: [-0.067016]\n",
            "Epoch [2] test log-likelihood: [-0.014898]\n",
            "Epoch [2] test log-likelihood: [-0.025719]\n",
            "Epoch [2] test log-likelihood: [-0.007738]\n",
            "Epoch [2] test log-likelihood: [-0.017304]\n",
            "Epoch [2] test log-likelihood: [-0.062678]\n",
            "Epoch [4] test log-likelihood: [-0.014978]\n",
            "Epoch [4] test log-likelihood: [-0.023591]\n",
            "Epoch [4] test log-likelihood: [-0.006357]\n",
            "Epoch [4] test log-likelihood: [-0.016118]\n",
            "Epoch [4] test log-likelihood: [-0.057899]\n",
            "Epoch [6] test log-likelihood: [-0.014893]\n",
            "Epoch [6] test log-likelihood: [-0.029328]\n",
            "Epoch [6] test log-likelihood: [-0.008778]\n",
            "Epoch [6] test log-likelihood: [-0.018616]\n",
            "Epoch [6] test log-likelihood: [-0.066406]\n",
            "Epoch [8] test log-likelihood: [-0.016858]\n",
            "Epoch [8] test log-likelihood: [-0.026724]\n",
            "Epoch [8] test log-likelihood: [-0.006699]\n",
            "Epoch [8] test log-likelihood: [-0.017890]\n",
            "Epoch [8] test log-likelihood: [-0.064022]\n",
            "(True, 'sliced_score_estimation') 0\n",
            "Using sliced_score_estimation for computing log-prior gradients. \n",
            "\n",
            "Epoch [0] test log-likelihood: [-0.015233]\n",
            "Epoch [0] test log-likelihood: [-0.016533]\n",
            "Epoch [0] test log-likelihood: [-0.004455]\n",
            "Epoch [0] test log-likelihood: [-0.011514]\n",
            "Epoch [0] test log-likelihood: [-0.041940]\n",
            "Epoch [2] test log-likelihood: [-0.033518]\n",
            "Epoch [2] test log-likelihood: [-0.009604]\n",
            "Epoch [2] test log-likelihood: [-0.016834]\n",
            "Epoch [2] test log-likelihood: [-0.021946]\n",
            "Epoch [2] test log-likelihood: [-0.013399]\n",
            "Epoch [4] test log-likelihood: [-0.080616]\n",
            "Epoch [4] test log-likelihood: [-0.032084]\n",
            "Epoch [4] test log-likelihood: [-0.055347]\n",
            "Epoch [4] test log-likelihood: [-0.055490]\n",
            "Epoch [4] test log-likelihood: [-0.014162]\n",
            "Epoch [6] test log-likelihood: [-0.161301]\n",
            "Epoch [6] test log-likelihood: [-0.082813]\n",
            "Epoch [6] test log-likelihood: [-0.123258]\n",
            "Epoch [6] test log-likelihood: [-0.120818]\n",
            "Epoch [6] test log-likelihood: [-0.044575]\n",
            "Epoch [8] test log-likelihood: [-0.296350]\n",
            "Epoch [8] test log-likelihood: [-0.191153]\n",
            "Epoch [8] test log-likelihood: [-0.250476]\n",
            "Epoch [8] test log-likelihood: [-0.239707]\n",
            "Epoch [8] test log-likelihood: [-0.119229]\n",
            "(True, 'sliced_score_estimation') 1\n",
            "Using sliced_score_estimation for computing log-prior gradients. \n",
            "\n",
            "Epoch [0] test log-likelihood: [-0.497805]\n",
            "Epoch [0] test log-likelihood: [-0.355285]\n",
            "Epoch [0] test log-likelihood: [-0.441705]\n",
            "Epoch [0] test log-likelihood: [-0.423122]\n",
            "Epoch [0] test log-likelihood: [-0.261388]\n",
            "Epoch [2] test log-likelihood: [-0.662108]\n",
            "Epoch [2] test log-likelihood: [-0.493645]\n",
            "Epoch [2] test log-likelihood: [-0.596312]\n",
            "Epoch [2] test log-likelihood: [-0.579426]\n",
            "Epoch [2] test log-likelihood: [-0.372354]\n",
            "Epoch [4] test log-likelihood: [-1.014539]\n",
            "Epoch [4] test log-likelihood: [-0.802092]\n",
            "Epoch [4] test log-likelihood: [-0.933744]\n",
            "Epoch [4] test log-likelihood: [-0.912332]\n",
            "Epoch [4] test log-likelihood: [-0.646037]\n",
            "Epoch [6] test log-likelihood: [-1.302258]\n",
            "Epoch [6] test log-likelihood: [-1.054506]\n",
            "Epoch [6] test log-likelihood: [-1.212697]\n",
            "Epoch [6] test log-likelihood: [-1.188164]\n",
            "Epoch [6] test log-likelihood: [-0.883490]\n",
            "Epoch [8] test log-likelihood: [-1.643577]\n",
            "Epoch [8] test log-likelihood: [-1.357886]\n",
            "Epoch [8] test log-likelihood: [-1.535189]\n",
            "Epoch [8] test log-likelihood: [-1.507901]\n",
            "Epoch [8] test log-likelihood: [-1.168562]\n",
            "(True, 'sliced_score_estimation') 2\n",
            "Using sliced_score_estimation for computing log-prior gradients. \n",
            "\n",
            "Epoch [0] test log-likelihood: [-2.081730]\n",
            "Epoch [0] test log-likelihood: [-1.750153]\n",
            "Epoch [0] test log-likelihood: [-1.958206]\n",
            "Epoch [0] test log-likelihood: [-1.939399]\n",
            "Epoch [0] test log-likelihood: [-1.531450]\n",
            "Epoch [2] test log-likelihood: [-2.519393]\n",
            "Epoch [2] test log-likelihood: [-2.159925]\n",
            "Epoch [2] test log-likelihood: [-2.390797]\n",
            "Epoch [2] test log-likelihood: [-2.360146]\n",
            "Epoch [2] test log-likelihood: [-1.919044]\n",
            "Epoch [4] test log-likelihood: [-2.834885]\n",
            "Epoch [4] test log-likelihood: [-2.440290]\n",
            "Epoch [4] test log-likelihood: [-2.685706]\n",
            "Epoch [4] test log-likelihood: [-2.663768]\n",
            "Epoch [4] test log-likelihood: [-2.185293]\n",
            "Epoch [6] test log-likelihood: [-2.851663]\n",
            "Epoch [6] test log-likelihood: [-2.470259]\n",
            "Epoch [6] test log-likelihood: [-2.714462]\n",
            "Epoch [6] test log-likelihood: [-2.680384]\n",
            "Epoch [6] test log-likelihood: [-2.206792]\n",
            "Epoch [8] test log-likelihood: [-3.243682]\n",
            "Epoch [8] test log-likelihood: [-2.849945]\n",
            "Epoch [8] test log-likelihood: [-3.109153]\n",
            "Epoch [8] test log-likelihood: [-3.063060]\n",
            "Epoch [8] test log-likelihood: [-2.559704]\n",
            "(False, 'mle') 0\n",
            "Epoch [0] test log-likelihood: [-3.043433]\n",
            "Epoch [0] test log-likelihood: [-2.645111]\n",
            "Epoch [0] test log-likelihood: [-2.900107]\n",
            "Epoch [0] test log-likelihood: [-2.868698]\n",
            "Epoch [0] test log-likelihood: [-2.373788]\n",
            "Epoch [2] test log-likelihood: [-1.967297]\n",
            "Epoch [2] test log-likelihood: [-1.666465]\n",
            "Epoch [2] test log-likelihood: [-1.862445]\n",
            "Epoch [2] test log-likelihood: [-1.828286]\n",
            "Epoch [2] test log-likelihood: [-1.440097]\n",
            "Epoch [4] test log-likelihood: [-1.652798]\n",
            "Epoch [4] test log-likelihood: [-1.372502]\n",
            "Epoch [4] test log-likelihood: [-1.548048]\n",
            "Epoch [4] test log-likelihood: [-1.521581]\n",
            "Epoch [4] test log-likelihood: [-1.167554]\n",
            "Epoch [6] test log-likelihood: [-1.167435]\n",
            "Epoch [6] test log-likelihood: [-0.942464]\n",
            "Epoch [6] test log-likelihood: [-1.085320]\n",
            "Epoch [6] test log-likelihood: [-1.059780]\n",
            "Epoch [6] test log-likelihood: [-0.768074]\n",
            "Epoch [8] test log-likelihood: [-0.913450]\n",
            "Epoch [8] test log-likelihood: [-0.720306]\n",
            "Epoch [8] test log-likelihood: [-0.842816]\n",
            "Epoch [8] test log-likelihood: [-0.817520]\n",
            "Epoch [8] test log-likelihood: [-0.566408]\n",
            "(False, 'mle') 1\n",
            "Epoch [0] test log-likelihood: [-0.622400]\n",
            "Epoch [0] test log-likelihood: [-0.463615]\n",
            "Epoch [0] test log-likelihood: [-0.561019]\n",
            "Epoch [0] test log-likelihood: [-0.539496]\n",
            "Epoch [0] test log-likelihood: [-0.348283]\n",
            "Epoch [2] test log-likelihood: [-0.409338]\n",
            "Epoch [2] test log-likelihood: [-0.289346]\n",
            "Epoch [2] test log-likelihood: [-0.361715]\n",
            "Epoch [2] test log-likelihood: [-0.342673]\n",
            "Epoch [2] test log-likelihood: [-0.194643]\n",
            "Epoch [4] test log-likelihood: [-0.233753]\n",
            "Epoch [4] test log-likelihood: [-0.147933]\n",
            "Epoch [4] test log-likelihood: [-0.197483]\n",
            "Epoch [4] test log-likelihood: [-0.184738]\n",
            "Epoch [4] test log-likelihood: [-0.082651]\n",
            "Epoch [6] test log-likelihood: [-0.154102]\n",
            "Epoch [6] test log-likelihood: [-0.068170]\n",
            "Epoch [6] test log-likelihood: [-0.109700]\n",
            "Epoch [6] test log-likelihood: [-0.119883]\n",
            "Epoch [6] test log-likelihood: [-0.035216]\n",
            "Epoch [8] test log-likelihood: [-0.098548]\n",
            "Epoch [8] test log-likelihood: [-0.028725]\n",
            "Epoch [8] test log-likelihood: [-0.057772]\n",
            "Epoch [8] test log-likelihood: [-0.071945]\n",
            "Epoch [8] test log-likelihood: [-0.022292]\n",
            "(False, 'mle') 2\n",
            "Epoch [0] test log-likelihood: [-0.062859]\n",
            "Epoch [0] test log-likelihood: [-0.007182]\n",
            "Epoch [0] test log-likelihood: [-0.026307]\n",
            "Epoch [0] test log-likelihood: [-0.051608]\n",
            "Epoch [0] test log-likelihood: [-0.026953]\n",
            "Epoch [2] test log-likelihood: [-0.028653]\n",
            "Epoch [2] test log-likelihood: [-0.010596]\n",
            "Epoch [2] test log-likelihood: [-0.008590]\n",
            "Epoch [2] test log-likelihood: [-0.026980]\n",
            "Epoch [2] test log-likelihood: [-0.037451]\n",
            "Epoch [4] test log-likelihood: [-0.026572]\n",
            "Epoch [4] test log-likelihood: [-0.016719]\n",
            "Epoch [4] test log-likelihood: [-0.007211]\n",
            "Epoch [4] test log-likelihood: [-0.027403]\n",
            "Epoch [4] test log-likelihood: [-0.052471]\n",
            "Epoch [6] test log-likelihood: [-0.015007]\n",
            "Epoch [6] test log-likelihood: [-0.023391]\n",
            "Epoch [6] test log-likelihood: [-0.009550]\n",
            "Epoch [6] test log-likelihood: [-0.014282]\n",
            "Epoch [6] test log-likelihood: [-0.058844]\n",
            "Epoch [8] test log-likelihood: [-0.014235]\n",
            "Epoch [8] test log-likelihood: [-0.022047]\n",
            "Epoch [8] test log-likelihood: [-0.007795]\n",
            "Epoch [8] test log-likelihood: [-0.013230]\n",
            "Epoch [8] test log-likelihood: [-0.060709]\n"
          ],
          "name": "stdout"
        }
      ]
    },
    {
      "cell_type": "code",
      "metadata": {
        "colab": {
          "base_uri": "https://localhost:8080/"
        },
        "id": "Rl58_ZNuXqRW",
        "outputId": "00ecc45a-d845-4eb9-d16a-f180a466f088"
      },
      "source": [
        "# Show confidence intervals for all results corresponding to each method.\n",
        "import scipy.stats as st\n",
        "\n",
        "for method, results in statistics.items():\n",
        "  print(method[1], ': ', st.t.interval(0.95, len(results) - 1,\n",
        "                                 loc=np.mean(results), scale=st.sem(results)))"
      ],
      "execution_count": null,
      "outputs": [
        {
          "output_type": "stream",
          "text": [
            "gp :  (-0.24746061441143669, 0.08171181953788116)\n",
            "ssge :  (-0.038356504123409185, -0.020513906299074902)\n",
            "sliced_score_estimation :  (-4.959496584458744, 1.8747533996140913)\n",
            "mle :  (-1.334995230720825, 0.7672888367115329)\n"
          ],
          "name": "stdout"
        }
      ]
    }
  ]
}