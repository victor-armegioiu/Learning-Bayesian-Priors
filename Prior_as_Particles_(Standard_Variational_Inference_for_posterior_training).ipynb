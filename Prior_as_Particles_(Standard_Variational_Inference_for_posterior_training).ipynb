{
  "nbformat": 4,
  "nbformat_minor": 0,
  "metadata": {
    "accelerator": "GPU",
    "colab": {
      "name": "Prior as Particles (Standard Variational Inference for posterior training).ipynb",
      "provenance": [],
      "collapsed_sections": [],
      "toc_visible": true,
      "authorship_tag": "ABX9TyMw7nP3qMSNXVpKwGGMugN5",
      "include_colab_link": true
    },
    "kernelspec": {
      "display_name": "Python 3",
      "name": "python3"
    }
  },
  "cells": [
    {
      "cell_type": "markdown",
      "metadata": {
        "id": "view-in-github",
        "colab_type": "text"
      },
      "source": [
        "<a href=\"https://colab.research.google.com/github/victor-armegioiu/Meta-Learning-Bayesian-Priors/blob/main/Prior_as_Particles_(Standard_Variational_Inference_for_posterior_training).ipynb\" target=\"_parent\"><img src=\"https://colab.research.google.com/assets/colab-badge.svg\" alt=\"Open In Colab\"/></a>"
      ]
    },
    {
      "cell_type": "markdown",
      "metadata": {
        "id": "Ttj1NMzeLb7l"
      },
      "source": [
        "# Better priors represented as particles\n",
        "\n",
        "---\n",
        "\n",
        "Seed papers: FUNCTIONAL VARIATIONAL BAYESIAN NEURAL NETWORKS (https://arxiv.org/pdf/1903.05779.pdf)\n",
        "\n",
        "Understanding Variational Inference in Function-Space (https://arxiv.org/pdf/2011.09421.pdf)\n",
        "\n"
      ]
    },
    {
      "cell_type": "markdown",
      "metadata": {
        "id": "3HNFtn3JLmBv"
      },
      "source": [
        "## Setup \n",
        "\n",
        "Necessary imports, setting up the Colab environment."
      ]
    },
    {
      "cell_type": "code",
      "metadata": {
        "id": "emnY7qQ_D27i",
        "colab": {
          "base_uri": "https://localhost:8080/"
        },
        "outputId": "4f400789-91cb-46f5-a794-aa8318fdc11b"
      },
      "source": [
        "from google.colab import drive\n",
        "drive.mount('/content/gdrive')"
      ],
      "execution_count": null,
      "outputs": [
        {
          "output_type": "stream",
          "text": [
            "Mounted at /content/gdrive\n"
          ],
          "name": "stdout"
        }
      ]
    },
    {
      "cell_type": "code",
      "metadata": {
        "id": "fDhq3YG2Lh57"
      },
      "source": [
        "# gpflow doesn't come preloaded with colab.\n",
        "!pip3 install gpflow"
      ],
      "execution_count": null,
      "outputs": []
    },
    {
      "cell_type": "code",
      "metadata": {
        "colab": {
          "base_uri": "https://localhost:8080/"
        },
        "id": "Ks43pRGGFeLZ",
        "outputId": "8134bf71-21ef-4eb4-b91b-0bd19a7ee254"
      },
      "source": [
        "import numpy as np\n",
        "import time\n",
        "\n",
        "from sklearn.preprocessing import StandardScaler\n",
        "from sklearn.datasets import make_regression\n",
        "from sklearn.model_selection import train_test_split\n",
        "\n",
        "import tensorflow as tf\n",
        "import tensorflow_probability as tfp\n",
        "\n",
        "import matplotlib\n",
        "import matplotlib.pyplot as plt\n",
        "\n",
        "from gdrive.MyDrive.prior_learning.spectral_stein_grad.estimator import SpectralScoreEstimator\n",
        "from gdrive.MyDrive.prior_learning import data_utils\n",
        "from gdrive.MyDrive.prior_learning import gp_utils\n",
        "from gdrive.MyDrive.prior_learning import prior_utils\n",
        "from gdrive.MyDrive.prior_learning import sliced_score_estimation\n",
        "\n",
        "tf.compat.v1.enable_eager_execution()\n"
      ],
      "execution_count": null,
      "outputs": [
        {
          "output_type": "stream",
          "text": [
            "WARNING:tensorflow:From /usr/local/lib/python3.7/dist-packages/tensorflow/python/compat/v2_compat.py:96: disable_resource_variables (from tensorflow.python.ops.variable_scope) is deprecated and will be removed in a future version.\n",
            "Instructions for updating:\n",
            "non-resource variables are not supported in the long term\n"
          ],
          "name": "stdout"
        }
      ]
    },
    {
      "cell_type": "code",
      "metadata": {
        "colab": {
          "base_uri": "https://localhost:8080/"
        },
        "id": "jpyirMceU8rl",
        "outputId": "41963e86-b8bb-4b34-d75c-39537bb625c2"
      },
      "source": [
        "tf.executing_eagerly()"
      ],
      "execution_count": null,
      "outputs": [
        {
          "output_type": "execute_result",
          "data": {
            "text/plain": [
              "True"
            ]
          },
          "metadata": {
            "tags": []
          },
          "execution_count": 4
        }
      ]
    },
    {
      "cell_type": "code",
      "metadata": {
        "colab": {
          "base_uri": "https://localhost:8080/"
        },
        "id": "exSRRJaSZHEA",
        "outputId": "aa2c9e4f-328f-4f66-d6e7-b870c35eeed9"
      },
      "source": [
        "tf.config.list_physical_devices('GPU') "
      ],
      "execution_count": null,
      "outputs": [
        {
          "output_type": "execute_result",
          "data": {
            "text/plain": [
              "[PhysicalDevice(name='/physical_device:GPU:0', device_type='GPU')]"
            ]
          },
          "metadata": {
            "tags": []
          },
          "execution_count": 5
        }
      ]
    },
    {
      "cell_type": "markdown",
      "metadata": {
        "id": "AtFYyye2Lq1G"
      },
      "source": [
        "## Building the dataset\n",
        "\n",
        "We assume a typical meta-learning scenario, where one has access to a limited number of related tasks which are assumed to be generated under the same generating process. Naturally, we expect the underlying generating parameters of each task to be subject to small perturbations, rendering a family of functions. \n",
        "Specifically, we assume access to a \\textit{meta-training} dataset $\\mathcal{D}_{\\text{train}} := \\{T_i\\}_{i=1}^m$ where each task $T_i := \\{(x_j, y_j)\\}_{j=1}^k$ corresponds to a meta-learning task.\n",
        "Analogously, we assume access to a \\textit{meta-tuning} dataset $\\mathcal{D}_{\\text{tune}} := \\{T_i\\}_{i=1}^n$, where typically $n \\ll m$. \\\\\n",
        "\n",
        "\n",
        "In this example, we generate the index sets per task as $X_i \\sim \\mathcal{U}(-5, 5)$ and apply a linear combination of a scaled + shifted sinusoid and an affine transform to get the targets $y_i$."
      ]
    },
    {
      "cell_type": "code",
      "metadata": {
        "id": "SC6KrF3DNlZG"
      },
      "source": [
        "config = {\n",
        "    'generation_method': 'sine', \n",
        "    'meta_training_task_cnt': 50,   # Meta tasks used for prior learning.\n",
        "    'meta_tuning_task_cnt': 25,     # Meta tasks to deploy learned priors on.\n",
        "    'task_size': 5, # Number of inputs/outputs per meta-task.\n",
        "    'input_shape': (1,),\n",
        "}"
      ],
      "execution_count": null,
      "outputs": []
    },
    {
      "cell_type": "code",
      "metadata": {
        "id": "qAhcM4vPgZBE"
      },
      "source": [
        "meta_training_tasks, meta_tuning_tasks = data_utils.GetDataset(config)"
      ],
      "execution_count": null,
      "outputs": []
    },
    {
      "cell_type": "code",
      "metadata": {
        "id": "0WoIeHxbpzcX"
      },
      "source": [
        "def NormalizeData(tasks, scaler=None, y_max=None):\n",
        "  if not scaler or not y_max:\n",
        "    scaler = StandardScaler()\n",
        "    y_max = np.max([np.max(y) for _, y in tasks])\n",
        "  for x, y in tasks:\n",
        "    x = scaler.fit_transform(x)\n",
        "    y /= y_max\n",
        "  return tasks, scaler, y_max"
      ],
      "execution_count": null,
      "outputs": []
    },
    {
      "cell_type": "markdown",
      "metadata": {
        "id": "WI1ZtuUVxg5d"
      },
      "source": [
        "Use last `test_tasks_cnt` for testing, and leave the rest for training. "
      ]
    },
    {
      "cell_type": "code",
      "metadata": {
        "id": "o8AB9zYEqYJl"
      },
      "source": [
        "test_tasks_cnt = 5"
      ],
      "execution_count": null,
      "outputs": []
    },
    {
      "cell_type": "code",
      "metadata": {
        "id": "VQZtL6nxglLY"
      },
      "source": [
        "# Use the same scaler in order to ensure that we don't inject knowledge\n",
        "# about the test distribution in our training biases.\n",
        "meta_tuning_train_tasks, scaler, y_max = NormalizeData(\n",
        "    meta_tuning_tasks[:-test_tasks_cnt])\n",
        "meta_tuning_test_tasks, _ , _ = NormalizeData(meta_tuning_tasks[-test_tasks_cnt:],\n",
        "                                       scaler, y_max)"
      ],
      "execution_count": null,
      "outputs": []
    },
    {
      "cell_type": "code",
      "metadata": {
        "id": "eemwpWnDwnOi"
      },
      "source": [
        "# Scale meta_training_tasks as well.\n",
        "meta_training_tasks, _, _ = NormalizeData(meta_training_tasks)"
      ],
      "execution_count": null,
      "outputs": []
    },
    {
      "cell_type": "code",
      "metadata": {
        "colab": {
          "base_uri": "https://localhost:8080/",
          "height": 279
        },
        "id": "K7YNPV1PtCA6",
        "outputId": "5c06946a-926f-477f-c372-929fc823fb7c"
      },
      "source": [
        "for x, y in meta_training_tasks:\n",
        "  plt.plot(x, y)\n",
        "\n",
        "plt.xlabel('x')\n",
        "plt.ylabel('y')\n",
        "plt.show()"
      ],
      "execution_count": null,
      "outputs": [
        {
          "output_type": "display_data",
          "data": {
            "image/png": "[encoded data removed]",
            "text/plain": [
              "<Figure size 432x288 with 1 Axes>"
            ]
          },
          "metadata": {
            "tags": [],
            "needs_background": "light"
          }
        }
      ]
    },
    {
      "cell_type": "markdown",
      "metadata": {
        "id": "hUczRSqDrgyZ"
      },
      "source": [
        "## GP Prior Setup\n",
        "\n",
        "Train a $\\mathcal{GP}$ on the training data, so that we may later use the tuned kernel for estimating the covariance of a Normal distribution over function values (this shall be used as the prior in the `f-bnn` formulation below)."
      ]
    },
    {
      "cell_type": "code",
      "metadata": {
        "id": "R8reHpDqdZNH",
        "colab": {
          "base_uri": "https://localhost:8080/"
        },
        "outputId": "2fbc404e-b1c0-4d1f-927f-b92c86277eb5"
      },
      "source": [
        "# Pre-train GP prior.\n",
        "mean_function, kernel = gp_utils.TrainGPPrior(meta_training_tasks, verbose=True)"
      ],
      "execution_count": null,
      "outputs": [
        {
          "output_type": "stream",
          "text": [
            "\n",
            "Currently in meta-iteration/epoch 1/5:\n",
            "Task 0 log-likelihood: -3.7750250207451304\n",
            "Task 5 log-likelihood: -3.2330909424772254\n",
            "Task 10 log-likelihood: -4.061008122384356\n",
            "Task 15 log-likelihood: -2.9485684041205356\n",
            "Task 20 log-likelihood: -1.909679540571262\n",
            "Task 25 log-likelihood: -3.1834974359729653\n",
            "Task 30 log-likelihood: -3.378207717651333\n",
            "Task 35 log-likelihood: -2.304519649493973\n",
            "Task 40 log-likelihood: -3.9556384262021798\n",
            "Task 45 log-likelihood: -0.4283011730660409\n",
            "\n",
            "Currently in meta-iteration/epoch 2/5:\n",
            "Task 0 log-likelihood: -3.0978048628137618\n",
            "Task 5 log-likelihood: -2.5381467569926977\n",
            "Task 10 log-likelihood: -3.46851763086669\n",
            "Task 15 log-likelihood: -2.197660113521658\n",
            "Task 20 log-likelihood: -1.3657665460244255\n",
            "Task 25 log-likelihood: -2.6716597324755766\n",
            "Task 30 log-likelihood: -2.7715235769416333\n",
            "Task 35 log-likelihood: -1.7378007975642658\n",
            "Task 40 log-likelihood: -3.3690279852838487\n",
            "Task 45 log-likelihood: 0.03496381071207999\n",
            "\n",
            "Currently in meta-iteration/epoch 3/5:\n",
            "Task 0 log-likelihood: -2.4550504431028584\n",
            "Task 5 log-likelihood: -1.9308166728840308\n",
            "Task 10 log-likelihood: -2.9115950448601535\n",
            "Task 15 log-likelihood: -1.454210737056628\n",
            "Task 20 log-likelihood: -0.8448884793442835\n",
            "Task 25 log-likelihood: -2.162998663633897\n",
            "Task 30 log-likelihood: -2.121473528081171\n",
            "Task 35 log-likelihood: -1.1829828608776238\n",
            "Task 40 log-likelihood: -2.745671274151346\n",
            "Task 45 log-likelihood: 0.4821857331368786\n",
            "\n",
            "Currently in meta-iteration/epoch 4/5:\n",
            "Task 0 log-likelihood: -1.8054632835807487\n",
            "Task 5 log-likelihood: -1.3084731913700702\n",
            "Task 10 log-likelihood: -2.3292057269563617\n",
            "Task 15 log-likelihood: -0.7103672305673161\n",
            "Task 20 log-likelihood: -0.3370362088487866\n",
            "Task 25 log-likelihood: -1.6410232563680482\n",
            "Task 30 log-likelihood: -1.4711412707321476\n",
            "Task 35 log-likelihood: -0.6284163268224425\n",
            "Task 40 log-likelihood: -2.0760946257273467\n",
            "Task 45 log-likelihood: 0.904275237516817\n",
            "\n",
            "Currently in meta-iteration/epoch 5/5:\n",
            "Task 0 log-likelihood: -1.1771785350321702\n",
            "Task 5 log-likelihood: -0.7134766302297635\n",
            "Task 10 log-likelihood: -1.71607982533788\n",
            "Task 15 log-likelihood: -0.0008366718477716972\n",
            "Task 20 log-likelihood: 0.1740249252482462\n",
            "Task 25 log-likelihood: -1.09976075485165\n",
            "Task 30 log-likelihood: -0.8121067163632341\n",
            "Task 35 log-likelihood: -0.07291538799405473\n",
            "Task 40 log-likelihood: -1.3828352149969385\n",
            "Task 45 log-likelihood: 1.309950741358386\n"
          ],
          "name": "stdout"
        }
      ]
    },
    {
      "cell_type": "markdown",
      "metadata": {
        "id": "Lp0sKmQh6O-i"
      },
      "source": [
        "## Sliced Score Estimator Setup (https://arxiv.org/pdf/1905.07088.pdf)\n",
        "\n",
        "Here we train a network $h(\\cdot, \\hat{\\theta})$ which minimizes the objective $\\mathbb{E}_{x \\sim \\mu} \\Vert h(x, \\hat{\\theta}) - \\nabla_x \\log p(x) \\Vert_{2}$ in an unsupervised way, where $\\mu$ is some unknown data generating process and $p := \\sum_i \\delta_{x_i}$ is an empirical measure represented as a set of particles."
      ]
    },
    {
      "cell_type": "code",
      "metadata": {
        "id": "0s1vAhNu75Ax"
      },
      "source": [
        "input_shape = (1,)\n",
        "score_net = tf.keras.Sequential([\n",
        "    tf.keras.Input(shape=input_shape, name='input'),\n",
        "    tf.keras.layers.Dense(64, activation='tanh'),\n",
        "    #tf.keras.layers.Dense(64, activation='relu'),\n",
        "    tf.keras.layers.Dense(input_shape[0]),\n",
        "])\n",
        "\n",
        "# Take all meta-functions as an empirical prior over functions.\n",
        "data = np.concatenate(tuple((y for _, y in meta_training_tasks)))\n",
        "config_slice_train = {'data': data,\n",
        "          'score_net': score_net,\n",
        "          'epochs': 50, \n",
        "          'lambda_reg': 0.15\n",
        "}"
      ],
      "execution_count": null,
      "outputs": []
    },
    {
      "cell_type": "code",
      "metadata": {
        "colab": {
          "base_uri": "https://localhost:8080/"
        },
        "id": "yTktaqjF7TGu",
        "outputId": "40904e2b-91f3-47af-8095-c0f63bed3c9a"
      },
      "source": [
        "score_net, best_loss = (\n",
        "    sliced_score_estimation.GetSlicedScoreEstimator(config_slice_train,\n",
        "                                                    verbose=True))"
      ],
      "execution_count": null,
      "outputs": [
        {
          "output_type": "stream",
          "text": [
            "WARNING:tensorflow:Calling GradientTape.gradient on a persistent tape inside its context is significantly less efficient than calling it outside the context (it causes the gradient ops to be recorded on the tape, leading to increased CPU and memory usage). Only call GradientTape.gradient inside the context if you actually want to trace the gradient in order to compute higher order derivatives.\n",
            "Epoch [0], loss: [25.507522]\n",
            "Epoch [10], loss: [-23.625075]\n",
            "Epoch [20], loss: [-59.364631]\n",
            "Epoch [30], loss: [-123.786259]\n",
            "Epoch [40], loss: [-162.776027]\n"
          ],
          "name": "stdout"
        }
      ]
    },
    {
      "cell_type": "markdown",
      "metadata": {
        "id": "CgDB6_SSLxOW"
      },
      "source": [
        "## Model setup\n",
        "\n",
        "This section covers the actual training of our particle based models, minimizing the `f-bnn` loss (likelihood term + $KL$ term), where we represent the prior as a set of particles. The prior particles themselves will be the actual **training targets**, since we regard them to be representative of the true generating process."
      ]
    },
    {
      "cell_type": "code",
      "metadata": {
        "id": "UbS_6q1rNlwg"
      },
      "source": [
        "def ApproximateEntropyGrads(estimator, samples):\n",
        "  dlog_q = estimator.compute_gradients(samples)\n",
        "  surrogate = tf.reduce_mean(\n",
        "      tf.reduce_sum(\n",
        "          tf.stop_gradient(-dlog_q) * tf.cast(samples, tf.float64), -1))\n",
        "  return surrogate"
      ],
      "execution_count": null,
      "outputs": []
    },
    {
      "cell_type": "code",
      "metadata": {
        "id": "D2P4aL4kLMMg"
      },
      "source": [
        "# Estimator to be used for computing score gradients of implicit distributions\n",
        "# represtend as sets of particles.\n",
        "estimator = SpectralScoreEstimator(n_eigen_threshold=0.99, eta=0.0)"
      ],
      "execution_count": null,
      "outputs": []
    },
    {
      "cell_type": "code",
      "metadata": {
        "id": "gXbEKuDpL-L0"
      },
      "source": [
        "# TODO: Allow for customizable models.\n",
        "def _GetModel(meta_task_size=((1,), 5)):\n",
        "  kl_divergence_function = (lambda q, p, _:\n",
        "                            tfp.distributions.kl_divergence(q, p) /\n",
        "                            tf.cast(meta_task_size[1], dtype=tf.float64))\n",
        "\n",
        "  # Setup a feed forward BNN with 1 hidden layer.\n",
        "  model = tf.keras.Sequential([\n",
        "      tf.keras.Input(shape=meta_task_size[0],name='input'),\n",
        "      tfp.layers.DenseFlipout(10, kernel_divergence_fn=kl_divergence_function,\n",
        "                              activation=tf.nn.relu, name=\"dense_tfp_1\"),\n",
        "      tfp.layers.DenseFlipout(1,\n",
        "                              kernel_divergence_fn=kl_divergence_function,\n",
        "                              name=\"out_tfp_pred\"),\n",
        "  ])\n",
        "\n",
        "  return model"
      ],
      "execution_count": null,
      "outputs": []
    },
    {
      "cell_type": "markdown",
      "metadata": {
        "id": "f37ZS9Fa1_N6"
      },
      "source": [
        "Reframing variational inference in the function space, we arrive at the following objective formulation [Sun et al., 2019]\n",
        "\n",
        "\\begin{equation}\n",
        " \\log p(\\mathcal{D} \\vert f) - \\lambda KL(q \\Vert p) \\hspace{0.5cm}(1)\n",
        "\\end{equation}\n",
        "\n",
        "where $q, p$ represent the posterior, and the prior over function values.\n",
        "\n",
        "Using the reparametrization trick, function values $f(x) \\sim q(\\cdot)$ are drawn from a parameterized neural net $g_\\phi(x ; \\xi)$. Here $\\phi$ denotes the set of optimizable parameters, while $\\xi$ is a random perturbation under which the change of variable is performed. Hence, drawing samples $f(x) \\sim q$ is done by forwarding $x$ through $g_\\phi(\\cdot ; \\xi)$.\n",
        "\n",
        "In order to obtain a feasible optimization procedure from $(1)$, the $KL$ divergence gradient is then expanded as \n",
        "\n",
        "\\begin{equation}\n",
        " \\nabla_\\phi KL(q \\Vert p)  = \\mathbb{E}_{\\xi}[\\nabla_\\phi \\textbf{f} (\\nabla_\\textbf{f} \\log q(\\textbf{f}) - \\nabla_\\textbf{f}\\log p(\\textbf{f})  )] \\hspace{0.5cm}(2)\n",
        "\\end{equation}\n",
        "\n",
        "Note that the $KL$ term is made tractable by using SSGE [Shi et al., 2018] / Sliced Score Matching (SSM)[Song et al., 2019] to extract gradients for the score functions when using implicit distributions represented as particles. In the GP prior case however, the prior function values can simply be backpropagated through."
      ]
    },
    {
      "cell_type": "code",
      "metadata": {
        "id": "17AdJLvodP8K"
      },
      "source": [
        "# Draw samples from the variational posterior.\n",
        "def SamplePosterior(variational_posterior, n_particles, x, training=False):\n",
        "  return tf.stack([variational_posterior(x, training=training)  \n",
        "                    for _ in range(n_particles)])"
      ],
      "execution_count": null,
      "outputs": []
    },
    {
      "cell_type": "code",
      "metadata": {
        "id": "imt5TrXCIrC_"
      },
      "source": [
        "def Train(model=None,\n",
        "          train_tasks=None,\n",
        "          test_tasks=None,\n",
        "          epochs=10,\n",
        "          n_particles=10,\n",
        "          task_size=5,\n",
        "          prior_particles=None,\n",
        "          use_functional_kl=True,\n",
        "          lambda_kl=1.0,\n",
        "          method='sliced_score_estimation',\n",
        "          config=None,\n",
        "          verbose=True):\n",
        "\n",
        "  \"\"\"\n",
        "  Utility function used to train a model to minimize the f-BNN loss.\n",
        "\n",
        "  @params:\n",
        "    -train_tasks: [(X_train_i, y_train_i)], list of pairs where X_train_i,\n",
        "      is the i-th meta-tuning input task and y_train_i the function values.\n",
        "    -test_tasks: same as |train_tasks|, only a smaller dataset of related tasks\n",
        "      used for testing.\n",
        "    -epochs: number of meta-iterations/epochs to train on the given tasks.   \n",
        "    -task_size: number of samples per task.\n",
        "    -n_particles: number of function values to draw from the variational \n",
        "      posterior at every input location (i.e. task); this will be used as the\n",
        "      empirical posterior over functions.\n",
        "    -prior_particles: particles (samples) to represent the true prior.\n",
        "    -use_functional_kl: if this is set to |True| the whole fELBO objective \n",
        "      is used for training - otherwise, we just do MLE and drop the prior term.\n",
        "    -lamba_kl: weight of the KL divergence term.\n",
        "    -method: method to be used for approximating log-prior gradients in case\n",
        "      the prior is represented as a set of particles.\n",
        "    -config: dictionary used to serialize some particular requirements needed\n",
        "      for calling the |prior_utils.ComputeCrossEntropy| utility function used\n",
        "      for computing the functional KL gradients.\n",
        "    -verbose: if this is set to |True| it prints relevant statistics concerning\n",
        "      the training progress.\n",
        "\n",
        "  @returns:\n",
        "    model: post-training variational posterior neural net.\n",
        "    test_losses: list containing losses recorded on the test set.\n",
        "  \"\"\"\n",
        "  mse = tf.keras.losses.MeanSquaredError()\n",
        "  optimizer = tf.keras.optimizers.Adam(0.001)\n",
        "  test_losses = [] # Record losses we see during testing.\n",
        "\n",
        "  if use_functional_kl:\n",
        "    print('Using %s for computing log-prior gradients. \\n' % method)\n",
        "\n",
        "  for epoch in range(epochs):\n",
        "    for i, (X_train, y_train) in enumerate(train_tasks): \n",
        "      with tf.GradientTape() as g:\n",
        "        predictions = SamplePosterior(model, n_particles, X_train, True)\n",
        "        log_likelihood = -mse(tf.reduce_mean(predictions, axis=0), y_train)\n",
        "        \n",
        "        if use_functional_kl:\n",
        "            # Use SSGE to approximate the log gradients of the functional\n",
        "            # posterior given the 'drawn' samples from the neural net.\n",
        "            # See Equation (2).\n",
        "            posterior_samples = (\n",
        "                predictions + np.random.normal(0, 1, size=predictions.shape))\n",
        "            entropy_sur = ApproximateEntropyGrads(estimator, posterior_samples)\n",
        "          \n",
        "            if 'gp' in method:\n",
        "              config['x'] = X_train\n",
        "              config['y'] = tf.squeeze(posterior_samples, axis=2)\n",
        "            elif 'ssge' in method:\n",
        "              config['y'] = posterior_samples\n",
        "            elif 'score' in method:\n",
        "              config['y'] = tf.reshape(posterior_samples,\n",
        "                  [n_particles *  len(y_train), -1])\n",
        "              \n",
        "            cross_entropy_sur = prior_utils.ComputeCrossEntropy(configs[method])\n",
        "            \n",
        "            # Add these up to produce the KL term to be optimized.\n",
        "            functional_kl = (tf.cast(entropy_sur, tf.float32) -\n",
        "                              tf.cast(cross_entropy_sur, tf.float32))\n",
        "            log_likelihood += (lambda_kl * tf.cast(functional_kl, tf.float64) /\n",
        "                              len(X_train))\n",
        "      \n",
        "        grads = g.gradient(-log_likelihood, model.trainable_weights)\n",
        "        optimizer.apply_gradients(zip(grads, model.trainable_weights))\n",
        "\n",
        "    if verbose and epoch % 2 == 0 and i == (len(train_tasks) - 1):\n",
        "      test_log_likelihoods = []\n",
        "\n",
        "      for X_test, y_test in test_tasks:\n",
        "        test_predictions = SamplePosterior(model, n_particles, X_test, False)\n",
        "        test_log_likelihood = -mse(tf.reduce_mean(predictions, axis=0), \n",
        "                                        y_test)\n",
        "        test_log_likelihoods.append(test_log_likelihood.numpy())\n",
        "        print('Epoch [%d] test log-likelihood: [%f]' % \n",
        "              (epoch, test_log_likelihood,))\n",
        "        test_losses.append(np.mean(test_log_likelihoods))\n",
        "      \n",
        "  return (model, test_losses)"
      ],
      "execution_count": null,
      "outputs": []
    },
    {
      "cell_type": "markdown",
      "metadata": {
        "id": "X7_Tlu0v4BRY"
      },
      "source": [
        "## Results\n",
        "\n",
        "We run the models in two regimes:\n",
        "\n",
        "\n",
        "\n",
        "1.   Just use $MLE$ for training, no functional $KL$.\n",
        "2.   Use the full `f-bnn` objective (Eq. (1)), where we perform the log-prior gradient estimation with each of : `Sliced Score Estimation`, `GP Prior`, `Spectral Stein Gradient Estimator`.\n",
        "\n",
        "We run the training loop `tries_per_method` times for each of the 4 above combinations.\n",
        "\n"
      ]
    },
    {
      "cell_type": "code",
      "metadata": {
        "colab": {
          "base_uri": "https://localhost:8080/"
        },
        "id": "ybP0bwGSReVq",
        "outputId": "408410c1-af9b-440b-b00a-a4ae2a81746b"
      },
      "source": [
        "from collections import defaultdict\n",
        "\n",
        "statistics = defaultdict(list)\n",
        "tries_per_method = 3\n",
        "n_particles = 10\n",
        "prior_particles = np.concatenate(tuple((y for _, y in meta_training_tasks)))\n",
        "prior_particles = np.squeeze(prior_particles, -1)\n",
        "  \n",
        "# Configs used as arguments for the `ComputeCrossEntropy` function, which\n",
        "# will be used for computing the log_prior gradients\n",
        "# (or approximate gradients). The method field indicates which log-prior\n",
        "# gradient scheme we will use. Only 'gp' comes with an analytical form.\n",
        "# for the gradients, trading off expresiveness.\n",
        "configs = {\n",
        "  'gp': {'method': 'gp',\n",
        "         'kernel_function': kernel,\n",
        "         'mean_function': mean_function},\n",
        "\n",
        "  'ssge': {'method': 'ssge',\n",
        "           'estimator': estimator,\n",
        "           'n_particles': n_particles,\n",
        "           'prior_particles': prior_particles},\n",
        "\n",
        "  'sliced_score_estimation': {\n",
        "      'method': 'sliced', \n",
        "    'score_estimator': score_net},\n",
        "\n",
        "  'mle' : {},\n",
        "}\n",
        "\n",
        "for method in [(False, 'mle'), (True, 'sliced_score_estimation'),\n",
        "               (True, 'ssge'), (True, 'gp')][::-1]:\n",
        "  for i in range(tries_per_method):\n",
        "    print(method, i)\n",
        "    model, test_losses = Train(\n",
        "        model=_GetModel(),\n",
        "        train_tasks=meta_tuning_train_tasks,\n",
        "        test_tasks=meta_tuning_test_tasks,\n",
        "        n_particles=n_particles,\n",
        "        prior_particles=prior_particles,\n",
        "        use_functional_kl=method[0],\n",
        "        method=method[1],\n",
        "        config=configs[method[1]],\n",
        "        verbose=True)\n",
        "    \n",
        "    statistics[method].append(test_losses[-1])"
      ],
      "execution_count": null,
      "outputs": [
        {
          "output_type": "stream",
          "text": [
            "(True, 'gp') 0\n",
            "Using gp for computing log-prior gradients. \n",
            "\n"
          ],
          "name": "stdout"
        },
        {
          "output_type": "stream",
          "text": [
            "/usr/local/lib/python3.7/dist-packages/tensorflow/python/keras/engine/base_layer.py:2281: UserWarning: `layer.add_variable` is deprecated and will be removed in a future version. Please use `layer.add_weight` method instead.\n",
            "  warnings.warn('`layer.add_variable` is deprecated and '\n"
          ],
          "name": "stderr"
        },
        {
          "output_type": "stream",
          "text": [
            "Epoch [0] test log-likelihood: [-0.371131]\n",
            "Epoch [0] test log-likelihood: [-0.180353]\n",
            "Epoch [0] test log-likelihood: [-0.167696]\n",
            "Epoch [0] test log-likelihood: [-0.174144]\n",
            "Epoch [0] test log-likelihood: [-0.249052]\n",
            "Epoch [2] test log-likelihood: [-0.326124]\n",
            "Epoch [2] test log-likelihood: [-0.148067]\n",
            "Epoch [2] test log-likelihood: [-0.136076]\n",
            "Epoch [2] test log-likelihood: [-0.142895]\n",
            "Epoch [2] test log-likelihood: [-0.211301]\n",
            "Epoch [4] test log-likelihood: [-0.284346]\n",
            "Epoch [4] test log-likelihood: [-0.119565]\n",
            "Epoch [4] test log-likelihood: [-0.108526]\n",
            "Epoch [4] test log-likelihood: [-0.115848]\n",
            "Epoch [4] test log-likelihood: [-0.176649]\n",
            "Epoch [6] test log-likelihood: [-0.248431]\n",
            "Epoch [6] test log-likelihood: [-0.095552]\n",
            "Epoch [6] test log-likelihood: [-0.085677]\n",
            "Epoch [6] test log-likelihood: [-0.091641]\n",
            "Epoch [6] test log-likelihood: [-0.148513]\n",
            "Epoch [8] test log-likelihood: [-0.221118]\n",
            "Epoch [8] test log-likelihood: [-0.077689]\n",
            "Epoch [8] test log-likelihood: [-0.068332]\n",
            "Epoch [8] test log-likelihood: [-0.075426]\n",
            "Epoch [8] test log-likelihood: [-0.125881]\n",
            "(True, 'gp') 1\n",
            "Using gp for computing log-prior gradients. \n",
            "\n",
            "Epoch [0] test log-likelihood: [-0.442719]\n",
            "Epoch [0] test log-likelihood: [-0.232543]\n",
            "Epoch [0] test log-likelihood: [-0.217072]\n",
            "Epoch [0] test log-likelihood: [-0.226859]\n",
            "Epoch [0] test log-likelihood: [-0.307761]\n",
            "Epoch [2] test log-likelihood: [-0.377875]\n",
            "Epoch [2] test log-likelihood: [-0.183199]\n",
            "Epoch [2] test log-likelihood: [-0.169158]\n",
            "Epoch [2] test log-likelihood: [-0.180189]\n",
            "Epoch [2] test log-likelihood: [-0.250704]\n",
            "Epoch [4] test log-likelihood: [-0.330833]\n",
            "Epoch [4] test log-likelihood: [-0.151162]\n",
            "Epoch [4] test log-likelihood: [-0.136395]\n",
            "Epoch [4] test log-likelihood: [-0.148925]\n",
            "Epoch [4] test log-likelihood: [-0.212372]\n",
            "Epoch [6] test log-likelihood: [-0.296096]\n",
            "Epoch [6] test log-likelihood: [-0.126308]\n",
            "Epoch [6] test log-likelihood: [-0.113603]\n",
            "Epoch [6] test log-likelihood: [-0.124664]\n",
            "Epoch [6] test log-likelihood: [-0.183554]\n",
            "Epoch [8] test log-likelihood: [-0.261784]\n",
            "Epoch [8] test log-likelihood: [-0.103895]\n",
            "Epoch [8] test log-likelihood: [-0.093515]\n",
            "Epoch [8] test log-likelihood: [-0.102192]\n",
            "Epoch [8] test log-likelihood: [-0.156843]\n",
            "(True, 'gp') 2\n",
            "Using gp for computing log-prior gradients. \n",
            "\n",
            "Epoch [0] test log-likelihood: [-0.616102]\n",
            "Epoch [0] test log-likelihood: [-0.372449]\n",
            "Epoch [0] test log-likelihood: [-0.356505]\n",
            "Epoch [0] test log-likelihood: [-0.357298]\n",
            "Epoch [0] test log-likelihood: [-0.467478]\n",
            "Epoch [2] test log-likelihood: [-0.549731]\n",
            "Epoch [2] test log-likelihood: [-0.318299]\n",
            "Epoch [2] test log-likelihood: [-0.303768]\n",
            "Epoch [2] test log-likelihood: [-0.305596]\n",
            "Epoch [2] test log-likelihood: [-0.406982]\n",
            "Epoch [4] test log-likelihood: [-0.496430]\n",
            "Epoch [4] test log-likelihood: [-0.276718]\n",
            "Epoch [4] test log-likelihood: [-0.262950]\n",
            "Epoch [4] test log-likelihood: [-0.264847]\n",
            "Epoch [4] test log-likelihood: [-0.360549]\n",
            "Epoch [6] test log-likelihood: [-0.439912]\n",
            "Epoch [6] test log-likelihood: [-0.233236]\n",
            "Epoch [6] test log-likelihood: [-0.219861]\n",
            "Epoch [6] test log-likelihood: [-0.223131]\n",
            "Epoch [6] test log-likelihood: [-0.310821]\n",
            "Epoch [8] test log-likelihood: [-0.400841]\n",
            "Epoch [8] test log-likelihood: [-0.204340]\n",
            "Epoch [8] test log-likelihood: [-0.191979]\n",
            "Epoch [8] test log-likelihood: [-0.194959]\n",
            "Epoch [8] test log-likelihood: [-0.277665]\n",
            "(True, 'ssge') 0\n",
            "Using ssge for computing log-prior gradients. \n",
            "\n",
            "Epoch [0] test log-likelihood: [-0.346168]\n",
            "Epoch [0] test log-likelihood: [-0.162213]\n",
            "Epoch [0] test log-likelihood: [-0.149698]\n",
            "Epoch [0] test log-likelihood: [-0.157387]\n",
            "Epoch [0] test log-likelihood: [-0.227238]\n",
            "Epoch [2] test log-likelihood: [-0.269614]\n",
            "Epoch [2] test log-likelihood: [-0.107391]\n",
            "Epoch [2] test log-likelihood: [-0.094488]\n",
            "Epoch [2] test log-likelihood: [-0.108050]\n",
            "Epoch [2] test log-likelihood: [-0.160063]\n",
            "Epoch [4] test log-likelihood: [-0.211733]\n",
            "Epoch [4] test log-likelihood: [-0.071111]\n",
            "Epoch [4] test log-likelihood: [-0.058911]\n",
            "Epoch [4] test log-likelihood: [-0.073103]\n",
            "Epoch [4] test log-likelihood: [-0.114814]\n",
            "Epoch [6] test log-likelihood: [-0.166449]\n",
            "Epoch [6] test log-likelihood: [-0.044006]\n",
            "Epoch [6] test log-likelihood: [-0.035189]\n",
            "Epoch [6] test log-likelihood: [-0.047598]\n",
            "Epoch [6] test log-likelihood: [-0.079887]\n",
            "Epoch [8] test log-likelihood: [-0.134584]\n",
            "Epoch [8] test log-likelihood: [-0.029632]\n",
            "Epoch [8] test log-likelihood: [-0.021638]\n",
            "Epoch [8] test log-likelihood: [-0.032372]\n",
            "Epoch [8] test log-likelihood: [-0.059433]\n",
            "(True, 'ssge') 1\n",
            "Using ssge for computing log-prior gradients. \n",
            "\n",
            "Epoch [0] test log-likelihood: [-0.334435]\n",
            "Epoch [0] test log-likelihood: [-0.152494]\n",
            "Epoch [0] test log-likelihood: [-0.139538]\n",
            "Epoch [0] test log-likelihood: [-0.148819]\n",
            "Epoch [0] test log-likelihood: [-0.215981]\n",
            "Epoch [2] test log-likelihood: [-0.266290]\n",
            "Epoch [2] test log-likelihood: [-0.104341]\n",
            "Epoch [2] test log-likelihood: [-0.091717]\n",
            "Epoch [2] test log-likelihood: [-0.105638]\n",
            "Epoch [2] test log-likelihood: [-0.156575]\n",
            "Epoch [4] test log-likelihood: [-0.214255]\n",
            "Epoch [4] test log-likelihood: [-0.071217]\n",
            "Epoch [4] test log-likelihood: [-0.060375]\n",
            "Epoch [4] test log-likelihood: [-0.075506]\n",
            "Epoch [4] test log-likelihood: [-0.114101]\n",
            "Epoch [6] test log-likelihood: [-0.172293]\n",
            "Epoch [6] test log-likelihood: [-0.048611]\n",
            "Epoch [6] test log-likelihood: [-0.038471]\n",
            "Epoch [6] test log-likelihood: [-0.051722]\n",
            "Epoch [6] test log-likelihood: [-0.085120]\n",
            "Epoch [8] test log-likelihood: [-0.142970]\n",
            "Epoch [8] test log-likelihood: [-0.033859]\n",
            "Epoch [8] test log-likelihood: [-0.024688]\n",
            "Epoch [8] test log-likelihood: [-0.036415]\n",
            "Epoch [8] test log-likelihood: [-0.065362]\n",
            "(True, 'ssge') 2\n",
            "Using ssge for computing log-prior gradients. \n",
            "\n",
            "Epoch [0] test log-likelihood: [-0.383871]\n",
            "Epoch [0] test log-likelihood: [-0.194441]\n",
            "Epoch [0] test log-likelihood: [-0.183889]\n",
            "Epoch [0] test log-likelihood: [-0.183702]\n",
            "Epoch [0] test log-likelihood: [-0.266202]\n",
            "Epoch [2] test log-likelihood: [-0.301318]\n",
            "Epoch [2] test log-likelihood: [-0.134786]\n",
            "Epoch [2] test log-likelihood: [-0.124279]\n",
            "Epoch [2] test log-likelihood: [-0.126599]\n",
            "Epoch [2] test log-likelihood: [-0.196100]\n",
            "Epoch [4] test log-likelihood: [-0.237086]\n",
            "Epoch [4] test log-likelihood: [-0.091082]\n",
            "Epoch [4] test log-likelihood: [-0.082078]\n",
            "Epoch [4] test log-likelihood: [-0.085811]\n",
            "Epoch [4] test log-likelihood: [-0.142425]\n",
            "Epoch [6] test log-likelihood: [-0.176034]\n",
            "Epoch [6] test log-likelihood: [-0.053987]\n",
            "Epoch [6] test log-likelihood: [-0.045855]\n",
            "Epoch [6] test log-likelihood: [-0.050502]\n",
            "Epoch [6] test log-likelihood: [-0.095031]\n",
            "Epoch [8] test log-likelihood: [-0.146188]\n",
            "Epoch [8] test log-likelihood: [-0.035787]\n",
            "Epoch [8] test log-likelihood: [-0.027120]\n",
            "Epoch [8] test log-likelihood: [-0.036531]\n",
            "Epoch [8] test log-likelihood: [-0.069341]\n",
            "(True, 'sliced_score_estimation') 0\n",
            "Using sliced_score_estimation for computing log-prior gradients. \n",
            "\n",
            "Epoch [0] test log-likelihood: [-0.419450]\n",
            "Epoch [0] test log-likelihood: [-0.217120]\n",
            "Epoch [0] test log-likelihood: [-0.203074]\n",
            "Epoch [0] test log-likelihood: [-0.208804]\n",
            "Epoch [0] test log-likelihood: [-0.291667]\n",
            "Epoch [2] test log-likelihood: [-0.305586]\n",
            "Epoch [2] test log-likelihood: [-0.131689]\n",
            "Epoch [2] test log-likelihood: [-0.117250]\n",
            "Epoch [2] test log-likelihood: [-0.132032]\n",
            "Epoch [2] test log-likelihood: [-0.188889]\n",
            "Epoch [4] test log-likelihood: [-0.221323]\n",
            "Epoch [4] test log-likelihood: [-0.076973]\n",
            "Epoch [4] test log-likelihood: [-0.063918]\n",
            "Epoch [4] test log-likelihood: [-0.082209]\n",
            "Epoch [4] test log-likelihood: [-0.119485]\n",
            "Epoch [6] test log-likelihood: [-0.186252]\n",
            "Epoch [6] test log-likelihood: [-0.063088]\n",
            "Epoch [6] test log-likelihood: [-0.048995]\n",
            "Epoch [6] test log-likelihood: [-0.076215]\n",
            "Epoch [6] test log-likelihood: [-0.091628]\n",
            "Epoch [8] test log-likelihood: [-0.151716]\n",
            "Epoch [8] test log-likelihood: [-0.037450]\n",
            "Epoch [8] test log-likelihood: [-0.028421]\n",
            "Epoch [8] test log-likelihood: [-0.046034]\n",
            "Epoch [8] test log-likelihood: [-0.066422]\n",
            "(True, 'sliced_score_estimation') 1\n",
            "Using sliced_score_estimation for computing log-prior gradients. \n",
            "\n",
            "Epoch [0] test log-likelihood: [-0.384091]\n",
            "Epoch [0] test log-likelihood: [-0.190441]\n",
            "Epoch [0] test log-likelihood: [-0.177483]\n",
            "Epoch [0] test log-likelihood: [-0.183021]\n",
            "Epoch [0] test log-likelihood: [-0.261136]\n",
            "Epoch [2] test log-likelihood: [-0.295593]\n",
            "Epoch [2] test log-likelihood: [-0.124885]\n",
            "Epoch [2] test log-likelihood: [-0.111081]\n",
            "Epoch [2] test log-likelihood: [-0.124501]\n",
            "Epoch [2] test log-likelihood: [-0.181529]\n",
            "Epoch [4] test log-likelihood: [-0.229097]\n",
            "Epoch [4] test log-likelihood: [-0.080326]\n",
            "Epoch [4] test log-likelihood: [-0.068030]\n",
            "Epoch [4] test log-likelihood: [-0.083412]\n",
            "Epoch [4] test log-likelihood: [-0.126318]\n",
            "Epoch [6] test log-likelihood: [-0.181006]\n",
            "Epoch [6] test log-likelihood: [-0.054969]\n",
            "Epoch [6] test log-likelihood: [-0.042219]\n",
            "Epoch [6] test log-likelihood: [-0.061241]\n",
            "Epoch [6] test log-likelihood: [-0.089856]\n",
            "Epoch [8] test log-likelihood: [-0.163165]\n",
            "Epoch [8] test log-likelihood: [-0.051190]\n",
            "Epoch [8] test log-likelihood: [-0.040051]\n",
            "Epoch [8] test log-likelihood: [-0.065175]\n",
            "Epoch [8] test log-likelihood: [-0.074811]\n",
            "(True, 'sliced_score_estimation') 2\n",
            "Using sliced_score_estimation for computing log-prior gradients. \n",
            "\n",
            "Epoch [0] test log-likelihood: [-0.536366]\n",
            "Epoch [0] test log-likelihood: [-0.301832]\n",
            "Epoch [0] test log-likelihood: [-0.283919]\n",
            "Epoch [0] test log-likelihood: [-0.297160]\n",
            "Epoch [0] test log-likelihood: [-0.385221]\n",
            "Epoch [2] test log-likelihood: [-0.447179]\n",
            "Epoch [2] test log-likelihood: [-0.233816]\n",
            "Epoch [2] test log-likelihood: [-0.215119]\n",
            "Epoch [2] test log-likelihood: [-0.232570]\n",
            "Epoch [2] test log-likelihood: [-0.306668]\n",
            "Epoch [4] test log-likelihood: [-0.370763]\n",
            "Epoch [4] test log-likelihood: [-0.180161]\n",
            "Epoch [4] test log-likelihood: [-0.160168]\n",
            "Epoch [4] test log-likelihood: [-0.190833]\n",
            "Epoch [4] test log-likelihood: [-0.235229]\n",
            "Epoch [6] test log-likelihood: [-0.306193]\n",
            "Epoch [6] test log-likelihood: [-0.137648]\n",
            "Epoch [6] test log-likelihood: [-0.119906]\n",
            "Epoch [6] test log-likelihood: [-0.148709]\n",
            "Epoch [6] test log-likelihood: [-0.184054]\n",
            "Epoch [8] test log-likelihood: [-0.268439]\n",
            "Epoch [8] test log-likelihood: [-0.119338]\n",
            "Epoch [8] test log-likelihood: [-0.099705]\n",
            "Epoch [8] test log-likelihood: [-0.134246]\n",
            "Epoch [8] test log-likelihood: [-0.155479]\n",
            "(False, 'mle') 0\n",
            "Epoch [0] test log-likelihood: [-0.620661]\n",
            "Epoch [0] test log-likelihood: [-0.372081]\n",
            "Epoch [0] test log-likelihood: [-0.355729]\n",
            "Epoch [0] test log-likelihood: [-0.359655]\n",
            "Epoch [0] test log-likelihood: [-0.466911]\n",
            "Epoch [2] test log-likelihood: [-0.505403]\n",
            "Epoch [2] test log-likelihood: [-0.278530]\n",
            "Epoch [2] test log-likelihood: [-0.260009]\n",
            "Epoch [2] test log-likelihood: [-0.274218]\n",
            "Epoch [2] test log-likelihood: [-0.358766]\n",
            "Epoch [4] test log-likelihood: [-0.428073]\n",
            "Epoch [4] test log-likelihood: [-0.218800]\n",
            "Epoch [4] test log-likelihood: [-0.201098]\n",
            "Epoch [4] test log-likelihood: [-0.220333]\n",
            "Epoch [4] test log-likelihood: [-0.287961]\n",
            "Epoch [6] test log-likelihood: [-0.354040]\n",
            "Epoch [6] test log-likelihood: [-0.165948]\n",
            "Epoch [6] test log-likelihood: [-0.148731]\n",
            "Epoch [6] test log-likelihood: [-0.170413]\n",
            "Epoch [6] test log-likelihood: [-0.224963]\n",
            "Epoch [8] test log-likelihood: [-0.296444]\n",
            "Epoch [8] test log-likelihood: [-0.128524]\n",
            "Epoch [8] test log-likelihood: [-0.111943]\n",
            "Epoch [8] test log-likelihood: [-0.134873]\n",
            "Epoch [8] test log-likelihood: [-0.178433]\n",
            "(False, 'mle') 1\n",
            "Epoch [0] test log-likelihood: [-0.362709]\n",
            "Epoch [0] test log-likelihood: [-0.174155]\n",
            "Epoch [0] test log-likelihood: [-0.160894]\n",
            "Epoch [0] test log-likelihood: [-0.168604]\n",
            "Epoch [0] test log-likelihood: [-0.241441]\n",
            "Epoch [2] test log-likelihood: [-0.293377]\n",
            "Epoch [2] test log-likelihood: [-0.123733]\n",
            "Epoch [2] test log-likelihood: [-0.111559]\n",
            "Epoch [2] test log-likelihood: [-0.121817]\n",
            "Epoch [2] test log-likelihood: [-0.181247]\n",
            "Epoch [4] test log-likelihood: [-0.223535]\n",
            "Epoch [4] test log-likelihood: [-0.078533]\n",
            "Epoch [4] test log-likelihood: [-0.067020]\n",
            "Epoch [4] test log-likelihood: [-0.080469]\n",
            "Epoch [4] test log-likelihood: [-0.123815]\n",
            "Epoch [6] test log-likelihood: [-0.170801]\n",
            "Epoch [6] test log-likelihood: [-0.047429]\n",
            "Epoch [6] test log-likelihood: [-0.036884]\n",
            "Epoch [6] test log-likelihood: [-0.050611]\n",
            "Epoch [6] test log-likelihood: [-0.083864]\n",
            "Epoch [8] test log-likelihood: [-0.142501]\n",
            "Epoch [8] test log-likelihood: [-0.033400]\n",
            "Epoch [8] test log-likelihood: [-0.024335]\n",
            "Epoch [8] test log-likelihood: [-0.035779]\n",
            "Epoch [8] test log-likelihood: [-0.065133]\n",
            "(False, 'mle') 2\n",
            "Epoch [0] test log-likelihood: [-0.441892]\n",
            "Epoch [0] test log-likelihood: [-0.232154]\n",
            "Epoch [0] test log-likelihood: [-0.218053]\n",
            "Epoch [0] test log-likelihood: [-0.224382]\n",
            "Epoch [0] test log-likelihood: [-0.309062]\n",
            "Epoch [2] test log-likelihood: [-0.338117]\n",
            "Epoch [2] test log-likelihood: [-0.153725]\n",
            "Epoch [2] test log-likelihood: [-0.141298]\n",
            "Epoch [2] test log-likelihood: [-0.151776]\n",
            "Epoch [2] test log-likelihood: [-0.216747]\n",
            "Epoch [4] test log-likelihood: [-0.244196]\n",
            "Epoch [4] test log-likelihood: [-0.092757]\n",
            "Epoch [4] test log-likelihood: [-0.079691]\n",
            "Epoch [4] test log-likelihood: [-0.093963]\n",
            "Epoch [4] test log-likelihood: [-0.140843]\n",
            "Epoch [6] test log-likelihood: [-0.192225]\n",
            "Epoch [6] test log-likelihood: [-0.060445]\n",
            "Epoch [6] test log-likelihood: [-0.050020]\n",
            "Epoch [6] test log-likelihood: [-0.064321]\n",
            "Epoch [6] test log-likelihood: [-0.099237]\n",
            "Epoch [8] test log-likelihood: [-0.156776]\n",
            "Epoch [8] test log-likelihood: [-0.040031]\n",
            "Epoch [8] test log-likelihood: [-0.031083]\n",
            "Epoch [8] test log-likelihood: [-0.042851]\n",
            "Epoch [8] test log-likelihood: [-0.074211]\n"
          ],
          "name": "stdout"
        }
      ]
    },
    {
      "cell_type": "code",
      "metadata": {
        "colab": {
          "base_uri": "https://localhost:8080/"
        },
        "id": "Rl58_ZNuXqRW",
        "outputId": "24774fce-cf44-4b75-dd6b-dd98f9e18c0b"
      },
      "source": [
        "# Show confidence intervals for all results corresponding to each method.\n",
        "import scipy.stats as st\n",
        "\n",
        "for method, results in statistics.items():\n",
        "  print(method[1], ': ', st.t.interval(0.95, len(results) - 1,\n",
        "                                 loc=np.mean(results), scale=st.sem(results)))"
      ],
      "execution_count": null,
      "outputs": [
        {
          "output_type": "stream",
          "text": [
            "gp :  (-0.35393452945131365, 0.013073295382443145)\n",
            "ssge :  (-0.06920908957903746, -0.05024678860917527)\n",
            "sliced_score_estimation :  (-0.22021494563890742, 0.019996166541906654)\n",
            "mle :  (-0.251359852362573, 0.05185119927813593)\n"
          ],
          "name": "stdout"
        }
      ]
    }
  ]
}