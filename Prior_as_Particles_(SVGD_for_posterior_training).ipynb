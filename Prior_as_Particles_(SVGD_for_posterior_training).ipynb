{
  "nbformat": 4,
  "nbformat_minor": 0,
  "metadata": {
    "accelerator": "GPU",
    "colab": {
      "name": "Prior as Particles (SVGD for posterior training).ipynb",
      "provenance": [],
      "collapsed_sections": [],
      "authorship_tag": "ABX9TyPJblEpp2mkF6VgsV0qd2v9",
      "include_colab_link": true
    },
    "kernelspec": {
      "display_name": "Python 3",
      "name": "python3"
    }
  },
  "cells": [
    {
      "cell_type": "markdown",
      "metadata": {
        "id": "view-in-github",
        "colab_type": "text"
      },
      "source": [
        "<a href=\"https://colab.research.google.com/github/victor-armegioiu/Learning-Bayesian-Priors/blob/main/Prior_as_Particles_(SVGD_for_posterior_training).ipynb\" target=\"_parent\"><img src=\"https://colab.research.google.com/assets/colab-badge.svg\" alt=\"Open In Colab\"/></a>"
      ]
    },
    {
      "cell_type": "markdown",
      "metadata": {
        "id": "Ttj1NMzeLb7l"
      },
      "source": [
        "# Better priors represented as particles\n",
        "\n",
        "---\n",
        "\n",
        "Seed papers: FUNCTIONAL VARIATIONAL BAYESIAN NEURAL NETWORKS (https://arxiv.org/pdf/1903.05779.pdf)\n",
        "\n",
        "Understanding Variational Inference in Function-Space (https://arxiv.org/pdf/2011.09421.pdf)\n",
        "\n"
      ]
    },
    {
      "cell_type": "markdown",
      "metadata": {
        "id": "3HNFtn3JLmBv"
      },
      "source": [
        "## Setup \n",
        "\n",
        "Necessary imports, setting up the Colab environment."
      ]
    },
    {
      "cell_type": "code",
      "metadata": {
        "id": "emnY7qQ_D27i"
      },
      "source": [
        "from google.colab import drive\n",
        "drive.mount('/content/gdrive')"
      ],
      "execution_count": null,
      "outputs": []
    },
    {
      "cell_type": "code",
      "metadata": {
        "id": "fDhq3YG2Lh57"
      },
      "source": [
        "# gpflow doesn't come preloaded with colab.\n",
        "!pip3 install gpflow"
      ],
      "execution_count": null,
      "outputs": []
    },
    {
      "cell_type": "code",
      "metadata": {
        "id": "Ks43pRGGFeLZ",
        "colab": {
          "base_uri": "https://localhost:8080/"
        },
        "outputId": "2e756fda-aa3c-4ef5-97e6-1999904ec8c1"
      },
      "source": [
        "import numpy as np\n",
        "import time\n",
        "\n",
        "from sklearn.preprocessing import StandardScaler\n",
        "from sklearn.datasets import make_regression\n",
        "from sklearn.model_selection import train_test_split\n",
        "\n",
        "import tensorflow as tf\n",
        "import tensorflow_probability as tfp\n",
        "\n",
        "import matplotlib\n",
        "import matplotlib.pyplot as plt\n",
        "\n",
        "from gdrive.MyDrive.prior_learning.spectral_stein_grad.estimator import SpectralScoreEstimator\n",
        "from gdrive.MyDrive.prior_learning import data_utils\n",
        "from gdrive.MyDrive.prior_learning import prior_utils\n",
        "from gdrive.MyDrive.prior_learning import sliced_score_estimation\n",
        "from gdrive.MyDrive.prior_learning import svgd\n",
        "\n",
        "\n",
        "tf.compat.v1.enable_eager_execution()\n"
      ],
      "execution_count": 3,
      "outputs": [
        {
          "output_type": "stream",
          "text": [
            "WARNING:tensorflow:From /usr/local/lib/python3.7/dist-packages/tensorflow/python/compat/v2_compat.py:96: disable_resource_variables (from tensorflow.python.ops.variable_scope) is deprecated and will be removed in a future version.\n",
            "Instructions for updating:\n",
            "non-resource variables are not supported in the long term\n"
          ],
          "name": "stdout"
        }
      ]
    },
    {
      "cell_type": "code",
      "metadata": {
        "colab": {
          "base_uri": "https://localhost:8080/"
        },
        "id": "jpyirMceU8rl",
        "outputId": "3037e78b-3817-468e-d3ea-133cdc57cccd"
      },
      "source": [
        "tf.executing_eagerly()"
      ],
      "execution_count": 4,
      "outputs": [
        {
          "output_type": "execute_result",
          "data": {
            "text/plain": [
              "True"
            ]
          },
          "metadata": {
            "tags": []
          },
          "execution_count": 4
        }
      ]
    },
    {
      "cell_type": "code",
      "metadata": {
        "colab": {
          "base_uri": "https://localhost:8080/"
        },
        "id": "exSRRJaSZHEA",
        "outputId": "07744c0e-19ec-4d8a-abf7-78f1dddf9b3f"
      },
      "source": [
        "tf.config.list_physical_devices('GPU') "
      ],
      "execution_count": 5,
      "outputs": [
        {
          "output_type": "execute_result",
          "data": {
            "text/plain": [
              "[PhysicalDevice(name='/physical_device:GPU:0', device_type='GPU')]"
            ]
          },
          "metadata": {
            "tags": []
          },
          "execution_count": 5
        }
      ]
    },
    {
      "cell_type": "markdown",
      "metadata": {
        "id": "AtFYyye2Lq1G"
      },
      "source": [
        "## Building the dataset\n",
        "\n",
        "We are going to draw `task_count` tasks, where the index sets for each tasks are drawn as $x \\sim  \\mathcal{U}(-5, 5)$, and the regression targets are generated as  $f(x) = β \\cdot x + a \\cdot \\sin(1.5 \\cdot (x − b)) + c$, where $\\beta, a, b, c$ are per-task hyperparameters.\n",
        "\n",
        "\n",
        "\n"
      ]
    },
    {
      "cell_type": "code",
      "metadata": {
        "id": "atKQhTcWGAYp"
      },
      "source": [
        "# Draws the hyperparameters needed for each task.\n",
        "task_count = 10\n",
        "tasks_data = data_utils.GetSinusoidParams(task_count)"
      ],
      "execution_count": 39,
      "outputs": []
    },
    {
      "cell_type": "code",
      "metadata": {
        "id": "SC6KrF3DNlZG"
      },
      "source": [
        "task_size = 5\n",
        "\n",
        "config = {\n",
        "        'input_shape': 1,             # Shape of input data.\n",
        "        'size': task_size,            # Number of samples per task.  \n",
        "        'generation_method': 'sine',  # Generating process of the labels.\n",
        "        'tasks_data': tasks_data,     # Hyperparams for the sinusoids.\n",
        "}"
      ],
      "execution_count": 40,
      "outputs": []
    },
    {
      "cell_type": "markdown",
      "metadata": {
        "id": "48tEDtfSu9tu"
      },
      "source": [
        "Use last `test_tasks_cnt` for testing, and leave the rest for training. "
      ]
    },
    {
      "cell_type": "code",
      "metadata": {
        "id": "-rX5LSt5Jgf_"
      },
      "source": [
        "X, y = data_utils.GetDataset(config)\n",
        "X = X[:, None]\n",
        "test_tasks_cnt = 1\n",
        "\n",
        "first_test_idx = len(X) - test_tasks_cnt * config['size']\n",
        "X_train, y_train = X[:first_test_idx], y[:first_test_idx]\n",
        "X_test, y_test = X[first_test_idx:], y[first_test_idx:]"
      ],
      "execution_count": 41,
      "outputs": []
    },
    {
      "cell_type": "code",
      "metadata": {
        "colab": {
          "base_uri": "https://localhost:8080/"
        },
        "id": "qAhcM4vPgZBE",
        "outputId": "cbcf9595-5e19-4d18-8020-3a35c1ebcdba"
      },
      "source": [
        "X_train.shape, X_test.shape"
      ],
      "execution_count": 42,
      "outputs": [
        {
          "output_type": "execute_result",
          "data": {
            "text/plain": [
              "((45, 1), (5, 1))"
            ]
          },
          "metadata": {
            "tags": []
          },
          "execution_count": 42
        }
      ]
    },
    {
      "cell_type": "code",
      "metadata": {
        "id": "0WoIeHxbpzcX"
      },
      "source": [
        "scaler = StandardScaler().fit(X_train)"
      ],
      "execution_count": 43,
      "outputs": []
    },
    {
      "cell_type": "code",
      "metadata": {
        "id": "VQZtL6nxglLY"
      },
      "source": [
        "# Use the same scaler in order to ensure that we don't inject knowledge\n",
        "# about the test distribution in our training biases.\n",
        "X_train = scaler.transform(X_train)\n",
        "X_test = scaler.transform(X_test)"
      ],
      "execution_count": 44,
      "outputs": []
    },
    {
      "cell_type": "code",
      "metadata": {
        "colab": {
          "base_uri": "https://localhost:8080/",
          "height": 294
        },
        "id": "lIUpN7Vkwj8A",
        "outputId": "469a5633-7480-4e55-ede0-99313e746f39"
      },
      "source": [
        "fig, (ax1, ax2) = plt.subplots(1, 2)\n",
        "fig.suptitle('Inputs Train/Test distributions')\n",
        "ax1.hist(X_train, bins=10)\n",
        "ax2.hist(X_test, bins=10)\n",
        "plt.show()"
      ],
      "execution_count": 45,
      "outputs": [
        {
          "output_type": "display_data",
          "data": {
            "image/png": "[encoded data removed]",
            "text/plain": [
              "<Figure size 432x288 with 2 Axes>"
            ]
          },
          "metadata": {
            "tags": [],
            "needs_background": "light"
          }
        }
      ]
    },
    {
      "cell_type": "code",
      "metadata": {
        "id": "3ldHY_xK2Y9O"
      },
      "source": [
        "# Scale both dataset by `y_train_max`. Same reasoning\n",
        "# as in using the same scaler on inputs. This is done to avoid\n",
        "# exploding gradients.\n",
        "y_train_max = y_train.max()\n",
        "y_train /= y_train_max\n",
        "y_test /= y_train_max"
      ],
      "execution_count": 46,
      "outputs": []
    },
    {
      "cell_type": "code",
      "metadata": {
        "colab": {
          "base_uri": "https://localhost:8080/",
          "height": 294
        },
        "id": "VEdTaSi9w5iC",
        "outputId": "802ccc0c-945a-4c82-e427-83742ef4277e"
      },
      "source": [
        "fig, (ax1, ax2) = plt.subplots(1, 2)\n",
        "fig.suptitle('Labels Train/Test distributions')\n",
        "ax1.hist(y_train, bins=100)\n",
        "ax2.hist(y_test, bins=100)\n",
        "plt.show()"
      ],
      "execution_count": 47,
      "outputs": [
        {
          "output_type": "display_data",
          "data": {
            "image/png": "[encoded data removed]",
            "text/plain": [
              "<Figure size 432x288 with 2 Axes>"
            ]
          },
          "metadata": {
            "tags": [],
            "needs_background": "light"
          }
        }
      ]
    },
    {
      "cell_type": "markdown",
      "metadata": {
        "id": "hUczRSqDrgyZ"
      },
      "source": [
        "## GP Prior Setup\n",
        "\n",
        "Train a $\\mathcal{GP}$ on the training data, so that we may later use the tuned kernel for estimating the covariance of a Normal distribution over function values (this shall be used as the prior in the `f-bnn` formulation below)."
      ]
    },
    {
      "cell_type": "code",
      "metadata": {
        "id": "R8reHpDqdZNH"
      },
      "source": [
        "# Pre-train GP prior.\n",
        "gp_prior, _ = prior_utils.TrainGPPrior(X_train, y_train)"
      ],
      "execution_count": 48,
      "outputs": []
    },
    {
      "cell_type": "markdown",
      "metadata": {
        "id": "Lp0sKmQh6O-i"
      },
      "source": [
        "## Sliced Score Estimator Setup (https://arxiv.org/pdf/1905.07088.pdf)\n",
        "\n",
        "Here we train a network $h(\\cdot, \\hat{\\theta})$ which minimizes the objective $\\mathbb{E}_{x \\sim \\mu} \\Vert h(x, \\hat{\\theta}) - \\nabla_x \\log p(x) \\Vert_{2}$ in an unsupervised way, where $\\mu$ is some unknown data generating process and $p := \\sum_i \\delta_{x_i}$ is an empirical measure represented as a set of particles."
      ]
    },
    {
      "cell_type": "code",
      "metadata": {
        "id": "0s1vAhNu75Ax"
      },
      "source": [
        "input_shape = (1,)\n",
        "score_net = tf.keras.Sequential([\n",
        "    tf.keras.Input(shape=input_shape, name='input'),\n",
        "    tf.keras.layers.Dense(10, activation='relu'),\n",
        "    tf.keras.layers.Dense(input_shape[0]),\n",
        "])\n",
        "\n",
        "config_slice_train = {'data': y_train[:, None],\n",
        "          'score_net': score_net,\n",
        "          'epochs': 100, \n",
        "          'lambda_reg': 0.15\n",
        "}"
      ],
      "execution_count": 49,
      "outputs": []
    },
    {
      "cell_type": "code",
      "metadata": {
        "colab": {
          "base_uri": "https://localhost:8080/"
        },
        "id": "yTktaqjF7TGu",
        "outputId": "f5c57bc7-36ea-4831-bb8e-d7b522db654d"
      },
      "source": [
        "score_net, best_loss = (\n",
        "    sliced_score_estimation.GetSlicedScoreEstimator(config_slice_train,\n",
        "                                                    verbose=True))"
      ],
      "execution_count": 50,
      "outputs": [
        {
          "output_type": "stream",
          "text": [
            "Epoch [0], loss: [5.190279]\n",
            "Epoch [10], loss: [5.695688]\n",
            "Epoch [20], loss: [0.952549]\n",
            "Epoch [30], loss: [2.481444]\n",
            "Epoch [40], loss: [-0.916463]\n",
            "Epoch [50], loss: [-2.213982]\n",
            "Epoch [60], loss: [-0.976804]\n",
            "Epoch [70], loss: [-1.878082]\n",
            "Epoch [80], loss: [-2.169096]\n",
            "Epoch [90], loss: [-9.094554]\n"
          ],
          "name": "stdout"
        }
      ]
    },
    {
      "cell_type": "markdown",
      "metadata": {
        "id": "CgDB6_SSLxOW"
      },
      "source": [
        "## Model setup\n",
        "\n",
        "This section covers the actual training of our particle based models, minimizing the `f-bnn` loss (likelihood term + $KL$ term), where we represent the prior as a set of particles. The prior particles themselves will be the actual **training targets**, since we regard them to be representative of the true generating process."
      ]
    },
    {
      "cell_type": "code",
      "metadata": {
        "id": "D2P4aL4kLMMg"
      },
      "source": [
        "# Estimator to be used for computing score gradients of implicit distributions\n",
        "# represtend as sets of particles.\n",
        "estimator = SpectralScoreEstimator(n_eigen_threshold=0.99, eta=0.0)"
      ],
      "execution_count": 51,
      "outputs": []
    },
    {
      "cell_type": "code",
      "metadata": {
        "id": "ckeHM_HHSgV_"
      },
      "source": [
        "# An ensemble of these models will represent our set of particles.\n",
        "def GetLinearModel():\n",
        "  model = tf.keras.Sequential()\n",
        "  model.add(tf.keras.layers.Dense(5, input_shape=(1,), activation='relu'))\n",
        "  model.add(tf.keras.layers.Dense(1))\n",
        "  return model"
      ],
      "execution_count": 52,
      "outputs": []
    },
    {
      "cell_type": "markdown",
      "metadata": {
        "id": "f37ZS9Fa1_N6"
      },
      "source": [
        "Reframing variational inference in the function space, we arrive at the following objective formulation [Sun et al., 2019]\n",
        "\n",
        "\\begin{equation}\n",
        " \\log p(\\mathcal{D} \\vert f) - \\lambda KL(q \\Vert p) \\hspace{0.5cm}(1)\n",
        "\\end{equation}\n",
        "\n",
        "where $q, p$ represent the posterior, and the prior over function values.\n",
        "\n",
        "Using the reparametrization trick, function values $f(x) \\sim q(\\cdot)$ are drawn from a parameterized neural net $g_\\phi(x ; \\xi)$. Here $\\phi$ denotes the set of optimizable parameters, while $\\xi$ is a random perturbation under which the change of variable is performed. Hence, drawing samples $f(x) \\sim q$ is done by forwarding $x$ through $g_\\phi(\\cdot ; \\xi)$.\n",
        "\n",
        "In order to obtain a feasible optimization procedure from $(1)$, the $KL$ divergence gradient is then expanded as \n",
        "\n",
        "\\begin{equation}\n",
        " \\nabla_\\phi KL(q \\Vert p)  = \\mathbb{E}_{\\xi}[\\nabla_\\phi \\textbf{f} (\\nabla_\\textbf{f} \\log q(\\textbf{f}) - \\nabla_\\textbf{f}\\log p(\\textbf{f})  )] \\hspace{0.5cm}(2)\n",
        "\\end{equation}\n",
        "\n",
        "Note that the $KL$ term is made tractable by using SSGE [Shi et al., 2018] to extract gradients for the score functions, since both $q(\\cdot), p(\\cdot)$ are both implicit distributions represented as particles."
      ]
    },
    {
      "cell_type": "code",
      "metadata": {
        "id": "UbS_6q1rNlwg"
      },
      "source": [
        "def ApproximateEntropyGrads(estimator, samples):\n",
        "  dlog_q = estimator.compute_gradients(samples)\n",
        "  surrogate = tf.reduce_mean(\n",
        "      tf.reduce_sum(\n",
        "          tf.stop_gradient(-dlog_q) * tf.cast(samples, tf.float64), -1))\n",
        "  return surrogate"
      ],
      "execution_count": 53,
      "outputs": []
    },
    {
      "cell_type": "code",
      "metadata": {
        "id": "MlZfdrdbv-N6"
      },
      "source": [
        "def SamplePosterior(particles, x, training=True):\n",
        "  return tf.stack([particle(x, training=training) for particle in particles])"
      ],
      "execution_count": 54,
      "outputs": []
    },
    {
      "cell_type": "code",
      "metadata": {
        "id": "nvN3HW-omGvl"
      },
      "source": [
        "def Train(epochs=200,\n",
        "          n_particles=10,\n",
        "          task_size=5,\n",
        "          prior_particles=np.copy(y_train),\n",
        "          use_functional_kl=True,\n",
        "          lambda_kl=1.0,\n",
        "          method='sliced_score_estimation',\n",
        "          verbose=True):\n",
        "  \n",
        "  particles = [GetLinearModel() for _ in range(n_particles)]\n",
        "\n",
        "  optimizer = tf.keras.optimizers.Adam(0.001)\n",
        "  criterion = tf.keras.losses.MeanSquaredError()\n",
        "  test_losses = [] # Record losses we see during testing.\n",
        "\n",
        "\n",
        "  # The real targets are the true prior.\n",
        "  if len(prior_particles.shape) == 2:\n",
        "    prior_particles = np.squeeze(prior_particles, -1)\n",
        "\n",
        "  # Configs used as arguments for the `ComputeCrossEntropy` function, which\n",
        "  # will be used for computing the log_prior gradients\n",
        "  # (or approximate gradients). The method field indicates which log-prior\n",
        "  # gradient scheme we will use. Only 'gp' comes with an analytical form.\n",
        "  # for the gradients, trading off expresiveness.\n",
        "  configs = {\n",
        "    'gp': {'method': 'gp',  'kernel_function': gp_prior.kernel},\n",
        "\n",
        "    'ssge': {'method': 'ssge', 'estimator': estimator,\n",
        "            'n_particles': n_particles, 'prior_particles': prior_particles},\n",
        "\n",
        "    'sliced_score_estimation': {'method': 'sliced', \n",
        "                                'score_estimator': score_net},\n",
        "  }\n",
        "\n",
        "  if use_functional_kl:\n",
        "    print('Using %s for computing log-prior gradients. \\n' % method)\n",
        "\n",
        "  for epoch in range(epochs):\n",
        "    task_idx = np.random.choice(np.arange(task_count - test_tasks_cnt))\n",
        "    start, end = task_idx * task_size, (task_idx + 1) * task_size \n",
        "    \n",
        "    with tf.GradientTape(persistent=True) as g:\n",
        "      predictions = SamplePosterior(particles, X_train[start:end], \n",
        "                                    training=True)\n",
        "      log_likelihood = -criterion(tf.reduce_mean(predictions, axis=0),\n",
        "                                  y_train[start:end])\n",
        "      log_likelihood_copy = log_likelihood.numpy()\n",
        "      \n",
        "      if use_functional_kl:\n",
        "          # Use SSGE to approximate the log gradients of the functional\n",
        "          # posterior given the 'drawn' samples from the neural net.\n",
        "          # See Equation (2).\n",
        "          posterior_samples = (\n",
        "              predictions + np.random.normal(0, 1, size=predictions.shape))\n",
        "          entropy_sur = ApproximateEntropyGrads(estimator, posterior_samples)\n",
        "        \n",
        "          if 'gp' in method:\n",
        "            configs[method]['x'] = X_train[start:end]\n",
        "            configs[method]['y'] = tf.squeeze(posterior_samples, axis=2)\n",
        "          elif 'ssge' in method:\n",
        "            configs[method]['y'] = posterior_samples\n",
        "          elif 'score' in method:\n",
        "            configs[method]['y'] = tf.reshape(posterior_samples,\n",
        "                [n_particles *  len(y_train[start:end]), -1])\n",
        "            \n",
        "          cross_entropy_sur = prior_utils.ComputeCrossEntropy(configs[method])\n",
        "          \n",
        "          # Add these up to produce the KL term to be optimized.\n",
        "          functional_kl = (tf.cast(entropy_sur, tf.float32) -\n",
        "                            tf.cast(cross_entropy_sur, tf.float32))\n",
        "          log_likelihood += (lambda_kl * tf.cast(functional_kl, tf.float64) /\n",
        "                            len(X_train[start:end]))\n",
        "\n",
        "    grads_list = []\n",
        "    vars_list = []\n",
        "\n",
        "    for particle in particles:\n",
        "      grads = g.gradient(log_likelihood, particle.trainable_variables)\n",
        "      grads_list.append(grads)\n",
        "      vars_list.append(particle.trainable_variables)\n",
        "\n",
        "    # Gradient ascent for log likelihood and SVGD kernel repulsive forces.\n",
        "    svgd_optimizer = svgd.SVGDOptimizer(grads_list, vars_list, optimizer)\n",
        "    svgd_optimizer.Optimize()\n",
        "\n",
        "    if verbose and epoch % 50 == 0:\n",
        "      test_predictions = SamplePosterior(particles, X_test, training=False)\n",
        "      test_log_likelihood = -criterion(tf.reduce_mean(predictions, axis=0), \n",
        "                                      y_test)\n",
        "      print('Epoch [%d] test log-likelihood: [%f]' %\n",
        "            (epoch, test_log_likelihood,))\n",
        "      test_losses.append(test_log_likelihood.numpy())\n",
        "\n",
        "  return (particles, test_losses)"
      ],
      "execution_count": 55,
      "outputs": []
    },
    {
      "cell_type": "markdown",
      "metadata": {
        "id": "kcDiOVif24Tj"
      },
      "source": [
        "## Results\n",
        "\n",
        "We run the models in two regimes:\n",
        "\n",
        "\n",
        "\n",
        "1.   Just use $MLE$ for training, no functional $KL$.\n",
        "2.   Use the full `f-bnn` objective (Eq. (1)), where we perform the log-prior gradient estimation with each of : `Sliced Score Estimation`, `GP Prior`, `Spectral Stein Gradient Estimator`.\n",
        "\n",
        "We run the training loop `tries_per_method` times for each of the 4 above combinations.\n",
        "\n"
      ]
    },
    {
      "cell_type": "code",
      "metadata": {
        "colab": {
          "base_uri": "https://localhost:8080/"
        },
        "id": "oNzmFb1SyhRi",
        "outputId": "08b07976-f68f-4696-d674-0db3b02b29ba"
      },
      "source": [
        "from collections import defaultdict\n",
        "\n",
        "statistics = defaultdict(list)\n",
        "tries_per_method = 3\n",
        "\n",
        "for method in [(False, 'mle'), (True, 'sliced_score_estimation'),\n",
        "               (True, 'ssge'), (True, 'gp')]:\n",
        "  for i in range(tries_per_method):\n",
        "    print(method, i)\n",
        "    particles, test_losses = Train(use_functional_kl=method[0],\n",
        "                              method=method[1], verbose=True)\n",
        "    statistics[method].append(test_losses[-1])"
      ],
      "execution_count": 57,
      "outputs": [
        {
          "output_type": "stream",
          "text": [
            "(False, 'mle') 0\n",
            "Epoch [0] test log-likelihood: [-0.132790]\n",
            "Epoch [50] test log-likelihood: [-0.082830]\n",
            "Epoch [100] test log-likelihood: [-0.083582]\n",
            "Epoch [150] test log-likelihood: [-0.084937]\n",
            "(False, 'mle') 1\n",
            "Epoch [0] test log-likelihood: [-0.118366]\n",
            "Epoch [50] test log-likelihood: [-0.139616]\n",
            "Epoch [100] test log-likelihood: [-0.098878]\n",
            "Epoch [150] test log-likelihood: [-0.109007]\n",
            "(False, 'mle') 2\n",
            "Epoch [0] test log-likelihood: [-0.102962]\n",
            "Epoch [50] test log-likelihood: [-0.075252]\n",
            "Epoch [100] test log-likelihood: [-0.101153]\n",
            "Epoch [150] test log-likelihood: [-0.139954]\n",
            "(True, 'sliced_score_estimation') 0\n",
            "Using sliced_score_estimation for computing log-prior gradients. \n",
            "\n",
            "Epoch [0] test log-likelihood: [-0.078537]\n",
            "Epoch [50] test log-likelihood: [-0.157820]\n",
            "Epoch [100] test log-likelihood: [-0.290087]\n",
            "Epoch [150] test log-likelihood: [-0.347122]\n",
            "(True, 'sliced_score_estimation') 1\n",
            "Using sliced_score_estimation for computing log-prior gradients. \n",
            "\n",
            "Epoch [0] test log-likelihood: [-0.119972]\n",
            "Epoch [50] test log-likelihood: [-0.203507]\n",
            "Epoch [100] test log-likelihood: [-0.409857]\n",
            "Epoch [150] test log-likelihood: [-0.345299]\n",
            "(True, 'sliced_score_estimation') 2\n",
            "Using sliced_score_estimation for computing log-prior gradients. \n",
            "\n",
            "Epoch [0] test log-likelihood: [-0.147040]\n",
            "Epoch [50] test log-likelihood: [-0.201632]\n",
            "Epoch [100] test log-likelihood: [-0.284117]\n",
            "Epoch [150] test log-likelihood: [-0.439757]\n",
            "(True, 'ssge') 0\n",
            "Using ssge for computing log-prior gradients. \n",
            "\n",
            "Epoch [0] test log-likelihood: [-0.085966]\n",
            "Epoch [50] test log-likelihood: [-0.075896]\n",
            "Epoch [100] test log-likelihood: [-0.107169]\n",
            "Epoch [150] test log-likelihood: [-0.163283]\n",
            "(True, 'ssge') 1\n",
            "Using ssge for computing log-prior gradients. \n",
            "\n",
            "Epoch [0] test log-likelihood: [-0.155844]\n",
            "Epoch [50] test log-likelihood: [-0.093711]\n",
            "Epoch [100] test log-likelihood: [-0.087019]\n",
            "Epoch [150] test log-likelihood: [-0.099834]\n",
            "(True, 'ssge') 2\n",
            "Using ssge for computing log-prior gradients. \n",
            "\n",
            "Epoch [0] test log-likelihood: [-0.090281]\n",
            "Epoch [50] test log-likelihood: [-0.076394]\n",
            "Epoch [100] test log-likelihood: [-0.073016]\n",
            "Epoch [150] test log-likelihood: [-0.093302]\n",
            "(True, 'gp') 0\n",
            "Using gp for computing log-prior gradients. \n",
            "\n",
            "Epoch [0] test log-likelihood: [-0.151737]\n",
            "Epoch [50] test log-likelihood: [-0.108090]\n",
            "Epoch [100] test log-likelihood: [-0.093184]\n",
            "Epoch [150] test log-likelihood: [-0.082340]\n",
            "(True, 'gp') 1\n",
            "Using gp for computing log-prior gradients. \n",
            "\n",
            "Epoch [0] test log-likelihood: [-0.095372]\n",
            "Epoch [50] test log-likelihood: [-0.085416]\n",
            "Epoch [100] test log-likelihood: [-0.084217]\n",
            "Epoch [150] test log-likelihood: [-0.079167]\n",
            "(True, 'gp') 2\n",
            "Using gp for computing log-prior gradients. \n",
            "\n",
            "Epoch [0] test log-likelihood: [-0.090930]\n",
            "Epoch [50] test log-likelihood: [-0.091380]\n",
            "Epoch [100] test log-likelihood: [-0.087350]\n",
            "Epoch [150] test log-likelihood: [-0.087853]\n"
          ],
          "name": "stdout"
        }
      ]
    },
    {
      "cell_type": "code",
      "metadata": {
        "colab": {
          "base_uri": "https://localhost:8080/"
        },
        "id": "JoKyA0X_ymUQ",
        "outputId": "7a052787-7388-45d9-f9d2-c38d11e4b831"
      },
      "source": [
        "# Show confidence intervals for all results corresponding to each method.\n",
        "import scipy.stats as st\n",
        "\n",
        "for method, results in statistics.items():\n",
        "  print(method[1], ': ', st.t.interval(0.95, len(results) - 1,\n",
        "                                 loc=np.mean(results), scale=st.sem(results)))"
      ],
      "execution_count": 58,
      "outputs": [
        {
          "output_type": "stream",
          "text": [
            "mle :  (-0.17981282326730708, -0.04278592315164585)\n",
            "sliced_score_estimation :  (-0.5115779564028239, -0.24320718395260424)\n",
            "ssge :  (-0.2148337122673209, -0.02277842592453802)\n",
            "gp :  (-0.09403860336253506, -0.07220109039833683)\n"
          ],
          "name": "stdout"
        }
      ]
    }
  ]
}