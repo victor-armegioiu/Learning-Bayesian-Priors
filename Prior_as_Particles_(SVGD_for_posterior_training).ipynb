{
  "nbformat": 4,
  "nbformat_minor": 0,
  "metadata": {
    "accelerator": "GPU",
    "colab": {
      "name": "Prior as Particles (SVGD for posterior training).ipynb",
      "provenance": [],
      "collapsed_sections": [],
      "authorship_tag": "ABX9TyOC5HEM1TSlFEdxFRyYx85K",
      "include_colab_link": true
    },
    "kernelspec": {
      "display_name": "Python 3",
      "name": "python3"
    }
  },
  "cells": [
    {
      "cell_type": "markdown",
      "metadata": {
        "id": "view-in-github",
        "colab_type": "text"
      },
      "source": [
        "<a href=\"https://colab.research.google.com/github/victor-armegioiu/Learning-Bayesian-Priors/blob/main/Prior_as_Particles_(SVGD_for_posterior_training).ipynb\" target=\"_parent\"><img src=\"https://colab.research.google.com/assets/colab-badge.svg\" alt=\"Open In Colab\"/></a>"
      ]
    },
    {
      "cell_type": "markdown",
      "metadata": {
        "id": "Ttj1NMzeLb7l"
      },
      "source": [
        "# Better priors represented as particles"
      ]
    },
    {
      "cell_type": "markdown",
      "metadata": {
        "id": "3HNFtn3JLmBv"
      },
      "source": [
        "## Setup "
      ]
    },
    {
      "cell_type": "code",
      "metadata": {
        "colab": {
          "base_uri": "https://localhost:8080/"
        },
        "id": "emnY7qQ_D27i",
        "outputId": "db2ed15f-1594-4936-d326-18f1f8b4b3bf"
      },
      "source": [
        "from google.colab import drive\n",
        "drive.mount('/content/gdrive')"
      ],
      "execution_count": 2,
      "outputs": [
        {
          "output_type": "stream",
          "text": [
            "Drive already mounted at /content/gdrive; to attempt to forcibly remount, call drive.mount(\"/content/gdrive\", force_remount=True).\n"
          ],
          "name": "stdout"
        }
      ]
    },
    {
      "cell_type": "code",
      "metadata": {
        "id": "fDhq3YG2Lh57"
      },
      "source": [
        "# gpflow doesn't come preloaded with colab.\n",
        "!pip3 install gpflow"
      ],
      "execution_count": null,
      "outputs": []
    },
    {
      "cell_type": "code",
      "metadata": {
        "id": "Ks43pRGGFeLZ"
      },
      "source": [
        "import numpy as np\n",
        "import time\n",
        "\n",
        "from sklearn.preprocessing import StandardScaler\n",
        "from sklearn.datasets import make_regression\n",
        "from sklearn.model_selection import train_test_split\n",
        "\n",
        "import tensorflow as tf\n",
        "import tensorflow_probability as tfp\n",
        "\n",
        "import matplotlib\n",
        "import matplotlib.pyplot as plt\n",
        "\n",
        "from gdrive.MyDrive.prior_learning.spectral_stein_grad.estimator import SpectralScoreEstimator\n",
        "from gdrive.MyDrive.prior_learning import data_utils\n",
        "from gdrive.MyDrive.prior_learning import prior_utils\n",
        "from gdrive.MyDrive.prior_learning import sliced_score_estimation\n",
        "from gdrive.MyDrive.prior_learning import svgd\n",
        "\n",
        "\n",
        "tf.compat.v1.enable_eager_execution()\n"
      ],
      "execution_count": 60,
      "outputs": []
    },
    {
      "cell_type": "code",
      "metadata": {
        "colab": {
          "base_uri": "https://localhost:8080/"
        },
        "id": "jpyirMceU8rl",
        "outputId": "01ad573e-69ce-453d-a419-000878c961ab"
      },
      "source": [
        "tf.executing_eagerly()"
      ],
      "execution_count": 5,
      "outputs": [
        {
          "output_type": "execute_result",
          "data": {
            "text/plain": [
              "True"
            ]
          },
          "metadata": {
            "tags": []
          },
          "execution_count": 5
        }
      ]
    },
    {
      "cell_type": "code",
      "metadata": {
        "colab": {
          "base_uri": "https://localhost:8080/"
        },
        "id": "exSRRJaSZHEA",
        "outputId": "c5f0e0f2-cc66-4e12-de04-6c598012d72f"
      },
      "source": [
        "tf.config.list_physical_devices('GPU') "
      ],
      "execution_count": 6,
      "outputs": [
        {
          "output_type": "execute_result",
          "data": {
            "text/plain": [
              "[PhysicalDevice(name='/physical_device:GPU:0', device_type='GPU')]"
            ]
          },
          "metadata": {
            "tags": []
          },
          "execution_count": 6
        }
      ]
    },
    {
      "cell_type": "markdown",
      "metadata": {
        "id": "AtFYyye2Lq1G"
      },
      "source": [
        "## Building the dataset"
      ]
    },
    {
      "cell_type": "code",
      "metadata": {
        "id": "atKQhTcWGAYp"
      },
      "source": [
        "task_count = 10\n",
        "tasks_data = data_utils.GetSinusoidParams(task_count)"
      ],
      "execution_count": 7,
      "outputs": []
    },
    {
      "cell_type": "code",
      "metadata": {
        "id": "SC6KrF3DNlZG"
      },
      "source": [
        "config = {\n",
        "          'input_shape': 1,             # Shape of input data.\n",
        "          'size': 5,                    # Number of samples per task.  \n",
        "          'generation_method': 'sine',  # Generating process of the labels.\n",
        "          'tasks_data': tasks_data,     # Hyperparams for the sinusoids.\n",
        "}"
      ],
      "execution_count": 8,
      "outputs": []
    },
    {
      "cell_type": "code",
      "metadata": {
        "id": "-rX5LSt5Jgf_"
      },
      "source": [
        "X, y = data_utils.GetDataset(config)\n",
        "X = X[:, None]\n",
        "test_tasks_cnt = 1\n",
        "\n",
        "first_test_idx = len(X) - test_tasks_cnt * config['size']\n",
        "X_train, y_train = X[:first_test_idx], y[:first_test_idx]\n",
        "X_test, y_test = X[first_test_idx:], y[first_test_idx:]"
      ],
      "execution_count": 9,
      "outputs": []
    },
    {
      "cell_type": "code",
      "metadata": {
        "colab": {
          "base_uri": "https://localhost:8080/"
        },
        "id": "qAhcM4vPgZBE",
        "outputId": "dde458db-e397-400c-d5e6-77cc40db2a34"
      },
      "source": [
        "X_train.shape, X_test.shape"
      ],
      "execution_count": 10,
      "outputs": [
        {
          "output_type": "execute_result",
          "data": {
            "text/plain": [
              "((45, 1), (5, 1))"
            ]
          },
          "metadata": {
            "tags": []
          },
          "execution_count": 10
        }
      ]
    },
    {
      "cell_type": "code",
      "metadata": {
        "id": "0WoIeHxbpzcX"
      },
      "source": [
        "scaler = StandardScaler().fit(X_train)"
      ],
      "execution_count": 11,
      "outputs": []
    },
    {
      "cell_type": "code",
      "metadata": {
        "id": "VQZtL6nxglLY"
      },
      "source": [
        "# Use the same scaler in order to ensure that we don't inject knowledge\n",
        "# about the test distribution in our training biases.\n",
        "X_train = scaler.transform(X_train)\n",
        "X_test = scaler.transform(X_test)"
      ],
      "execution_count": 12,
      "outputs": []
    },
    {
      "cell_type": "code",
      "metadata": {
        "colab": {
          "base_uri": "https://localhost:8080/",
          "height": 294
        },
        "id": "lIUpN7Vkwj8A",
        "outputId": "c5a5a1cc-86a5-4a6e-dc81-be25ddff0f91"
      },
      "source": [
        "fig, (ax1, ax2) = plt.subplots(1, 2)\n",
        "fig.suptitle('Inputs Train/Test distributions')\n",
        "ax1.hist(X_train, bins=10)\n",
        "ax2.hist(X_test, bins=10)\n",
        "plt.show()"
      ],
      "execution_count": 13,
      "outputs": [
        {
          "output_type": "display_data",
          "data": {
            "image/png": "[encoded data removed]",
            "text/plain": [
              "<Figure size 432x288 with 2 Axes>"
            ]
          },
          "metadata": {
            "tags": [],
            "needs_background": "light"
          }
        }
      ]
    },
    {
      "cell_type": "code",
      "metadata": {
        "id": "3ldHY_xK2Y9O"
      },
      "source": [
        "# Scale both dataset by `y_train_max`. Same reasoning\n",
        "# as in using the same scaler on inputs. This is done to avoid\n",
        "# exploding gradients.\n",
        "y_train_max = y_train.max()\n",
        "y_train /= y_train_max\n",
        "y_test /= y_train_max"
      ],
      "execution_count": 14,
      "outputs": []
    },
    {
      "cell_type": "code",
      "metadata": {
        "colab": {
          "base_uri": "https://localhost:8080/",
          "height": 294
        },
        "id": "VEdTaSi9w5iC",
        "outputId": "cf31ca7d-3c22-4ea2-b79a-94d9feca07eb"
      },
      "source": [
        "fig, (ax1, ax2) = plt.subplots(1, 2)\n",
        "fig.suptitle('Labels Train/Test distributions')\n",
        "ax1.hist(y_train, bins=100)\n",
        "ax2.hist(y_test, bins=100)\n",
        "plt.show()"
      ],
      "execution_count": 15,
      "outputs": [
        {
          "output_type": "display_data",
          "data": {
            "image/png": "[encoded data removed]",
            "text/plain": [
              "<Figure size 432x288 with 2 Axes>"
            ]
          },
          "metadata": {
            "tags": [],
            "needs_background": "light"
          }
        }
      ]
    },
    {
      "cell_type": "markdown",
      "metadata": {
        "id": "hUczRSqDrgyZ"
      },
      "source": [
        "## GP Prior Setup\n",
        "\n",
        "Train a $\\mathcal{GP}$ on the training data, so that we may later use the tuned kernel for estimating the covariance of a Normal distribution over function values (this shall be used as the prior in the `f-bnn` formulation below)."
      ]
    },
    {
      "cell_type": "code",
      "metadata": {
        "id": "R8reHpDqdZNH"
      },
      "source": [
        "# Pre-train GP prior.\n",
        "gp_prior, _ = prior_utils.TrainGPPrior(X_train, y_train)"
      ],
      "execution_count": 16,
      "outputs": []
    },
    {
      "cell_type": "markdown",
      "metadata": {
        "id": "Lp0sKmQh6O-i"
      },
      "source": [
        "## Sliced Score Estimator Setup (https://arxiv.org/pdf/1905.07088.pdf)\n",
        "\n",
        "Here we train a network $h(\\cdot, \\hat{\\theta})$ which minimizes the objective $\\mathbb{E}_{x \\sim \\mu} \\Vert h(x, \\hat{\\theta}) - \\nabla_x \\log p(x) \\Vert_{2}$ in an unsupervised way, where $\\mu$ is some unknown data generating process and $p := \\sum_i \\delta_{x_i}$ is an empirical measure represented as a set of particles."
      ]
    },
    {
      "cell_type": "code",
      "metadata": {
        "id": "0s1vAhNu75Ax"
      },
      "source": [
        "input_shape = (1,)\n",
        "score_net = tf.keras.Sequential([\n",
        "    tf.keras.Input(shape=input_shape, name='input'),\n",
        "    tf.keras.layers.Dense(10, activation='relu'),\n",
        "    tf.keras.layers.Dense(input_shape[0]),\n",
        "])\n",
        "\n",
        "config_slice_train = {'data': y_train[:, None],\n",
        "          'score_net': score_net,\n",
        "          'epochs': 100, \n",
        "          'lambda_reg': 0.15\n",
        "}"
      ],
      "execution_count": 18,
      "outputs": []
    },
    {
      "cell_type": "code",
      "metadata": {
        "colab": {
          "base_uri": "https://localhost:8080/"
        },
        "id": "yTktaqjF7TGu",
        "outputId": "a46c051a-8255-4e74-c009-29376dfa54c9"
      },
      "source": [
        "score_net, best_loss = (\n",
        "    sliced_score_estimation.GetSlicedScoreEstimator(config_slice_train,\n",
        "                                                    verbose=True))"
      ],
      "execution_count": 19,
      "outputs": [
        {
          "output_type": "stream",
          "text": [
            "WARNING:tensorflow:Calling GradientTape.gradient on a persistent tape inside its context is significantly less efficient than calling it outside the context (it causes the gradient ops to be recorded on the tape, leading to increased CPU and memory usage). Only call GradientTape.gradient inside the context if you actually want to trace the gradient in order to compute higher order derivatives.\n",
            "Epoch [0], loss: [5.358446]\n",
            "Epoch [10], loss: [2.604599]\n",
            "Epoch [20], loss: [0.484551]\n",
            "Epoch [30], loss: [-0.614255]\n",
            "Epoch [40], loss: [-2.555415]\n",
            "Epoch [50], loss: [-2.209540]\n",
            "Epoch [60], loss: [-4.879505]\n",
            "Epoch [70], loss: [-4.139803]\n",
            "Epoch [80], loss: [-5.332477]\n",
            "Epoch [90], loss: [-5.571452]\n"
          ],
          "name": "stdout"
        }
      ]
    },
    {
      "cell_type": "markdown",
      "metadata": {
        "id": "CgDB6_SSLxOW"
      },
      "source": [
        "## Model setup"
      ]
    },
    {
      "cell_type": "code",
      "metadata": {
        "id": "D2P4aL4kLMMg"
      },
      "source": [
        "# Estimator to be used for computing score gradients of implicit distributions\n",
        "# represtend as sets of particles.\n",
        "estimator = SpectralScoreEstimator(n_eigen_threshold=0.99, eta=0.0)"
      ],
      "execution_count": 22,
      "outputs": []
    },
    {
      "cell_type": "code",
      "metadata": {
        "id": "ckeHM_HHSgV_"
      },
      "source": [
        "# An ensemble of these models will represent our set of particles.\n",
        "def GetLinearModel():\n",
        "  model = tf.keras.Sequential()\n",
        "  model.add(tf.keras.layers.Dense(5, input_shape=(1,), activation='relu'))\n",
        "  model.add(tf.keras.layers.Dense(1))\n",
        "  return model"
      ],
      "execution_count": 24,
      "outputs": []
    },
    {
      "cell_type": "markdown",
      "metadata": {
        "id": "f37ZS9Fa1_N6"
      },
      "source": [
        "Reframing variational inference in the function space, we arrive at the following objective formulation [Sun et al., 2019]\n",
        "\n",
        "\\begin{equation}\n",
        " \\log p(\\mathcal{D} \\vert f) - \\lambda KL(q \\Vert p) \\hspace{0.5cm}(1)\n",
        "\\end{equation}\n",
        "\n",
        "where $q, p$ represent the posterior, and the prior over function values.\n",
        "\n",
        "Using the reparametrization trick, function values $f(x) \\sim q(\\cdot)$ are drawn from a parameterized neural networks $g_\\phi(x ; \\xi)$, where each set of parameters corresponding to a neural network is regarded as a particle. We optimize all particles jointly with $\\text{SVGD}$.\n",
        "\n",
        " Here $\\phi$ denotes the set of optimizable parameters, while $\\xi$ is a random perturbation under which the change of variable is performed. Hence, drawing samples $f(x) \\sim q$ is done by forwarding $x$ through $g_\\phi(\\cdot ; \\xi)$.\n",
        "\n",
        "In order to obtain a feasible optimization procedure from $(1)$, the $KL$ divergence is then expanded as \n",
        "\n",
        "\\begin{equation}\n",
        " KL(q \\Vert p)  = \\mathbb{E}_{\\xi}[\\nabla_\\phi \\textbf{f} (\\nabla_\\textbf{f} \\log q(\\textbf{f}) - \\nabla_\\textbf{f}\\log p(\\textbf{f})  )] \\hspace{0.5cm}(2)\n",
        "\\end{equation}\n",
        "\n",
        "Note that the $KL$ term is made tractable by using SSGE [Shi et al., 2018] to extract gradients for the score functions, since both $q(\\cdot), p(\\cdot)$ are both implicit distributions represented as particles."
      ]
    },
    {
      "cell_type": "code",
      "metadata": {
        "id": "UbS_6q1rNlwg"
      },
      "source": [
        "def ApproximateEntropyGrads(estimator, samples):\n",
        "  dlog_q = estimator.compute_gradients(samples)\n",
        "  surrogate = tf.reduce_mean(\n",
        "      tf.reduce_sum(\n",
        "          tf.stop_gradient(-dlog_q) * tf.cast(samples, tf.float64), -1))\n",
        "  return surrogate"
      ],
      "execution_count": 20,
      "outputs": []
    },
    {
      "cell_type": "code",
      "metadata": {
        "colab": {
          "base_uri": "https://localhost:8080/"
        },
        "id": "nvN3HW-omGvl",
        "outputId": "55613ef4-5e97-43cd-eca3-980a0fa22957"
      },
      "source": [
        "n_particles = 10\n",
        "particles = [GetLinearModel() for _ in range(n_particles)]\n",
        "task_size = 5\n",
        "\n",
        "optimizer = tf.keras.optimizers.Adam(0.001)\n",
        "criterion = tf.keras.losses.MeanSquaredError()\n",
        "epochs = 500\n",
        "\n",
        "# The real targets are the true prior.\n",
        "prior_particles = np.copy(y_train)\n",
        "if len(prior_particles.shape) == 2:\n",
        "  prior_particles = np.squeeze(prior_particles, -1)\n",
        "\n",
        "# If this is disabled the model disregards the KL term and simply optimizes\n",
        "# the likelihood of the targets.\n",
        "use_functional_kl = True\n",
        "lambda_kl = 1.0\n",
        "\n",
        "# Configs used as arguments for the `ComputeCrossEntropy` function, which\n",
        "# will be used for computing the log_prior gradients (or approximate gradients).\n",
        "configs = {\n",
        "  'gp': {'method': 'gp',  'kernel_function': gp_prior.kernel},\n",
        "\n",
        "  'ssge': {'method': 'ssge', 'estimator': estimator,\n",
        "           'n_particles': n_particles, 'prior_particles': prior_particles},\n",
        "\n",
        "  'sliced_score_estimation': {'method': 'sliced', \n",
        "                              'score_estimator': score_net},\n",
        "}\n",
        "\n",
        "# If 'gp' is chosen here, then the prior will be represented exactly as a GP.\n",
        "# Otherwise, we will use the ground truth particles as an empirical measure\n",
        "# and compute approximate gradients with either {SSGE, SSM}.\n",
        "method = 'sliced_score_estimation'\n",
        "print('Using %s for computing log-prior gradients. \\n' % method)\n",
        "\n",
        "for epoch in range(epochs):\n",
        "  task_idx = np.random.choice(np.arange(task_count - test_tasks_cnt))\n",
        "  start, end = task_idx * task_size, (task_idx + 1) * task_size \n",
        "  \n",
        "  with tf.GradientTape(persistent=True) as g:\n",
        "    predictions = tf.stack([particle(X_train[start:end]) \n",
        "                            for particle in particles])\n",
        "    log_likelihood = -criterion(tf.reduce_mean(predictions, axis=0),\n",
        "                                y_train[start:end])\n",
        "    \n",
        "    if use_functional_kl:\n",
        "        # Use SSGE to approximate the log gradients of the functional\n",
        "        # posterior given the 'drawn' samples from the neural net.\n",
        "        # See Equation (2).\n",
        "        posterior_samples = (\n",
        "            predictions + np.random.normal(0, 1, size=predictions.shape))\n",
        "        entropy_sur = ApproximateEntropyGrads(estimator, posterior_samples)\n",
        "      \n",
        "        if 'gp' in method:\n",
        "          configs[method]['x'] = X_train[start:end]\n",
        "          configs[method]['y'] = tf.squeeze(posterior_samples, axis=2)\n",
        "        elif 'ssge' in method:\n",
        "          configs[method]['y'] = posterior_samples\n",
        "        elif 'score' in method:\n",
        "          configs[method]['y'] = tf.reshape(posterior_samples,\n",
        "              [n_particles *  len(y_train[start:end]), -1])\n",
        "          \n",
        "        cross_entropy_sur = prior_utils.ComputeCrossEntropy(configs[method])\n",
        "        \n",
        "        # Add these up to produce the KL term to be optimized.\n",
        "        functional_kl = (tf.cast(entropy_sur, tf.float32) -\n",
        "                          tf.cast(cross_entropy_sur, tf.float32))\n",
        "        log_likelihood += lambda_kl * tf.cast(functional_kl, tf.float64)\n",
        "        log_likelihood /= len(X_train[start:end])\n",
        "\n",
        "  grads_list = []\n",
        "  vars_list = []\n",
        "\n",
        "  for particle in particles:\n",
        "    grads = g.gradient(log_likelihood, particle.trainable_variables)\n",
        "    grads_list.append(grads)\n",
        "    vars_list.append(particle.trainable_variables)\n",
        "\n",
        "  # Gradient ascent for log likelihood and SVGD kernel repulsive forces.\n",
        "  svgd_optimizer = svgd.SVGDOptimizer(grads_list, vars_list, optimizer)\n",
        "  svgd_optimizer.Optimize()\n",
        "\n",
        "  if epoch % 50 == 0:\n",
        "    print('Epoch [%d] log-likelihood: [%f]' % (epoch, log_likelihood.numpy(),))"
      ],
      "execution_count": 63,
      "outputs": [
        {
          "output_type": "stream",
          "text": [
            "Using sliced_score_estimation for computing log-prior gradients. \n",
            "\n",
            "Epoch [0] log-likelihood: [-1.812075]\n",
            "Epoch [50] log-likelihood: [-1.926962]\n",
            "Epoch [100] log-likelihood: [-1.542763]\n",
            "Epoch [150] log-likelihood: [-2.322860]\n",
            "Epoch [200] log-likelihood: [-2.221006]\n",
            "Epoch [250] log-likelihood: [-2.172384]\n",
            "Epoch [300] log-likelihood: [-2.198034]\n",
            "Epoch [350] log-likelihood: [-1.561041]\n",
            "Epoch [400] log-likelihood: [-1.952652]\n",
            "Epoch [450] log-likelihood: [-1.922534]\n"
          ],
          "name": "stdout"
        }
      ]
    },
    {
      "cell_type": "code",
      "metadata": {
        "colab": {
          "base_uri": "https://localhost:8080/",
          "height": 265
        },
        "id": "4XswtGczNRv5",
        "outputId": "4ee15904-2442-4ae3-b3af-583ea4d0c60b"
      },
      "source": [
        "predictions = tf.stack([particle(X_test) for particle in particles])\n",
        "predictions = tf.reduce_mean(predictions, axis=0)\n",
        "\n",
        "plt.plot(predictions.numpy())\n",
        "plt.plot(y_test)\n",
        "plt.legend(['Predictions', 'Ground Truth'], loc='upper left')\n",
        "\n",
        "plt.show()"
      ],
      "execution_count": 62,
      "outputs": [
        {
          "output_type": "display_data",
          "data": {
            "image/png": "[encoded data removed]",
            "text/plain": [
              "<Figure size 432x288 with 1 Axes>"
            ]
          },
          "metadata": {
            "tags": [],
            "needs_background": "light"
          }
        }
      ]
    }
  ]
}