{
  "nbformat": 4,
  "nbformat_minor": 0,
  "metadata": {
    "accelerator": "GPU",
    "colab": {
      "name": "Prior as Particles (Stein Variational Gradient Descent for posterior training).ipynb",
      "provenance": [],
      "collapsed_sections": [],
      "toc_visible": true,
      "authorship_tag": "ABX9TyN1eCqfZIJZ/GXd5An8/ZGN",
      "include_colab_link": true
    },
    "kernelspec": {
      "display_name": "Python 3",
      "name": "python3"
    }
  },
  "cells": [
    {
      "cell_type": "markdown",
      "metadata": {
        "id": "view-in-github",
        "colab_type": "text"
      },
      "source": [
        "<a href=\"https://colab.research.google.com/github/victor-armegioiu/Meta-Learning-Bayesian-Priors/blob/main/Prior_as_Particles_(Stein_Variational_Gradient_Descent_for_posterior_training).ipynb\" target=\"_parent\"><img src=\"https://colab.research.google.com/assets/colab-badge.svg\" alt=\"Open In Colab\"/></a>"
      ]
    },
    {
      "cell_type": "markdown",
      "metadata": {
        "id": "Ttj1NMzeLb7l"
      },
      "source": [
        "# Better priors represented as particles\n",
        "\n",
        "---\n",
        "\n",
        "Seed papers: FUNCTIONAL VARIATIONAL BAYESIAN NEURAL NETWORKS (https://arxiv.org/pdf/1903.05779.pdf)\n",
        "\n",
        "Understanding Variational Inference in Function-Space (https://arxiv.org/pdf/2011.09421.pdf)\n",
        "\n"
      ]
    },
    {
      "cell_type": "markdown",
      "metadata": {
        "id": "3HNFtn3JLmBv"
      },
      "source": [
        "## Setup \n",
        "\n",
        "Necessary imports, setting up the Colab environment."
      ]
    },
    {
      "cell_type": "code",
      "metadata": {
        "id": "emnY7qQ_D27i",
        "colab": {
          "base_uri": "https://localhost:8080/"
        },
        "outputId": "8e3c10de-92d4-4a29-99d3-99d61a79dc80"
      },
      "source": [
        "from google.colab import drive\n",
        "drive.mount('/content/gdrive')"
      ],
      "execution_count": 1,
      "outputs": [
        {
          "output_type": "stream",
          "text": [
            "Mounted at /content/gdrive\n"
          ],
          "name": "stdout"
        }
      ]
    },
    {
      "cell_type": "code",
      "metadata": {
        "id": "fDhq3YG2Lh57"
      },
      "source": [
        "# gpflow doesn't come preloaded with colab.\n",
        "!pip3 install gpflow"
      ],
      "execution_count": null,
      "outputs": []
    },
    {
      "cell_type": "code",
      "metadata": {
        "id": "Ks43pRGGFeLZ",
        "colab": {
          "base_uri": "https://localhost:8080/"
        },
        "outputId": "23453e2e-ec10-4b9d-9bc1-c6e94cc44762"
      },
      "source": [
        "import numpy as np\n",
        "import time\n",
        "\n",
        "from sklearn.preprocessing import StandardScaler\n",
        "from sklearn.datasets import make_regression\n",
        "from sklearn.model_selection import train_test_split\n",
        "\n",
        "import tensorflow as tf\n",
        "import tensorflow_probability as tfp\n",
        "\n",
        "import matplotlib\n",
        "import matplotlib.pyplot as plt\n",
        "\n",
        "from gdrive.MyDrive.prior_learning.spectral_stein_grad.estimator import SpectralScoreEstimator\n",
        "from gdrive.MyDrive.prior_learning import data_utils\n",
        "from gdrive.MyDrive.prior_learning import gp_utils\n",
        "from gdrive.MyDrive.prior_learning import prior_utils\n",
        "from gdrive.MyDrive.prior_learning import sliced_score_estimation\n",
        "from gdrive.MyDrive.prior_learning import svgd\n",
        "\n",
        "\n",
        "tf.compat.v1.enable_eager_execution()"
      ],
      "execution_count": 3,
      "outputs": [
        {
          "output_type": "stream",
          "text": [
            "WARNING:tensorflow:From /usr/local/lib/python3.7/dist-packages/tensorflow/python/compat/v2_compat.py:96: disable_resource_variables (from tensorflow.python.ops.variable_scope) is deprecated and will be removed in a future version.\n",
            "Instructions for updating:\n",
            "non-resource variables are not supported in the long term\n"
          ],
          "name": "stdout"
        }
      ]
    },
    {
      "cell_type": "code",
      "metadata": {
        "colab": {
          "base_uri": "https://localhost:8080/"
        },
        "id": "jpyirMceU8rl",
        "outputId": "74db894e-07d7-41bc-8db1-27c42e03c9aa"
      },
      "source": [
        "tf.executing_eagerly()"
      ],
      "execution_count": 4,
      "outputs": [
        {
          "output_type": "execute_result",
          "data": {
            "text/plain": [
              "True"
            ]
          },
          "metadata": {
            "tags": []
          },
          "execution_count": 4
        }
      ]
    },
    {
      "cell_type": "code",
      "metadata": {
        "id": "exSRRJaSZHEA",
        "colab": {
          "base_uri": "https://localhost:8080/"
        },
        "outputId": "b42b48ac-307c-463e-becc-9a97acf269c7"
      },
      "source": [
        "tf.config.list_physical_devices('GPU') "
      ],
      "execution_count": 5,
      "outputs": [
        {
          "output_type": "execute_result",
          "data": {
            "text/plain": [
              "[PhysicalDevice(name='/physical_device:GPU:0', device_type='GPU')]"
            ]
          },
          "metadata": {
            "tags": []
          },
          "execution_count": 5
        }
      ]
    },
    {
      "cell_type": "markdown",
      "metadata": {
        "id": "AtFYyye2Lq1G"
      },
      "source": [
        "## Building the dataset\n",
        "\n",
        "We assume a typical meta-learning scenario, where one has access to a limited number of related tasks which are assumed to be generated under the same generating process. Naturally, we expect the underlying generating parameters of each task to be subject to small perturbations, rendering a family of functions. \n",
        "Specifically, we assume access to a \\textit{meta-training} dataset $\\mathcal{D}_{\\text{train}} := \\{T_i\\}_{i=1}^m$ where each task $T_i := \\{(x_j, y_j)\\}_{j=1}^k$ corresponds to a meta-learning task.\n",
        "Analogously, we assume access to a \\textit{meta-tuning} dataset $\\mathcal{D}_{\\text{tune}} := \\{T_i\\}_{i=1}^n$, where typically $n \\ll m$. \\\\\n",
        "\n",
        "\n",
        "In this example, we generate the index sets per task as $X_i \\sim \\mathcal{U}(-5, 5)$ and apply a linear combination of a scaled + shifted sinusoid and an affine transform to get the targets $y_i$."
      ]
    },
    {
      "cell_type": "code",
      "metadata": {
        "id": "SC6KrF3DNlZG"
      },
      "source": [
        "config = {\n",
        "    'generation_method': 'sine', \n",
        "    'meta_training_task_cnt': 50,   # Meta tasks used for prior learning.\n",
        "    'meta_tuning_task_cnt': 25,     # Meta tasks to deploy learned priors on.\n",
        "    'task_size': 5, # Number of inputs/outputs per meta-task.\n",
        "    'input_shape': (1,),\n",
        "}"
      ],
      "execution_count": 6,
      "outputs": []
    },
    {
      "cell_type": "code",
      "metadata": {
        "id": "qAhcM4vPgZBE"
      },
      "source": [
        "meta_training_tasks, meta_tuning_tasks = data_utils.GetDataset(config)"
      ],
      "execution_count": 7,
      "outputs": []
    },
    {
      "cell_type": "code",
      "metadata": {
        "id": "0WoIeHxbpzcX"
      },
      "source": [
        "def NormalizeData(tasks, scaler=None, y_max=None):\n",
        "  if not scaler or not y_max:\n",
        "    scaler = StandardScaler()\n",
        "    y_max = np.max([np.max(y) for _, y in tasks])\n",
        "  for x, y in tasks:\n",
        "    x = scaler.fit_transform(x)\n",
        "    y /= y_max\n",
        "  return tasks, scaler, y_max"
      ],
      "execution_count": 8,
      "outputs": []
    },
    {
      "cell_type": "markdown",
      "metadata": {
        "id": "WI1ZtuUVxg5d"
      },
      "source": [
        "Use last `test_tasks_cnt` for testing, and leave the rest for training. "
      ]
    },
    {
      "cell_type": "code",
      "metadata": {
        "id": "o8AB9zYEqYJl"
      },
      "source": [
        "test_tasks_cnt = 5"
      ],
      "execution_count": 9,
      "outputs": []
    },
    {
      "cell_type": "code",
      "metadata": {
        "id": "VQZtL6nxglLY"
      },
      "source": [
        "# Use the same scaler in order to ensure that we don't inject knowledge\n",
        "# about the test distribution in our training biases.\n",
        "meta_tuning_train_tasks, scaler, y_max = NormalizeData(\n",
        "    meta_tuning_tasks[:-test_tasks_cnt])\n",
        "meta_tuning_test_tasks, _ , _ = NormalizeData(\n",
        "    meta_tuning_tasks[-test_tasks_cnt:], scaler, y_max)"
      ],
      "execution_count": 10,
      "outputs": []
    },
    {
      "cell_type": "code",
      "metadata": {
        "id": "eemwpWnDwnOi"
      },
      "source": [
        "# Scale meta_training_tasks as well.\n",
        "meta_training_tasks, _, _ = NormalizeData(meta_training_tasks)"
      ],
      "execution_count": 11,
      "outputs": []
    },
    {
      "cell_type": "code",
      "metadata": {
        "colab": {
          "base_uri": "https://localhost:8080/",
          "height": 279
        },
        "id": "K7YNPV1PtCA6",
        "outputId": "a01689b3-ba04-4b13-c260-74deeef43d81"
      },
      "source": [
        "for x, y in meta_training_tasks:\n",
        "  plt.plot(x, y)\n",
        "\n",
        "plt.xlabel('x')\n",
        "plt.ylabel('y')\n",
        "plt.show()"
      ],
      "execution_count": 12,
      "outputs": [
        {
          "output_type": "display_data",
          "data": {
            "image/png": "[encoded data removed]",
            "text/plain": [
              "<Figure size 432x288 with 1 Axes>"
            ]
          },
          "metadata": {
            "tags": [],
            "needs_background": "light"
          }
        }
      ]
    },
    {
      "cell_type": "markdown",
      "metadata": {
        "id": "hUczRSqDrgyZ"
      },
      "source": [
        "## GP Prior Setup\n",
        "\n",
        "Train a $\\mathcal{GP}$ on the training data, so that we may later use the tuned kernel for estimating the covariance of a Normal distribution over function values (this shall be used as the prior in the `f-bnn` formulation below)."
      ]
    },
    {
      "cell_type": "code",
      "metadata": {
        "id": "R8reHpDqdZNH",
        "colab": {
          "base_uri": "https://localhost:8080/"
        },
        "outputId": "80cc6daa-edf9-408b-aa0b-d9afec8185f8"
      },
      "source": [
        "# Pre-train GP prior.\n",
        "mean_function, kernel = gp_utils.TrainGPPrior(meta_training_tasks, verbose=True)"
      ],
      "execution_count": 13,
      "outputs": [
        {
          "output_type": "stream",
          "text": [
            "\n",
            "Currently in meta-iteration/epoch 1/5:\n",
            "Task 0 log-likelihood: -4.207825223752434\n",
            "Task 5 log-likelihood: -3.8141192110204143\n",
            "Task 10 log-likelihood: -4.0186327523513405\n",
            "Task 15 log-likelihood: -4.315020814912292\n",
            "Task 20 log-likelihood: -1.2056951979144737\n",
            "Task 25 log-likelihood: -3.127545229691714\n",
            "Task 30 log-likelihood: -4.203641385844219\n",
            "Task 35 log-likelihood: -3.8598113821550557\n",
            "Task 40 log-likelihood: -2.99910537163583\n",
            "Task 45 log-likelihood: -2.352572750938934\n",
            "\n",
            "Currently in meta-iteration/epoch 2/5:\n",
            "Task 0 log-likelihood: -3.5673754694268114\n",
            "Task 5 log-likelihood: -3.126021228769671\n",
            "Task 10 log-likelihood: -3.35705725499167\n",
            "Task 15 log-likelihood: -3.7616239255226884\n",
            "Task 20 log-likelihood: -0.6683091498415772\n",
            "Task 25 log-likelihood: -2.382657713681322\n",
            "Task 30 log-likelihood: -3.6690210945169337\n",
            "Task 35 log-likelihood: -3.260306191712875\n",
            "Task 40 log-likelihood: -2.3988623663363473\n",
            "Task 45 log-likelihood: -1.6172460732278338\n",
            "\n",
            "Currently in meta-iteration/epoch 3/5:\n",
            "Task 0 log-likelihood: -2.9278110852963497\n",
            "Task 5 log-likelihood: -2.442402088344244\n",
            "Task 10 log-likelihood: -2.6505019894524704\n",
            "Task 15 log-likelihood: -3.196299604234337\n",
            "Task 20 log-likelihood: -0.14205199729246143\n",
            "Task 25 log-likelihood: -1.6196227550286935\n",
            "Task 30 log-likelihood: -3.092813653065729\n",
            "Task 35 log-likelihood: -2.621723189062335\n",
            "Task 40 log-likelihood: -1.7737955303869333\n",
            "Task 45 log-likelihood: -0.9074329814224553\n",
            "\n",
            "Currently in meta-iteration/epoch 4/5:\n",
            "Task 0 log-likelihood: -2.2641203062325737\n",
            "Task 5 log-likelihood: -1.7420708555661637\n",
            "Task 10 log-likelihood: -1.9068603109446243\n",
            "Task 15 log-likelihood: -2.5896398414398347\n",
            "Task 20 log-likelihood: 0.37578787740979\n",
            "Task 25 log-likelihood: -0.8691275830263283\n",
            "Task 30 log-likelihood: -2.484765001317689\n",
            "Task 35 log-likelihood: -1.9547471812247021\n",
            "Task 40 log-likelihood: -1.1399083083879207\n",
            "Task 45 log-likelihood: -0.24482066890433085\n",
            "\n",
            "Currently in meta-iteration/epoch 5/5:\n",
            "Task 0 log-likelihood: -1.5818667261145913\n",
            "Task 5 log-likelihood: -1.0497769516181075\n",
            "Task 10 log-likelihood: -1.1413766022619063\n",
            "Task 15 log-likelihood: -1.9641046368584147\n",
            "Task 20 log-likelihood: 0.8695596101942975\n",
            "Task 25 log-likelihood: -0.13610684762687786\n",
            "Task 30 log-likelihood: -1.8393572425085454\n",
            "Task 35 log-likelihood: -1.2754906033059257\n",
            "Task 40 log-likelihood: -0.5081924129930053\n",
            "Task 45 log-likelihood: 0.3785978728417083\n"
          ],
          "name": "stdout"
        }
      ]
    },
    {
      "cell_type": "markdown",
      "metadata": {
        "id": "Lp0sKmQh6O-i"
      },
      "source": [
        "## Sliced Score Estimator Setup (https://arxiv.org/pdf/1905.07088.pdf)\n",
        "\n",
        "Here we train a network $h(\\cdot, \\hat{\\theta})$ which minimizes the objective $\\mathbb{E}_{x \\sim \\mu} \\Vert h(x, \\hat{\\theta}) - \\nabla_x \\log p(x) \\Vert_{2}$ in an unsupervised way, where $\\mu$ is some unknown data generating process and $p := \\sum_i \\delta_{x_i}$ is an empirical measure represented as a set of particles."
      ]
    },
    {
      "cell_type": "code",
      "metadata": {
        "id": "0s1vAhNu75Ax"
      },
      "source": [
        "input_shape = (1,)\n",
        "score_net = tf.keras.Sequential([\n",
        "    tf.keras.Input(shape=input_shape, name='input'),\n",
        "    tf.keras.layers.Dense(64, activation='tanh'),\n",
        "    #tf.keras.layers.Dense(64, activation='relu'),\n",
        "    tf.keras.layers.Dense(input_shape[0]),\n",
        "])\n",
        "\n",
        "# Take all meta-functions as an empirical prior over functions.\n",
        "data = np.concatenate(tuple((y for _, y in meta_training_tasks)))\n",
        "config_slice_train = {'data': data,\n",
        "          'score_net': score_net,\n",
        "          'epochs': 50, \n",
        "          'lambda_reg': 0.15\n",
        "}"
      ],
      "execution_count": 14,
      "outputs": []
    },
    {
      "cell_type": "code",
      "metadata": {
        "colab": {
          "base_uri": "https://localhost:8080/"
        },
        "id": "yTktaqjF7TGu",
        "outputId": "64b530ff-5d9e-4fc7-c51f-c8fd61e8d3ef"
      },
      "source": [
        "score_net, best_loss = (\n",
        "    sliced_score_estimation.GetSlicedScoreEstimator(config_slice_train,\n",
        "                                                    verbose=True))"
      ],
      "execution_count": 15,
      "outputs": [
        {
          "output_type": "stream",
          "text": [
            "WARNING:tensorflow:Calling GradientTape.gradient on a persistent tape inside its context is significantly less efficient than calling it outside the context (it causes the gradient ops to be recorded on the tape, leading to increased CPU and memory usage). Only call GradientTape.gradient inside the context if you actually want to trace the gradient in order to compute higher order derivatives.\n",
            "Epoch [0], loss: [47.665763]\n",
            "Epoch [10], loss: [-1.134116]\n",
            "Epoch [20], loss: [-41.735860]\n",
            "Epoch [30], loss: [-83.489658]\n",
            "Epoch [40], loss: [-146.457275]\n"
          ],
          "name": "stdout"
        }
      ]
    },
    {
      "cell_type": "markdown",
      "metadata": {
        "id": "CgDB6_SSLxOW"
      },
      "source": [
        "## Model setup\n",
        "\n",
        "This section covers the actual training of our particle based models, minimizing the `f-bnn` loss (likelihood term + $KL$ term), where we represent the prior as a set of particles. The prior particles themselves will be the actual **training targets**, since we regard them to be representative of the true generating process."
      ]
    },
    {
      "cell_type": "code",
      "metadata": {
        "id": "UbS_6q1rNlwg"
      },
      "source": [
        "def ApproximateEntropyGrads(estimator, samples):\n",
        "  dlog_q = estimator.compute_gradients(samples)\n",
        "  surrogate = tf.reduce_mean(\n",
        "      tf.reduce_sum(\n",
        "          tf.stop_gradient(-dlog_q) * tf.cast(samples, tf.float64), -1))\n",
        "  return surrogate"
      ],
      "execution_count": 16,
      "outputs": []
    },
    {
      "cell_type": "code",
      "metadata": {
        "id": "D2P4aL4kLMMg"
      },
      "source": [
        "# Estimator to be used for computing score gradients of implicit distributions\n",
        "# represtend as sets of particles.\n",
        "estimator = SpectralScoreEstimator(n_eigen_threshold=0.99, eta=0.0)"
      ],
      "execution_count": 17,
      "outputs": []
    },
    {
      "cell_type": "code",
      "metadata": {
        "id": "gXbEKuDpL-L0"
      },
      "source": [
        "# An ensemble of these models will represent our set of particles.\n",
        "def GetLinearModel():\n",
        "  model = tf.keras.Sequential()\n",
        "  model.add(tf.keras.layers.Dense(10, input_shape=(1,), activation='relu'))\n",
        "  model.add(tf.keras.layers.Dense(1))\n",
        "  return model"
      ],
      "execution_count": 18,
      "outputs": []
    },
    {
      "cell_type": "markdown",
      "metadata": {
        "id": "f37ZS9Fa1_N6"
      },
      "source": [
        "Reframing variational inference in the function space, we arrive at the following objective formulation [Sun et al., 2019]\n",
        "\n",
        "\\begin{equation}\n",
        " \\log p(\\mathcal{D} \\vert f) - \\lambda KL(q \\Vert p) \\hspace{0.5cm}(1)\n",
        "\\end{equation}\n",
        "\n",
        "where $q, p$ represent the posterior, and the prior over function values.\n",
        "\n",
        "Function values $f(x) \\sim q(\\cdot)$ are drawn via evaluating the base learner particles $\\{\\theta_t\\}_{t=1}^{k}$ at the given location $x$.\n",
        "In order to obtain a feasible optimization procedure from $(1)$, the $KL$ divergence gradient is then expanded as \n",
        "\n",
        "\\begin{equation}\n",
        " \\nabla_{\\theta_t} KL(q \\Vert p)  = \\mathbb{E}_{\\xi}[\\nabla_{\\theta_t} \\textbf{f} (\\nabla_\\textbf{f} \\log q(\\textbf{f}) - \\nabla_\\textbf{f}\\log p(\\textbf{f})  )] \\hspace{0.5cm}(2)\n",
        "\\end{equation}\n",
        "\n",
        "Note that the $KL$ term is made tractable by using SSGE [Shi et al., 2018] / Sliced Score Matching (SSM)[Song et al., 2019] to extract gradients for the score functions when using implicit distributions represented as particles. In the GP prior case however, the prior function values can simply be backpropagated through."
      ]
    },
    {
      "cell_type": "code",
      "metadata": {
        "id": "17AdJLvodP8K"
      },
      "source": [
        "def SamplePosterior(particles, x, training=True):\n",
        "  return tf.stack([particle(x, training=training) for particle in particles])"
      ],
      "execution_count": 19,
      "outputs": []
    },
    {
      "cell_type": "code",
      "metadata": {
        "id": "imt5TrXCIrC_"
      },
      "source": [
        "def Train(train_tasks=None,\n",
        "          test_tasks=None,\n",
        "          epochs=10,\n",
        "          n_particles=10,\n",
        "          task_size=5,\n",
        "          prior_particles=None,\n",
        "          use_functional_kl=True,\n",
        "          lambda_kl=1.0,\n",
        "          method='ssge',\n",
        "          config=None,\n",
        "          verbose=True):\n",
        "  \"\"\"\n",
        "  Utility function used to train a model to minimize the f-BNN loss.\n",
        "\n",
        "  @params:\n",
        "    -train_tasks: [(X_train_i, y_train_i)], list of pairs where X_train_i,\n",
        "      is the i-th meta-tuning input task and y_train_i the function values.\n",
        "    -test_tasks: same as |train_tasks|, only a smaller dataset of related tasks\n",
        "      used for testing.\n",
        "    -epochs: number of meta-iterations/epochs to train on the given tasks.\n",
        "    -n_particles: number of function values to draw from the variational \n",
        "      posterior at every input location (i.e. task); this will be used as the\n",
        "      empirical posterior over functions.   \n",
        "    -task_size: number of samples per task.\n",
        "    -prior_particles: particles (samples) to represent the true prior.\n",
        "    -use_functional_kl: if this is set to |True| the whole fELBO objective \n",
        "      is used for training - otherwise, we just do MLE and drop the prior term.\n",
        "    -lamba_kl: weight of the KL divergence term.\n",
        "    -method: method to be used for approximating log-prior gradients in case\n",
        "      the prior is represented as a set of particles.\n",
        "    -config: dictionary used to serialize some particular requirements needed\n",
        "      for calling the |prior_utils.ComputeCrossEntropy| utility function used\n",
        "      for computing the functional KL gradients.\n",
        "    -verbose: if this is set to |True| it prints relevant statistics concerning\n",
        "      the training progress.\n",
        "\n",
        "  @returns:\n",
        "    [particles]: post SVGD + fELBO list or particles (base learner neural nets).\n",
        "    test_losses: list containing losses recorded on the test set.\n",
        "  \"\"\"\n",
        "\n",
        "  particles = [GetLinearModel() for _ in range(n_particles)]\n",
        "  optimizer = tf.keras.optimizers.Adam(0.001)\n",
        "\n",
        "  mse = tf.keras.losses.MeanSquaredError()\n",
        "  test_losses = [] # Record losses we see during testing.\n",
        "\n",
        "  if use_functional_kl:\n",
        "    print('Using %s for computing log-prior gradients. \\n' % method)\n",
        "\n",
        "  for epoch in range(epochs):\n",
        "    for i, (X_train, y_train) in enumerate(train_tasks): \n",
        "      with tf.GradientTape(persistent=True) as g:\n",
        "        predictions = SamplePosterior(particles, X_train, True)\n",
        "        log_likelihood = -mse(tf.reduce_mean(predictions, axis=0), y_train)\n",
        "        \n",
        "        if use_functional_kl:\n",
        "            # Use SSGE to approximate the log gradients of the functional\n",
        "            # posterior given the 'drawn' samples from the neural net.\n",
        "            # See Equation (2).\n",
        "            posterior_samples = (\n",
        "                predictions + np.random.normal(0, 1, size=predictions.shape))\n",
        "            entropy_sur = ApproximateEntropyGrads(estimator, posterior_samples)\n",
        "          \n",
        "            if 'gp' in method:\n",
        "              config['x'] = X_train\n",
        "              config['y'] = tf.squeeze(posterior_samples, axis=2)\n",
        "            elif 'ssge' in method:\n",
        "              config['y'] = posterior_samples\n",
        "            elif 'score' in method:\n",
        "              config['y'] = tf.reshape(posterior_samples,\n",
        "                  [n_particles *  len(y_train), -1])\n",
        "              \n",
        "            cross_entropy_sur = prior_utils.ComputeCrossEntropy(configs[method])\n",
        "            \n",
        "            # Add these up to produce the KL term to be optimized.\n",
        "            functional_kl = (tf.cast(entropy_sur, tf.float32) -\n",
        "                              tf.cast(cross_entropy_sur, tf.float32))\n",
        "            log_likelihood += (lambda_kl * tf.cast(functional_kl, tf.float64) /\n",
        "                              len(X_train))\n",
        "      grads_list = []\n",
        "      vars_list = []\n",
        "\n",
        "      for particle in particles:\n",
        "        grads = g.gradient(log_likelihood, particle.trainable_variables)\n",
        "        grads_list.append(grads)\n",
        "        vars_list.append(particle.trainable_variables)\n",
        "\n",
        "      # Gradient ascent for log likelihood and SVGD kernel repulsive forces.\n",
        "      svgd_optimizer = svgd.SVGDOptimizer(grads_list, vars_list, optimizer)\n",
        "      svgd_optimizer.Optimize()\n",
        "\n",
        "      if verbose and epoch % 2 == 0 and i == (len(train_tasks) - 1):\n",
        "        test_log_likelihoods = []\n",
        "        for X_test, y_test in test_tasks:\n",
        "          test_predictions = SamplePosterior(particles, X_test, False)\n",
        "          test_log_likelihood = -mse(tf.reduce_mean(predictions, axis=0), \n",
        "                                          y_test)\n",
        "          test_log_likelihoods.append(test_log_likelihood.numpy())\n",
        "          print('Epoch [%d] test log-likelihood: [%f]' % \n",
        "                (epoch, test_log_likelihood,))\n",
        "          test_losses.append(np.mean(test_log_likelihoods))\n",
        "        \n",
        "  return (particles, test_losses)"
      ],
      "execution_count": 20,
      "outputs": []
    },
    {
      "cell_type": "markdown",
      "metadata": {
        "id": "X7_Tlu0v4BRY"
      },
      "source": [
        "## Results\n",
        "\n",
        "We run the models in two regimes:\n",
        "\n",
        "\n",
        "\n",
        "1.   Just use $MLE$ for training, no functional $KL$.\n",
        "2.   Use the full `f-bnn` objective (Eq. (1)), where we perform the log-prior gradient estimation with each of : `Sliced Score Estimation`, `GP Prior`, `Spectral Stein Gradient Estimator`.\n",
        "\n",
        "We run the training loop `tries_per_method` times for each of the 4 above combinations.\n",
        "\n"
      ]
    },
    {
      "cell_type": "code",
      "metadata": {
        "colab": {
          "base_uri": "https://localhost:8080/"
        },
        "id": "ybP0bwGSReVq",
        "outputId": "c710e6eb-4dac-4f56-808a-ac03febce459"
      },
      "source": [
        "from collections import defaultdict\n",
        "\n",
        "statistics = defaultdict(list)\n",
        "tries_per_method = 3\n",
        "n_particles = 10\n",
        "prior_particles = np.concatenate(tuple((y for _, y in meta_training_tasks)))\n",
        "prior_particles = np.squeeze(prior_particles, -1)\n",
        "  \n",
        "# Configs used as arguments for the `ComputeCrossEntropy` function, which\n",
        "# will be used for computing the log_prior gradients\n",
        "# (or approximate gradients). The method field indicates which log-prior\n",
        "# gradient scheme we will use. Only 'gp' comes with an analytical form.\n",
        "# for the gradients, trading off expresiveness.\n",
        "configs = {\n",
        "  'gp': {'method': 'gp',\n",
        "         'kernel_function': kernel,\n",
        "         'mean_function': mean_function},\n",
        "\n",
        "  'ssge': {'method': 'ssge',\n",
        "           'estimator': estimator,\n",
        "           'n_particles': n_particles,\n",
        "           'prior_particles': prior_particles},\n",
        "\n",
        "  'sliced_score_estimation': {\n",
        "      'method': 'sliced', \n",
        "    'score_estimator': score_net},\n",
        "\n",
        "  'mle' : {},\n",
        "}\n",
        "\n",
        "for method in [(False, 'mle'), (True, 'sliced_score_estimation'),\n",
        "               (True, 'ssge'), (True, 'gp')][::-1]:\n",
        "  for i in range(tries_per_method):\n",
        "    print(method, i)\n",
        "    particles, test_losses = Train(\n",
        "        train_tasks=meta_tuning_train_tasks,\n",
        "        test_tasks=meta_tuning_test_tasks,\n",
        "        n_particles=n_particles,\n",
        "        prior_particles=prior_particles,\n",
        "        use_functional_kl=method[0],\n",
        "        method=method[1],\n",
        "        config=configs[method[1]],\n",
        "        verbose=True)\n",
        "    \n",
        "    statistics[method].append(test_losses[-1])"
      ],
      "execution_count": 21,
      "outputs": [
        {
          "output_type": "stream",
          "text": [
            "(True, 'gp') 0\n",
            "Using gp for computing log-prior gradients. \n",
            "\n",
            "WARNING:tensorflow:From /content/gdrive/MyDrive/prior_learning/spectral_stein_grad/estimator/spectral.py:72: to_int32 (from tensorflow.python.ops.math_ops) is deprecated and will be removed in a future version.\n",
            "Instructions for updating:\n",
            "Use `tf.cast` instead.\n",
            "WARNING:tensorflow:From /usr/local/lib/python3.7/dist-packages/tensorflow_probability/python/distributions/distribution.py:298: MultivariateNormalFullCovariance.__init__ (from tensorflow_probability.python.distributions.mvn_full_covariance) is deprecated and will be removed after 2019-12-01.\n",
            "Instructions for updating:\n",
            "`MultivariateNormalFullCovariance` is deprecated, use `MultivariateNormalTriL(loc=loc, scale_tril=tf.linalg.cholesky(covariance_matrix))` instead.\n",
            "Epoch [0] test log-likelihood: [-0.265501]\n",
            "Epoch [0] test log-likelihood: [-0.138577]\n",
            "Epoch [0] test log-likelihood: [-0.305180]\n",
            "Epoch [0] test log-likelihood: [-0.225128]\n",
            "Epoch [0] test log-likelihood: [-0.294103]\n",
            "Epoch [2] test log-likelihood: [-0.005924]\n",
            "Epoch [2] test log-likelihood: [-0.028390]\n",
            "Epoch [2] test log-likelihood: [-0.006930]\n",
            "Epoch [2] test log-likelihood: [-0.008451]\n",
            "Epoch [2] test log-likelihood: [-0.008066]\n",
            "Epoch [4] test log-likelihood: [-0.025595]\n",
            "Epoch [4] test log-likelihood: [-0.087685]\n",
            "Epoch [4] test log-likelihood: [-0.016152]\n",
            "Epoch [4] test log-likelihood: [-0.040763]\n",
            "Epoch [4] test log-likelihood: [-0.020669]\n",
            "Epoch [6] test log-likelihood: [-0.031687]\n",
            "Epoch [6] test log-likelihood: [-0.084873]\n",
            "Epoch [6] test log-likelihood: [-0.024445]\n",
            "Epoch [6] test log-likelihood: [-0.048403]\n",
            "Epoch [6] test log-likelihood: [-0.028102]\n",
            "Epoch [8] test log-likelihood: [-0.047405]\n",
            "Epoch [8] test log-likelihood: [-0.106917]\n",
            "Epoch [8] test log-likelihood: [-0.038532]\n",
            "Epoch [8] test log-likelihood: [-0.068652]\n",
            "Epoch [8] test log-likelihood: [-0.042470]\n",
            "(True, 'gp') 1\n",
            "Using gp for computing log-prior gradients. \n",
            "\n",
            "Epoch [0] test log-likelihood: [-0.030184]\n",
            "Epoch [0] test log-likelihood: [-0.028053]\n",
            "Epoch [0] test log-likelihood: [-0.036868]\n",
            "Epoch [0] test log-likelihood: [-0.014219]\n",
            "Epoch [0] test log-likelihood: [-0.037812]\n",
            "Epoch [2] test log-likelihood: [-0.023585]\n",
            "Epoch [2] test log-likelihood: [-0.087410]\n",
            "Epoch [2] test log-likelihood: [-0.012769]\n",
            "Epoch [2] test log-likelihood: [-0.024312]\n",
            "Epoch [2] test log-likelihood: [-0.019878]\n",
            "Epoch [4] test log-likelihood: [-0.031532]\n",
            "Epoch [4] test log-likelihood: [-0.107337]\n",
            "Epoch [4] test log-likelihood: [-0.017522]\n",
            "Epoch [4] test log-likelihood: [-0.037392]\n",
            "Epoch [4] test log-likelihood: [-0.025628]\n",
            "Epoch [6] test log-likelihood: [-0.031301]\n",
            "Epoch [6] test log-likelihood: [-0.105865]\n",
            "Epoch [6] test log-likelihood: [-0.017715]\n",
            "Epoch [6] test log-likelihood: [-0.039522]\n",
            "Epoch [6] test log-likelihood: [-0.025364]\n",
            "Epoch [8] test log-likelihood: [-0.014698]\n",
            "Epoch [8] test log-likelihood: [-0.066225]\n",
            "Epoch [8] test log-likelihood: [-0.008528]\n",
            "Epoch [8] test log-likelihood: [-0.024868]\n",
            "Epoch [8] test log-likelihood: [-0.011361]\n",
            "(True, 'gp') 2\n",
            "Using gp for computing log-prior gradients. \n",
            "\n",
            "Epoch [0] test log-likelihood: [-0.473894]\n",
            "Epoch [0] test log-likelihood: [-0.290006]\n",
            "Epoch [0] test log-likelihood: [-0.528869]\n",
            "Epoch [0] test log-likelihood: [-0.422902]\n",
            "Epoch [0] test log-likelihood: [-0.511929]\n",
            "Epoch [2] test log-likelihood: [-0.011506]\n",
            "Epoch [2] test log-likelihood: [-0.053167]\n",
            "Epoch [2] test log-likelihood: [-0.006650]\n",
            "Epoch [2] test log-likelihood: [-0.013531]\n",
            "Epoch [2] test log-likelihood: [-0.011078]\n",
            "Epoch [4] test log-likelihood: [-0.043047]\n",
            "Epoch [4] test log-likelihood: [-0.120229]\n",
            "Epoch [4] test log-likelihood: [-0.028439]\n",
            "Epoch [4] test log-likelihood: [-0.055104]\n",
            "Epoch [4] test log-likelihood: [-0.036542]\n",
            "Epoch [6] test log-likelihood: [-0.057115]\n",
            "Epoch [6] test log-likelihood: [-0.138931]\n",
            "Epoch [6] test log-likelihood: [-0.041616]\n",
            "Epoch [6] test log-likelihood: [-0.073946]\n",
            "Epoch [6] test log-likelihood: [-0.049329]\n",
            "Epoch [8] test log-likelihood: [-0.075664]\n",
            "Epoch [8] test log-likelihood: [-0.162563]\n",
            "Epoch [8] test log-likelihood: [-0.059065]\n",
            "Epoch [8] test log-likelihood: [-0.096746]\n",
            "Epoch [8] test log-likelihood: [-0.066580]\n",
            "(True, 'ssge') 0\n",
            "Using ssge for computing log-prior gradients. \n",
            "\n",
            "Epoch [0] test log-likelihood: [-0.057874]\n",
            "Epoch [0] test log-likelihood: [-0.039459]\n",
            "Epoch [0] test log-likelihood: [-0.067158]\n",
            "Epoch [0] test log-likelihood: [-0.031628]\n",
            "Epoch [0] test log-likelihood: [-0.069510]\n",
            "Epoch [2] test log-likelihood: [-0.048722]\n",
            "Epoch [2] test log-likelihood: [-0.138870]\n",
            "Epoch [2] test log-likelihood: [-0.033315]\n",
            "Epoch [2] test log-likelihood: [-0.072828]\n",
            "Epoch [2] test log-likelihood: [-0.038139]\n",
            "Epoch [4] test log-likelihood: [-0.069432]\n",
            "Epoch [4] test log-likelihood: [-0.147042]\n",
            "Epoch [4] test log-likelihood: [-0.060666]\n",
            "Epoch [4] test log-likelihood: [-0.112605]\n",
            "Epoch [4] test log-likelihood: [-0.057773]\n",
            "Epoch [6] test log-likelihood: [-0.097113]\n",
            "Epoch [6] test log-likelihood: [-0.150091]\n",
            "Epoch [6] test log-likelihood: [-0.097182]\n",
            "Epoch [6] test log-likelihood: [-0.152713]\n",
            "Epoch [6] test log-likelihood: [-0.087371]\n",
            "Epoch [8] test log-likelihood: [-0.140604]\n",
            "Epoch [8] test log-likelihood: [-0.180277]\n",
            "Epoch [8] test log-likelihood: [-0.145797]\n",
            "Epoch [8] test log-likelihood: [-0.206457]\n",
            "Epoch [8] test log-likelihood: [-0.131403]\n",
            "(True, 'ssge') 1\n",
            "Using ssge for computing log-prior gradients. \n",
            "\n",
            "Epoch [0] test log-likelihood: [-0.029754]\n",
            "Epoch [0] test log-likelihood: [-0.033287]\n",
            "Epoch [0] test log-likelihood: [-0.034202]\n",
            "Epoch [0] test log-likelihood: [-0.012494]\n",
            "Epoch [0] test log-likelihood: [-0.036926]\n",
            "Epoch [2] test log-likelihood: [-0.079506]\n",
            "Epoch [2] test log-likelihood: [-0.189697]\n",
            "Epoch [2] test log-likelihood: [-0.059120]\n",
            "Epoch [2] test log-likelihood: [-0.109463]\n",
            "Epoch [2] test log-likelihood: [-0.065352]\n",
            "Epoch [4] test log-likelihood: [-0.112720]\n",
            "Epoch [4] test log-likelihood: [-0.224998]\n",
            "Epoch [4] test log-likelihood: [-0.093506]\n",
            "Epoch [4] test log-likelihood: [-0.160278]\n",
            "Epoch [4] test log-likelihood: [-0.096291]\n",
            "Epoch [6] test log-likelihood: [-0.110169]\n",
            "Epoch [6] test log-likelihood: [-0.189840]\n",
            "Epoch [6] test log-likelihood: [-0.101320]\n",
            "Epoch [6] test log-likelihood: [-0.169503]\n",
            "Epoch [6] test log-likelihood: [-0.097410]\n",
            "Epoch [8] test log-likelihood: [-0.148881]\n",
            "Epoch [8] test log-likelihood: [-0.212611]\n",
            "Epoch [8] test log-likelihood: [-0.144210]\n",
            "Epoch [8] test log-likelihood: [-0.221579]\n",
            "Epoch [8] test log-likelihood: [-0.138223]\n",
            "(True, 'ssge') 2\n",
            "Using ssge for computing log-prior gradients. \n",
            "\n",
            "Epoch [0] test log-likelihood: [-0.726668]\n",
            "Epoch [0] test log-likelihood: [-0.484540]\n",
            "Epoch [0] test log-likelihood: [-0.799436]\n",
            "Epoch [0] test log-likelihood: [-0.675125]\n",
            "Epoch [0] test log-likelihood: [-0.772645]\n",
            "Epoch [2] test log-likelihood: [-0.119200]\n",
            "Epoch [2] test log-likelihood: [-0.039366]\n",
            "Epoch [2] test log-likelihood: [-0.147088]\n",
            "Epoch [2] test log-likelihood: [-0.100628]\n",
            "Epoch [2] test log-likelihood: [-0.138713]\n",
            "Epoch [4] test log-likelihood: [-0.050926]\n",
            "Epoch [4] test log-likelihood: [-0.061115]\n",
            "Epoch [4] test log-likelihood: [-0.051489]\n",
            "Epoch [4] test log-likelihood: [-0.043907]\n",
            "Epoch [4] test log-likelihood: [-0.057477]\n",
            "Epoch [6] test log-likelihood: [-0.106486]\n",
            "Epoch [6] test log-likelihood: [-0.143237]\n",
            "Epoch [6] test log-likelihood: [-0.098070]\n",
            "Epoch [6] test log-likelihood: [-0.102461]\n",
            "Epoch [6] test log-likelihood: [-0.109582]\n",
            "Epoch [8] test log-likelihood: [-0.173006]\n",
            "Epoch [8] test log-likelihood: [-0.210166]\n",
            "Epoch [8] test log-likelihood: [-0.162754]\n",
            "Epoch [8] test log-likelihood: [-0.168720]\n",
            "Epoch [8] test log-likelihood: [-0.176900]\n",
            "(True, 'sliced_score_estimation') 0\n",
            "Using sliced_score_estimation for computing log-prior gradients. \n",
            "\n",
            "Epoch [0] test log-likelihood: [-0.160819]\n",
            "Epoch [0] test log-likelihood: [-0.067512]\n",
            "Epoch [0] test log-likelihood: [-0.193361]\n",
            "Epoch [0] test log-likelihood: [-0.134414]\n",
            "Epoch [0] test log-likelihood: [-0.182455]\n",
            "Epoch [2] test log-likelihood: [-0.011181]\n",
            "Epoch [2] test log-likelihood: [-0.033217]\n",
            "Epoch [2] test log-likelihood: [-0.011695]\n",
            "Epoch [2] test log-likelihood: [-0.005261]\n",
            "Epoch [2] test log-likelihood: [-0.014251]\n",
            "Epoch [4] test log-likelihood: [-0.009642]\n",
            "Epoch [4] test log-likelihood: [-0.050454]\n",
            "Epoch [4] test log-likelihood: [-0.005206]\n",
            "Epoch [4] test log-likelihood: [-0.011122]\n",
            "Epoch [4] test log-likelihood: [-0.009308]\n",
            "Epoch [6] test log-likelihood: [-0.007745]\n",
            "Epoch [6] test log-likelihood: [-0.049069]\n",
            "Epoch [6] test log-likelihood: [-0.003772]\n",
            "Epoch [6] test log-likelihood: [-0.014561]\n",
            "Epoch [6] test log-likelihood: [-0.006685]\n",
            "Epoch [8] test log-likelihood: [-0.009705]\n",
            "Epoch [8] test log-likelihood: [-0.052325]\n",
            "Epoch [8] test log-likelihood: [-0.005744]\n",
            "Epoch [8] test log-likelihood: [-0.020689]\n",
            "Epoch [8] test log-likelihood: [-0.007959]\n",
            "(True, 'sliced_score_estimation') 1\n",
            "Using sliced_score_estimation for computing log-prior gradients. \n",
            "\n",
            "Epoch [0] test log-likelihood: [-0.032991]\n",
            "Epoch [0] test log-likelihood: [-0.029123]\n",
            "Epoch [0] test log-likelihood: [-0.039976]\n",
            "Epoch [0] test log-likelihood: [-0.015706]\n",
            "Epoch [0] test log-likelihood: [-0.041052]\n",
            "Epoch [2] test log-likelihood: [-0.021141]\n",
            "Epoch [2] test log-likelihood: [-0.086041]\n",
            "Epoch [2] test log-likelihood: [-0.011364]\n",
            "Epoch [2] test log-likelihood: [-0.027688]\n",
            "Epoch [2] test log-likelihood: [-0.016236]\n",
            "Epoch [4] test log-likelihood: [-0.008747]\n",
            "Epoch [4] test log-likelihood: [-0.055533]\n",
            "Epoch [4] test log-likelihood: [-0.004171]\n",
            "Epoch [4] test log-likelihood: [-0.014896]\n",
            "Epoch [4] test log-likelihood: [-0.006410]\n",
            "Epoch [6] test log-likelihood: [-0.004507]\n",
            "Epoch [6] test log-likelihood: [-0.041339]\n",
            "Epoch [6] test log-likelihood: [-0.003190]\n",
            "Epoch [6] test log-likelihood: [-0.013701]\n",
            "Epoch [6] test log-likelihood: [-0.003133]\n",
            "Epoch [8] test log-likelihood: [-0.014070]\n",
            "Epoch [8] test log-likelihood: [-0.067094]\n",
            "Epoch [8] test log-likelihood: [-0.009495]\n",
            "Epoch [8] test log-likelihood: [-0.033371]\n",
            "Epoch [8] test log-likelihood: [-0.008986]\n",
            "(True, 'sliced_score_estimation') 2\n",
            "Using sliced_score_estimation for computing log-prior gradients. \n",
            "\n",
            "Epoch [0] test log-likelihood: [-0.482825]\n",
            "Epoch [0] test log-likelihood: [-0.295456]\n",
            "Epoch [0] test log-likelihood: [-0.539308]\n",
            "Epoch [0] test log-likelihood: [-0.433640]\n",
            "Epoch [0] test log-likelihood: [-0.521013]\n",
            "Epoch [2] test log-likelihood: [-0.017945]\n",
            "Epoch [2] test log-likelihood: [-0.009810]\n",
            "Epoch [2] test log-likelihood: [-0.027500]\n",
            "Epoch [2] test log-likelihood: [-0.011818]\n",
            "Epoch [2] test log-likelihood: [-0.025171]\n",
            "Epoch [4] test log-likelihood: [-0.005001]\n",
            "Epoch [4] test log-likelihood: [-0.039516]\n",
            "Epoch [4] test log-likelihood: [-0.003495]\n",
            "Epoch [4] test log-likelihood: [-0.010575]\n",
            "Epoch [4] test log-likelihood: [-0.004667]\n",
            "Epoch [6] test log-likelihood: [-0.005696]\n",
            "Epoch [6] test log-likelihood: [-0.039391]\n",
            "Epoch [6] test log-likelihood: [-0.004784]\n",
            "Epoch [6] test log-likelihood: [-0.013797]\n",
            "Epoch [6] test log-likelihood: [-0.005064]\n",
            "Epoch [8] test log-likelihood: [-0.010258]\n",
            "Epoch [8] test log-likelihood: [-0.052436]\n",
            "Epoch [8] test log-likelihood: [-0.007670]\n",
            "Epoch [8] test log-likelihood: [-0.023615]\n",
            "Epoch [8] test log-likelihood: [-0.007593]\n",
            "(False, 'mle') 0\n",
            "Epoch [0] test log-likelihood: [-0.157355]\n",
            "Epoch [0] test log-likelihood: [-0.066515]\n",
            "Epoch [0] test log-likelihood: [-0.188153]\n",
            "Epoch [0] test log-likelihood: [-0.127911]\n",
            "Epoch [0] test log-likelihood: [-0.179312]\n",
            "Epoch [2] test log-likelihood: [-0.006978]\n",
            "Epoch [2] test log-likelihood: [-0.019062]\n",
            "Epoch [2] test log-likelihood: [-0.013255]\n",
            "Epoch [2] test log-likelihood: [-0.022416]\n",
            "Epoch [2] test log-likelihood: [-0.008664]\n",
            "Epoch [4] test log-likelihood: [-0.032400]\n",
            "Epoch [4] test log-likelihood: [-0.054068]\n",
            "Epoch [4] test log-likelihood: [-0.036468]\n",
            "Epoch [4] test log-likelihood: [-0.062157]\n",
            "Epoch [4] test log-likelihood: [-0.031457]\n",
            "Epoch [6] test log-likelihood: [-0.087086]\n",
            "Epoch [6] test log-likelihood: [-0.110534]\n",
            "Epoch [6] test log-likelihood: [-0.090685]\n",
            "Epoch [6] test log-likelihood: [-0.128154]\n",
            "Epoch [6] test log-likelihood: [-0.085091]\n",
            "Epoch [8] test log-likelihood: [-0.147773]\n",
            "Epoch [8] test log-likelihood: [-0.166396]\n",
            "Epoch [8] test log-likelihood: [-0.152750]\n",
            "Epoch [8] test log-likelihood: [-0.194726]\n",
            "Epoch [8] test log-likelihood: [-0.145976]\n",
            "(False, 'mle') 1\n",
            "Epoch [0] test log-likelihood: [-0.546201]\n",
            "Epoch [0] test log-likelihood: [-0.346811]\n",
            "Epoch [0] test log-likelihood: [-0.604955]\n",
            "Epoch [0] test log-likelihood: [-0.490764]\n",
            "Epoch [0] test log-likelihood: [-0.587089]\n",
            "Epoch [2] test log-likelihood: [-0.026421]\n",
            "Epoch [2] test log-likelihood: [-0.000802]\n",
            "Epoch [2] test log-likelihood: [-0.042422]\n",
            "Epoch [2] test log-likelihood: [-0.030623]\n",
            "Epoch [2] test log-likelihood: [-0.034803]\n",
            "Epoch [4] test log-likelihood: [-0.028293]\n",
            "Epoch [4] test log-likelihood: [-0.046329]\n",
            "Epoch [4] test log-likelihood: [-0.035482]\n",
            "Epoch [4] test log-likelihood: [-0.060544]\n",
            "Epoch [4] test log-likelihood: [-0.026640]\n",
            "Epoch [6] test log-likelihood: [-0.068481]\n",
            "Epoch [6] test log-likelihood: [-0.086800]\n",
            "Epoch [6] test log-likelihood: [-0.077503]\n",
            "Epoch [6] test log-likelihood: [-0.115617]\n",
            "Epoch [6] test log-likelihood: [-0.064918]\n",
            "Epoch [8] test log-likelihood: [-0.108765]\n",
            "Epoch [8] test log-likelihood: [-0.127396]\n",
            "Epoch [8] test log-likelihood: [-0.119220]\n",
            "Epoch [8] test log-likelihood: [-0.166167]\n",
            "Epoch [8] test log-likelihood: [-0.103660]\n",
            "(False, 'mle') 2\n",
            "Epoch [0] test log-likelihood: [-0.432325]\n",
            "Epoch [0] test log-likelihood: [-0.253971]\n",
            "Epoch [0] test log-likelihood: [-0.487480]\n",
            "Epoch [0] test log-likelihood: [-0.390475]\n",
            "Epoch [0] test log-likelihood: [-0.468121]\n",
            "Epoch [2] test log-likelihood: [-0.037722]\n",
            "Epoch [2] test log-likelihood: [-0.013157]\n",
            "Epoch [2] test log-likelihood: [-0.050249]\n",
            "Epoch [2] test log-likelihood: [-0.027606]\n",
            "Epoch [2] test log-likelihood: [-0.048457]\n",
            "Epoch [4] test log-likelihood: [-0.052641]\n",
            "Epoch [4] test log-likelihood: [-0.089287]\n",
            "Epoch [4] test log-likelihood: [-0.045792]\n",
            "Epoch [4] test log-likelihood: [-0.049786]\n",
            "Epoch [4] test log-likelihood: [-0.054986]\n",
            "Epoch [6] test log-likelihood: [-0.101900]\n",
            "Epoch [6] test log-likelihood: [-0.144566]\n",
            "Epoch [6] test log-likelihood: [-0.091571]\n",
            "Epoch [6] test log-likelihood: [-0.099421]\n",
            "Epoch [6] test log-likelihood: [-0.104251]\n",
            "Epoch [8] test log-likelihood: [-0.149937]\n",
            "Epoch [8] test log-likelihood: [-0.193029]\n",
            "Epoch [8] test log-likelihood: [-0.137461]\n",
            "Epoch [8] test log-likelihood: [-0.147872]\n",
            "Epoch [8] test log-likelihood: [-0.153400]\n"
          ],
          "name": "stdout"
        }
      ]
    },
    {
      "cell_type": "code",
      "metadata": {
        "colab": {
          "base_uri": "https://localhost:8080/"
        },
        "id": "Rl58_ZNuXqRW",
        "outputId": "dce714db-2d68-4aa5-d80f-4896b43425a8"
      },
      "source": [
        "# Show confidence intervals for all results corresponding to each method.\n",
        "import scipy.stats as st\n",
        "\n",
        "for method, results in statistics.items():\n",
        "  print(method[1], ': ', st.t.interval(0.95, len(results) - 1,\n",
        "                                 loc=np.mean(results), scale=st.sem(results)))"
      ],
      "execution_count": 22,
      "outputs": [
        {
          "output_type": "stream",
          "text": [
            "gp :  (-0.14261316863214354, 0.02390996870910505)\n",
            "ssge :  (-0.19295911491683657, -0.14858604370781245)\n",
            "sliced_score_estimation :  (-0.03190932554883641, -0.012225436216762843)\n",
            "mle :  (-0.1966655357325297, -0.098604714508432)\n"
          ],
          "name": "stdout"
        }
      ]
    }
  ]
}