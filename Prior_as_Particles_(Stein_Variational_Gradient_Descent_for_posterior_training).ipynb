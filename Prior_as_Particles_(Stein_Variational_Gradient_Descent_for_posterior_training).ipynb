{
  "nbformat": 4,
  "nbformat_minor": 0,
  "metadata": {
    "accelerator": "GPU",
    "colab": {
      "name": "Prior as Particles (Stein Variational Gradient Descent for posterior training).ipynb",
      "provenance": [],
      "collapsed_sections": [],
      "toc_visible": true,
      "authorship_tag": "ABX9TyMz7WTOCdLoNAqPdOfwmVzq",
      "include_colab_link": true
    },
    "kernelspec": {
      "display_name": "Python 3",
      "name": "python3"
    }
  },
  "cells": [
    {
      "cell_type": "markdown",
      "metadata": {
        "id": "view-in-github",
        "colab_type": "text"
      },
      "source": [
        "<a href=\"https://colab.research.google.com/github/victor-armegioiu/Learning-Bayesian-Priors/blob/main/Prior_as_Particles_(Stein_Variational_Gradient_Descent_for_posterior_training).ipynb\" target=\"_parent\"><img src=\"https://colab.research.google.com/assets/colab-badge.svg\" alt=\"Open In Colab\"/></a>"
      ]
    },
    {
      "cell_type": "markdown",
      "metadata": {
        "id": "Ttj1NMzeLb7l"
      },
      "source": [
        "# Better priors represented as particles\n",
        "\n",
        "---\n",
        "\n",
        "Seed papers: FUNCTIONAL VARIATIONAL BAYESIAN NEURAL NETWORKS (https://arxiv.org/pdf/1903.05779.pdf)\n",
        "\n",
        "Understanding Variational Inference in Function-Space (https://arxiv.org/pdf/2011.09421.pdf)\n",
        "\n"
      ]
    },
    {
      "cell_type": "markdown",
      "metadata": {
        "id": "3HNFtn3JLmBv"
      },
      "source": [
        "## Setup \n",
        "\n",
        "Necessary imports, setting up the Colab environment."
      ]
    },
    {
      "cell_type": "code",
      "metadata": {
        "id": "emnY7qQ_D27i",
        "colab": {
          "base_uri": "https://localhost:8080/"
        },
        "outputId": "1c7eea52-0c74-4858-a6ee-d0df9a8226f6"
      },
      "source": [
        "from google.colab import drive\n",
        "drive.mount('/content/gdrive')"
      ],
      "execution_count": 1,
      "outputs": [
        {
          "output_type": "stream",
          "text": [
            "Mounted at /content/gdrive\n"
          ],
          "name": "stdout"
        }
      ]
    },
    {
      "cell_type": "code",
      "metadata": {
        "id": "fDhq3YG2Lh57"
      },
      "source": [
        "# gpflow doesn't come preloaded with colab.\n",
        "!pip3 install gpflow"
      ],
      "execution_count": null,
      "outputs": []
    },
    {
      "cell_type": "code",
      "metadata": {
        "id": "Ks43pRGGFeLZ"
      },
      "source": [
        "import numpy as np\n",
        "import time\n",
        "\n",
        "from sklearn.preprocessing import StandardScaler\n",
        "from sklearn.datasets import make_regression\n",
        "from sklearn.model_selection import train_test_split\n",
        "\n",
        "import tensorflow as tf\n",
        "import tensorflow_probability as tfp\n",
        "\n",
        "import matplotlib\n",
        "import matplotlib.pyplot as plt\n",
        "\n",
        "from gdrive.MyDrive.prior_learning.spectral_stein_grad.estimator import SpectralScoreEstimator\n",
        "from gdrive.MyDrive.prior_learning import data_utils\n",
        "from gdrive.MyDrive.prior_learning import gp_utils\n",
        "from gdrive.MyDrive.prior_learning import prior_utils\n",
        "from gdrive.MyDrive.prior_learning import sliced_score_estimation\n",
        "from gdrive.MyDrive.prior_learning import svgd\n",
        "\n",
        "\n",
        "tf.compat.v1.enable_eager_execution()"
      ],
      "execution_count": null,
      "outputs": []
    },
    {
      "cell_type": "code",
      "metadata": {
        "colab": {
          "base_uri": "https://localhost:8080/"
        },
        "id": "jpyirMceU8rl",
        "outputId": "981f6700-7b69-4199-a28b-6b1069d5cece"
      },
      "source": [
        "tf.executing_eagerly()"
      ],
      "execution_count": null,
      "outputs": [
        {
          "output_type": "execute_result",
          "data": {
            "text/plain": [
              "True"
            ]
          },
          "metadata": {
            "tags": []
          },
          "execution_count": 4
        }
      ]
    },
    {
      "cell_type": "code",
      "metadata": {
        "id": "exSRRJaSZHEA"
      },
      "source": [
        "tf.config.list_physical_devices('GPU') "
      ],
      "execution_count": null,
      "outputs": []
    },
    {
      "cell_type": "markdown",
      "metadata": {
        "id": "AtFYyye2Lq1G"
      },
      "source": [
        "## Building the dataset\n",
        "\n",
        "We assume a typical meta-learning scenario, where one has access to a limited number of related tasks which are assumed to be generated under the same generating process. Naturally, we expect the underlying generating parameters of each task to be subject to small perturbations, rendering a family of functions. \n",
        "Specifically, we assume access to a \\textit{meta-training} dataset $\\mathcal{D}_{\\text{train}} := \\{T_i\\}_{i=1}^m$ where each task $T_i := \\{(x_j, y_j)\\}_{j=1}^k$ corresponds to a meta-learning task.\n",
        "Analogously, we assume access to a \\textit{meta-tuning} dataset $\\mathcal{D}_{\\text{tune}} := \\{T_i\\}_{i=1}^n$, where typically $n \\ll m$. \\\\\n",
        "\n",
        "\n",
        "In this example, we generate the index sets per task as $X_i \\sim \\mathcal{U}(-5, 5)$ and apply a linear combination of a scaled + shifted sinusoid and an affine transform to get the targets $y_i$."
      ]
    },
    {
      "cell_type": "code",
      "metadata": {
        "id": "SC6KrF3DNlZG"
      },
      "source": [
        "config = {\n",
        "    'generation_method': 'sine', \n",
        "    'meta_training_task_cnt': 100,   # Meta tasks used for prior learning.\n",
        "    'meta_tuning_task_cnt': 25,     # Meta tasks to deploy learned priors on.\n",
        "    'task_size': 5, # Number of inputs/outputs per meta-task.\n",
        "    'input_shape': (1,),\n",
        "}"
      ],
      "execution_count": null,
      "outputs": []
    },
    {
      "cell_type": "code",
      "metadata": {
        "id": "qAhcM4vPgZBE"
      },
      "source": [
        "meta_training_tasks, meta_tuning_tasks = data_utils.GetDataset(config)"
      ],
      "execution_count": null,
      "outputs": []
    },
    {
      "cell_type": "code",
      "metadata": {
        "id": "0WoIeHxbpzcX"
      },
      "source": [
        "def NormalizeData(tasks, scaler=None, y_max=None):\n",
        "  if not scaler or not y_max:\n",
        "    scaler = StandardScaler()\n",
        "    y_max = np.max([np.max(y) for _, y in tasks])\n",
        "  for x, y in tasks:\n",
        "    x = scaler.fit_transform(x)\n",
        "    y /= y_max\n",
        "  return tasks, scaler, y_max"
      ],
      "execution_count": null,
      "outputs": []
    },
    {
      "cell_type": "markdown",
      "metadata": {
        "id": "WI1ZtuUVxg5d"
      },
      "source": [
        "Use last `test_tasks_cnt` for testing, and leave the rest for training. "
      ]
    },
    {
      "cell_type": "code",
      "metadata": {
        "id": "o8AB9zYEqYJl"
      },
      "source": [
        "test_tasks_cnt = 5"
      ],
      "execution_count": null,
      "outputs": []
    },
    {
      "cell_type": "code",
      "metadata": {
        "id": "VQZtL6nxglLY"
      },
      "source": [
        "# Use the same scaler in order to ensure that we don't inject knowledge\n",
        "# about the test distribution in our training biases.\n",
        "meta_tuning_train_tasks, scaler, y_max = NormalizeData(\n",
        "    meta_tuning_tasks[:-test_tasks_cnt])\n",
        "meta_tuning_test_tasks, _ , _ = NormalizeData(meta_tuning_tasks[-test_tasks_cnt:],\n",
        "                                       scaler, y_max)"
      ],
      "execution_count": null,
      "outputs": []
    },
    {
      "cell_type": "code",
      "metadata": {
        "id": "eemwpWnDwnOi"
      },
      "source": [
        "# Scale meta_training_tasks as well.\n",
        "meta_training_tasks, _, _ = NormalizeData(meta_training_tasks)"
      ],
      "execution_count": null,
      "outputs": []
    },
    {
      "cell_type": "code",
      "metadata": {
        "colab": {
          "base_uri": "https://localhost:8080/",
          "height": 279
        },
        "id": "K7YNPV1PtCA6",
        "outputId": "ac21d2ab-f3ee-4a2a-e0f7-418fd74c1c38"
      },
      "source": [
        "for x, y in meta_training_tasks:\n",
        "  plt.plot(x, y)\n",
        "\n",
        "plt.xlabel('x')\n",
        "plt.ylabel('y')\n",
        "plt.show()"
      ],
      "execution_count": null,
      "outputs": [
        {
          "output_type": "display_data",
          "data": {
            "image/png": "[encoded data removed]",
            "text/plain": [
              "<Figure size 432x288 with 1 Axes>"
            ]
          },
          "metadata": {
            "tags": [],
            "needs_background": "light"
          }
        }
      ]
    },
    {
      "cell_type": "markdown",
      "metadata": {
        "id": "hUczRSqDrgyZ"
      },
      "source": [
        "## GP Prior Setup\n",
        "\n",
        "Train a $\\mathcal{GP}$ on the training data, so that we may later use the tuned kernel for estimating the covariance of a Normal distribution over function values (this shall be used as the prior in the `f-bnn` formulation below)."
      ]
    },
    {
      "cell_type": "code",
      "metadata": {
        "id": "R8reHpDqdZNH",
        "colab": {
          "base_uri": "https://localhost:8080/"
        },
        "outputId": "7c41caab-1c41-4306-d0c9-36a39d02e8dc"
      },
      "source": [
        "# Pre-train GP prior.\n",
        "mean_function, kernel = gp_utils.TrainGPPrior(meta_training_tasks, verbose=True)"
      ],
      "execution_count": null,
      "outputs": [
        {
          "output_type": "stream",
          "text": [
            "\n",
            "Currently in meta-iteration/epoch 1/5:\n",
            "Task 0 log-likelihood: -3.7361511494759387\n",
            "Task 5 log-likelihood: -2.5425300909321114\n",
            "Task 10 log-likelihood: -2.2868207676798176\n",
            "Task 15 log-likelihood: -4.487391177389464\n",
            "Task 20 log-likelihood: -3.495131300549806\n",
            "Task 25 log-likelihood: -3.332738984506592\n",
            "Task 30 log-likelihood: -3.2033467553478845\n",
            "Task 35 log-likelihood: -2.6011403985060166\n",
            "Task 40 log-likelihood: -1.612750590152547\n",
            "Task 45 log-likelihood: -2.217277594106568\n",
            "Task 50 log-likelihood: -3.7972926142260923\n",
            "Task 55 log-likelihood: -2.508084105177287\n",
            "Task 60 log-likelihood: -2.718721450985617\n",
            "Task 65 log-likelihood: -1.458720708576371\n",
            "Task 70 log-likelihood: -1.1949132742677016\n",
            "Task 75 log-likelihood: -2.9110606570529995\n",
            "Task 80 log-likelihood: -2.0769948517336982\n",
            "Task 85 log-likelihood: -2.7294109090969916\n",
            "Task 90 log-likelihood: -2.8458794170638555\n",
            "Task 95 log-likelihood: -0.3719861697369158\n",
            "\n",
            "Currently in meta-iteration/epoch 2/5:\n",
            "Task 0 log-likelihood: -2.2398849925670947\n",
            "Task 5 log-likelihood: -1.4550507977779699\n",
            "Task 10 log-likelihood: -1.041682922191892\n",
            "Task 15 log-likelihood: -3.487954227572234\n",
            "Task 20 log-likelihood: -1.975688614320597\n",
            "Task 25 log-likelihood: -2.0418052351514886\n",
            "Task 30 log-likelihood: -1.9587851360985602\n",
            "Task 35 log-likelihood: -1.3085690603237916\n",
            "Task 40 log-likelihood: -0.48374310268706733\n",
            "Task 45 log-likelihood: -1.3677092076089838\n",
            "Task 50 log-likelihood: -2.623771112690079\n",
            "Task 55 log-likelihood: -1.5517894521724012\n",
            "Task 60 log-likelihood: -1.4155696075639246\n",
            "Task 65 log-likelihood: -0.4949416253864012\n",
            "Task 70 log-likelihood: -0.1665942706017054\n",
            "Task 75 log-likelihood: -1.6994087736222507\n",
            "Task 80 log-likelihood: -0.6484076337875102\n",
            "Task 85 log-likelihood: -1.3129598561609388\n",
            "Task 90 log-likelihood: -1.582306064640373\n",
            "Task 95 log-likelihood: 0.7139778917288098\n",
            "\n",
            "Currently in meta-iteration/epoch 3/5:\n",
            "Task 0 log-likelihood: -0.779791975192941\n",
            "Task 5 log-likelihood: -0.43601046414373723\n",
            "Task 10 log-likelihood: 0.18970660767068104\n",
            "Task 15 log-likelihood: -2.3441569275449377\n",
            "Task 20 log-likelihood: -0.4183493475411231\n",
            "Task 25 log-likelihood: -0.7378963646431163\n",
            "Task 30 log-likelihood: -0.6914485845229881\n",
            "Task 35 log-likelihood: -0.04961431389785442\n",
            "Task 40 log-likelihood: 0.6000108718219233\n",
            "Task 45 log-likelihood: -0.3941203410678522\n",
            "Task 50 log-likelihood: -1.3212761167083218\n",
            "Task 55 log-likelihood: -0.5614262653014679\n",
            "Task 60 log-likelihood: -0.09523625198088315\n",
            "Task 65 log-likelihood: 0.47564589230705057\n",
            "Task 70 log-likelihood: 0.7746753921386036\n",
            "Task 75 log-likelihood: -0.4675982530246925\n",
            "Task 80 log-likelihood: 0.5945212041803725\n",
            "Task 85 log-likelihood: 0.04478047110160244\n",
            "Task 90 log-likelihood: -0.3254634603008242\n",
            "Task 95 log-likelihood: 1.6302278707409403\n",
            "\n",
            "Currently in meta-iteration/epoch 4/5:\n",
            "Task 0 log-likelihood: 0.6079768536845771\n",
            "Task 5 log-likelihood: 0.5795429371871359\n",
            "Task 10 log-likelihood: 1.3640386812450291\n",
            "Task 15 log-likelihood: -1.0471530827038964\n",
            "Task 20 log-likelihood: 0.9651862906384476\n",
            "Task 25 log-likelihood: 0.47174938917828246\n",
            "Task 30 log-likelihood: 0.5333933476890707\n",
            "Task 35 log-likelihood: 1.1041123593292088\n",
            "Task 40 log-likelihood: 1.5828763966220443\n",
            "Task 45 log-likelihood: 0.6142845714635659\n",
            "Task 50 log-likelihood: 0.04240154307932098\n",
            "Task 55 log-likelihood: 0.464218576923372\n",
            "Task 60 log-likelihood: 1.136581632159264\n",
            "Task 65 log-likelihood: 1.4275669437953278\n",
            "Task 70 log-likelihood: 1.6441860894299394\n",
            "Task 75 log-likelihood: 0.7089003001369347\n",
            "Task 80 log-likelihood: 1.6370814637372666\n",
            "Task 85 log-likelihood: 1.2855124339709372\n",
            "Task 90 log-likelihood: 0.8965180815630527\n",
            "Task 95 log-likelihood: 2.4284158485738123\n",
            "\n",
            "Currently in meta-iteration/epoch 5/5:\n",
            "Task 0 log-likelihood: 1.7839385772566168\n",
            "Task 5 log-likelihood: 1.54522894654652\n",
            "Task 10 log-likelihood: 2.4003537606292724\n",
            "Task 15 log-likelihood: 0.29668259539804076\n",
            "Task 20 log-likelihood: 2.1430795671550706\n",
            "Task 25 log-likelihood: 1.604441568795866\n",
            "Task 30 log-likelihood: 1.6615537060289132\n",
            "Task 35 log-likelihood: 2.1265476258684135\n",
            "Task 40 log-likelihood: 2.4631789983623467\n",
            "Task 45 log-likelihood: 1.6241835293055038\n",
            "Task 50 log-likelihood: 1.3176101191817313\n",
            "Task 55 log-likelihood: 1.5077764562835378\n",
            "Task 60 log-likelihood: 2.240970684935191\n",
            "Task 65 log-likelihood: 2.3262259724658403\n",
            "Task 70 log-likelihood: 2.4749240876179393\n",
            "Task 75 log-likelihood: 1.772227658496373\n",
            "Task 80 log-likelihood: 2.5295274994312216\n",
            "Task 85 log-likelihood: 2.375304849256282\n",
            "Task 90 log-likelihood: 2.005557332035796\n",
            "Task 95 log-likelihood: 3.1666786374332645\n"
          ],
          "name": "stdout"
        }
      ]
    },
    {
      "cell_type": "markdown",
      "metadata": {
        "id": "Lp0sKmQh6O-i"
      },
      "source": [
        "## Sliced Score Estimator Setup (https://arxiv.org/pdf/1905.07088.pdf)\n",
        "\n",
        "Here we train a network $h(\\cdot, \\hat{\\theta})$ which minimizes the objective $\\mathbb{E}_{x \\sim \\mu} \\Vert h(x, \\hat{\\theta}) - \\nabla_x \\log p(x) \\Vert_{2}$ in an unsupervised way, where $\\mu$ is some unknown data generating process and $p := \\sum_i \\delta_{x_i}$ is an empirical measure represented as a set of particles."
      ]
    },
    {
      "cell_type": "code",
      "metadata": {
        "id": "0s1vAhNu75Ax"
      },
      "source": [
        "input_shape = (1,)\n",
        "score_net = tf.keras.Sequential([\n",
        "    tf.keras.Input(shape=input_shape, name='input'),\n",
        "    tf.keras.layers.Dense(64, activation='relu'),\n",
        "    #tf.keras.layers.Dense(64, activation='relu'),\n",
        "    tf.keras.layers.Dense(input_shape[0]),\n",
        "])\n",
        "\n",
        "# Take all meta-functions as an empirical prior over functions.\n",
        "data = np.concatenate(tuple((y for _, y in meta_training_tasks)))\n",
        "config_slice_train = {'data': data,\n",
        "          'score_net': score_net,\n",
        "          'epochs': 10, \n",
        "          'lambda_reg': 0.15\n",
        "}"
      ],
      "execution_count": null,
      "outputs": []
    },
    {
      "cell_type": "code",
      "metadata": {
        "colab": {
          "base_uri": "https://localhost:8080/"
        },
        "id": "yTktaqjF7TGu",
        "outputId": "25c2ee6b-5d09-441b-96c7-acc3790e467d"
      },
      "source": [
        "score_net, best_loss = (\n",
        "    sliced_score_estimation.GetSlicedScoreEstimator(config_slice_train,\n",
        "                                                    verbose=True))"
      ],
      "execution_count": null,
      "outputs": [
        {
          "output_type": "stream",
          "text": [
            "WARNING:tensorflow:Calling GradientTape.gradient on a persistent tape inside its context is significantly less efficient than calling it outside the context (it causes the gradient ops to be recorded on the tape, leading to increased CPU and memory usage). Only call GradientTape.gradient inside the context if you actually want to trace the gradient in order to compute higher order derivatives.\n",
            "Epoch [0], loss: [46.501573]\n"
          ],
          "name": "stdout"
        }
      ]
    },
    {
      "cell_type": "markdown",
      "metadata": {
        "id": "CgDB6_SSLxOW"
      },
      "source": [
        "## Model setup\n",
        "\n",
        "This section covers the actual training of our particle based models, minimizing the `f-bnn` loss (likelihood term + $KL$ term), where we represent the prior as a set of particles. The prior particles themselves will be the actual **training targets**, since we regard them to be representative of the true generating process."
      ]
    },
    {
      "cell_type": "code",
      "metadata": {
        "id": "UbS_6q1rNlwg"
      },
      "source": [
        "def ApproximateEntropyGrads(estimator, samples):\n",
        "  dlog_q = estimator.compute_gradients(samples)\n",
        "  surrogate = tf.reduce_mean(\n",
        "      tf.reduce_sum(\n",
        "          tf.stop_gradient(-dlog_q) * tf.cast(samples, tf.float64), -1))\n",
        "  return surrogate"
      ],
      "execution_count": null,
      "outputs": []
    },
    {
      "cell_type": "code",
      "metadata": {
        "id": "D2P4aL4kLMMg"
      },
      "source": [
        "# Estimator to be used for computing score gradients of implicit distributions\n",
        "# represtend as sets of particles.\n",
        "estimator = SpectralScoreEstimator(n_eigen_threshold=0.99, eta=0.0)"
      ],
      "execution_count": null,
      "outputs": []
    },
    {
      "cell_type": "code",
      "metadata": {
        "id": "gXbEKuDpL-L0"
      },
      "source": [
        "# An ensemble of these models will represent our set of particles.\n",
        "def GetLinearModel():\n",
        "  model = tf.keras.Sequential()\n",
        "  model.add(tf.keras.layers.Dense(10, input_shape=(1,), activation='relu'))\n",
        "  model.add(tf.keras.layers.Dense(1))\n",
        "  return model"
      ],
      "execution_count": null,
      "outputs": []
    },
    {
      "cell_type": "markdown",
      "metadata": {
        "id": "f37ZS9Fa1_N6"
      },
      "source": [
        "Reframing variational inference in the function space, we arrive at the following objective formulation [Sun et al., 2019]\n",
        "\n",
        "\\begin{equation}\n",
        " \\log p(\\mathcal{D} \\vert f) - \\lambda KL(q \\Vert p) \\hspace{0.5cm}(1)\n",
        "\\end{equation}\n",
        "\n",
        "where $q, p$ represent the posterior, and the prior over function values.\n",
        "\n",
        "Using the reparametrization trick, function values $f(x) \\sim q(\\cdot)$ are drawn from a parameterized neural net $g_\\phi(x ; \\xi)$. Here $\\phi$ denotes the set of optimizable parameters, while $\\xi$ is a random perturbation under which the change of variable is performed. Hence, drawing samples $f(x) \\sim q$ is done by forwarding $x$ through $g_\\phi(\\cdot ; \\xi)$.\n",
        "\n",
        "In order to obtain a feasible optimization procedure from $(1)$, the $KL$ divergence gradient is then expanded as \n",
        "\n",
        "\\begin{equation}\n",
        " \\nabla_\\phi KL(q \\Vert p)  = \\mathbb{E}_{\\xi}[\\nabla_\\phi \\textbf{f} (\\nabla_\\textbf{f} \\log q(\\textbf{f}) - \\nabla_\\textbf{f}\\log p(\\textbf{f})  )] \\hspace{0.5cm}(2)\n",
        "\\end{equation}\n",
        "\n",
        "Note that the $KL$ term is made tractable by using SSGE [Shi et al., 2018] to extract gradients for the score functions, since both $q(\\cdot), p(\\cdot)$ are both implicit distributions represented as particles."
      ]
    },
    {
      "cell_type": "code",
      "metadata": {
        "id": "17AdJLvodP8K"
      },
      "source": [
        "def SamplePosterior(particles, x, training=True):\n",
        "  return tf.stack([particle(x, training=training) for particle in particles])"
      ],
      "execution_count": null,
      "outputs": []
    },
    {
      "cell_type": "code",
      "metadata": {
        "id": "imt5TrXCIrC_"
      },
      "source": [
        "def Train(train_tasks=None,\n",
        "          test_tasks=None,\n",
        "          epochs=10,\n",
        "          n_particles=10,\n",
        "          task_size=5,\n",
        "          prior_particles=None,\n",
        "          use_functional_kl=True,\n",
        "          lambda_kl=1.0,\n",
        "          method='ssge',\n",
        "          config=None,\n",
        "          verbose=True):\n",
        "  \"\"\"\n",
        "  Utility function used to train a model to minimize the f-BNN loss.\n",
        "\n",
        "  @params:\n",
        "    -train_tasks: [(X_train_i, y_train_i)], list of pairs where X_train_i,\n",
        "      is the i-th meta-tuning input task and y_train_i the function values.\n",
        "    -test_tasks: same as |train_tasks|, only a smaller dataset of related tasks\n",
        "      used for testing.\n",
        "    -epochs: number of meta-iterations/epochs to train on the given tasks.\n",
        "    -n_particles: number of function values to draw from the variational \n",
        "      posterior at every input location (i.e. task); this will be used as the\n",
        "      empirical posterior over functions.   \n",
        "    -task_size: number of samples per task.\n",
        "    -prior_particles: particles (samples) to represent the true prior.\n",
        "    -use_functional_kl: if this is set to |True| the whole fELBO objective \n",
        "      is used for training - otherwise, we just do MLE and drop the prior term.\n",
        "    -lamba_kl: weight of the KL divergence term.\n",
        "    -method: method to be used for approximating log-prior gradients in case\n",
        "      the prior is represented as a set of particles.\n",
        "    -config: dictionary used to serialize some particular requirements needed\n",
        "      for calling the |prior_utils.ComputeCrossEntropy| utility function used\n",
        "      for computing the functional KL gradients.\n",
        "    -verbose: if this is set to |True| it prints relevant statistics concerning\n",
        "      the training progress.\n",
        "\n",
        "  @returns:\n",
        "    [particles]: post SVGD + fELBO list or particles (base learner neural nets).\n",
        "    test_losses: list containing losses recorded on the test set.\n",
        "  \"\"\"\n",
        "\n",
        "  particles = [GetLinearModel() for _ in range(n_particles)]\n",
        "  optimizer = tf.keras.optimizers.Adam(0.001)\n",
        "\n",
        "  mse = tf.keras.losses.MeanSquaredError()\n",
        "  test_losses = [] # Record losses we see during testing.\n",
        "\n",
        "  if use_functional_kl:\n",
        "    print('Using %s for computing log-prior gradients. \\n' % method)\n",
        "\n",
        "  for epoch in range(epochs):\n",
        "    for i, (X_train, y_train) in enumerate(train_tasks): \n",
        "      with tf.GradientTape(persistent=True) as g:\n",
        "        predictions = SamplePosterior(particles, X_train, True)\n",
        "        log_likelihood = -mse(tf.reduce_mean(predictions, axis=0), y_train)\n",
        "        \n",
        "        if use_functional_kl:\n",
        "            # Use SSGE to approximate the log gradients of the functional\n",
        "            # posterior given the 'drawn' samples from the neural net.\n",
        "            # See Equation (2).\n",
        "            posterior_samples = (\n",
        "                predictions + np.random.normal(0, 1, size=predictions.shape))\n",
        "            entropy_sur = ApproximateEntropyGrads(estimator, posterior_samples)\n",
        "          \n",
        "            if 'gp' in method:\n",
        "              config['x'] = X_train\n",
        "              config['y'] = tf.squeeze(posterior_samples, axis=2)\n",
        "            elif 'ssge' in method:\n",
        "              config['y'] = posterior_samples\n",
        "            elif 'score' in method:\n",
        "              config['y'] = tf.reshape(posterior_samples,\n",
        "                  [n_particles *  len(y_train), -1])\n",
        "              \n",
        "            cross_entropy_sur = prior_utils.ComputeCrossEntropy(configs[method])\n",
        "            \n",
        "            # Add these up to produce the KL term to be optimized.\n",
        "            functional_kl = (tf.cast(entropy_sur, tf.float32) -\n",
        "                              tf.cast(cross_entropy_sur, tf.float32))\n",
        "            log_likelihood += (lambda_kl * tf.cast(functional_kl, tf.float64) /\n",
        "                              len(X_train))\n",
        "    grads_list = []\n",
        "    vars_list = []\n",
        "\n",
        "    for particle in particles:\n",
        "      grads = g.gradient(log_likelihood, particle.trainable_variables)\n",
        "      grads_list.append(grads)\n",
        "      vars_list.append(particle.trainable_variables)\n",
        "\n",
        "    # Gradient ascent for log likelihood and SVGD kernel repulsive forces.\n",
        "    svgd_optimizer = svgd.SVGDOptimizer(grads_list, vars_list, optimizer)\n",
        "    svgd_optimizer.Optimize()\n",
        "\n",
        "    if verbose and epoch % 2 == 0 and i == (len(train_tasks) - 1):\n",
        "      test_log_likelihoods = []\n",
        "      for X_test, y_test in test_tasks:\n",
        "        test_predictions = SamplePosterior(particles, X_test, False)\n",
        "        test_log_likelihood = -mse(tf.reduce_mean(predictions, axis=0), \n",
        "                                        y_test)\n",
        "        test_log_likelihoods.append(test_log_likelihood.numpy())\n",
        "        print('Epoch [%d] test log-likelihood: [%f]' % \n",
        "              (epoch, test_log_likelihood,))\n",
        "        test_losses.append(np.mean(test_log_likelihoods))\n",
        "      \n",
        "  return (particles, test_losses)"
      ],
      "execution_count": null,
      "outputs": []
    },
    {
      "cell_type": "markdown",
      "metadata": {
        "id": "X7_Tlu0v4BRY"
      },
      "source": [
        "## Results\n",
        "\n",
        "We run the models in two regimes:\n",
        "\n",
        "\n",
        "\n",
        "1.   Just use $MLE$ for training, no functional $KL$.\n",
        "2.   Use the full `f-bnn` objective (Eq. (1)), where we perform the log-prior gradient estimation with each of : `Sliced Score Estimation`, `GP Prior`, `Spectral Stein Gradient Estimator`.\n",
        "\n",
        "We run the training loop `tries_per_method` times for each of the 4 above combinations.\n",
        "\n"
      ]
    },
    {
      "cell_type": "code",
      "metadata": {
        "colab": {
          "base_uri": "https://localhost:8080/"
        },
        "id": "ybP0bwGSReVq",
        "outputId": "d5cf1750-5c70-4a1b-f87f-825616304f5b"
      },
      "source": [
        "from collections import defaultdict\n",
        "\n",
        "statistics = defaultdict(list)\n",
        "tries_per_method = 3\n",
        "n_particles = 10\n",
        "prior_particles = np.concatenate(tuple((y for _, y in meta_training_tasks)))\n",
        "prior_particles = np.squeeze(prior_particles, -1)\n",
        "  \n",
        "# Configs used as arguments for the `ComputeCrossEntropy` function, which\n",
        "# will be used for computing the log_prior gradients\n",
        "# (or approximate gradients). The method field indicates which log-prior\n",
        "# gradient scheme we will use. Only 'gp' comes with an analytical form.\n",
        "# for the gradients, trading off expresiveness.\n",
        "configs = {\n",
        "  'gp': {'method': 'gp',\n",
        "         'kernel_function': kernel,\n",
        "         'mean_function': mean_function},\n",
        "\n",
        "  'ssge': {'method': 'ssge',\n",
        "           'estimator': estimator,\n",
        "           'n_particles': n_particles,\n",
        "           'prior_particles': prior_particles},\n",
        "\n",
        "  'sliced_score_estimation': {\n",
        "      'method': 'sliced', \n",
        "    'score_estimator': score_net},\n",
        "\n",
        "  'mle' : {},\n",
        "}\n",
        "\n",
        "for method in [(False, 'mle'), (True, 'sliced_score_estimation'),\n",
        "               (True, 'ssge'), (True, 'gp')][::-1]:\n",
        "  for i in range(tries_per_method):\n",
        "    print(method, i)\n",
        "    particles, test_losses = Train(\n",
        "        train_tasks=meta_tuning_train_tasks,\n",
        "        test_tasks=meta_tuning_test_tasks,\n",
        "        n_particles=n_particles,\n",
        "        prior_particles=prior_particles,\n",
        "        use_functional_kl=method[0],\n",
        "        method=method[1],\n",
        "        config=configs[method[1]],\n",
        "        verbose=True)\n",
        "    \n",
        "    statistics[method].append(test_losses[-1])"
      ],
      "execution_count": null,
      "outputs": [
        {
          "output_type": "stream",
          "text": [
            "(True, 'gp') 0\n",
            "Using gp for computing log-prior gradients. \n",
            "\n",
            "WARNING:tensorflow:From /content/gdrive/MyDrive/prior_learning/spectral_stein_grad/estimator/spectral.py:72: to_int32 (from tensorflow.python.ops.math_ops) is deprecated and will be removed in a future version.\n",
            "Instructions for updating:\n",
            "Use `tf.cast` instead.\n",
            "WARNING:tensorflow:From /usr/local/lib/python3.7/dist-packages/tensorflow_probability/python/distributions/distribution.py:298: MultivariateNormalFullCovariance.__init__ (from tensorflow_probability.python.distributions.mvn_full_covariance) is deprecated and will be removed after 2019-12-01.\n",
            "Instructions for updating:\n",
            "`MultivariateNormalFullCovariance` is deprecated, use `MultivariateNormalTriL(loc=loc, scale_tril=tf.linalg.cholesky(covariance_matrix))` instead.\n",
            "Epoch [0] test log-likelihood: [-0.192910]\n",
            "Epoch [0] test log-likelihood: [-0.186486]\n",
            "Epoch [0] test log-likelihood: [-0.130915]\n",
            "Epoch [0] test log-likelihood: [-0.098810]\n",
            "Epoch [0] test log-likelihood: [-0.093911]\n",
            "Epoch [2] test log-likelihood: [-0.192227]\n",
            "Epoch [2] test log-likelihood: [-0.185220]\n",
            "Epoch [2] test log-likelihood: [-0.130542]\n",
            "Epoch [2] test log-likelihood: [-0.098197]\n",
            "Epoch [2] test log-likelihood: [-0.093543]\n",
            "Epoch [4] test log-likelihood: [-0.189993]\n",
            "Epoch [4] test log-likelihood: [-0.182525]\n",
            "Epoch [4] test log-likelihood: [-0.129059]\n",
            "Epoch [4] test log-likelihood: [-0.096729]\n",
            "Epoch [4] test log-likelihood: [-0.092551]\n",
            "Epoch [6] test log-likelihood: [-0.186581]\n",
            "Epoch [6] test log-likelihood: [-0.178648]\n",
            "Epoch [6] test log-likelihood: [-0.126765]\n",
            "Epoch [6] test log-likelihood: [-0.094597]\n",
            "Epoch [6] test log-likelihood: [-0.091111]\n",
            "Epoch [8] test log-likelihood: [-0.182690]\n",
            "Epoch [8] test log-likelihood: [-0.174547]\n",
            "Epoch [8] test log-likelihood: [-0.124129]\n",
            "Epoch [8] test log-likelihood: [-0.092330]\n",
            "Epoch [8] test log-likelihood: [-0.089586]\n",
            "(True, 'gp') 1\n",
            "Using gp for computing log-prior gradients. \n",
            "\n",
            "Epoch [0] test log-likelihood: [-0.707216]\n",
            "Epoch [0] test log-likelihood: [-0.704881]\n",
            "Epoch [0] test log-likelihood: [-0.565097]\n",
            "Epoch [0] test log-likelihood: [-0.503876]\n",
            "Epoch [0] test log-likelihood: [-0.454484]\n",
            "Epoch [2] test log-likelihood: [-0.691020]\n",
            "Epoch [2] test log-likelihood: [-0.688542]\n",
            "Epoch [2] test log-likelihood: [-0.550535]\n",
            "Epoch [2] test log-likelihood: [-0.489870]\n",
            "Epoch [2] test log-likelihood: [-0.441450]\n",
            "Epoch [4] test log-likelihood: [-0.671195]\n",
            "Epoch [4] test log-likelihood: [-0.668533]\n",
            "Epoch [4] test log-likelihood: [-0.532722]\n",
            "Epoch [4] test log-likelihood: [-0.472746]\n",
            "Epoch [4] test log-likelihood: [-0.425534]\n",
            "Epoch [6] test log-likelihood: [-0.643393]\n",
            "Epoch [6] test log-likelihood: [-0.640815]\n",
            "Epoch [6] test log-likelihood: [-0.507909]\n",
            "Epoch [6] test log-likelihood: [-0.449172]\n",
            "Epoch [6] test log-likelihood: [-0.403688]\n",
            "Epoch [8] test log-likelihood: [-0.609587]\n",
            "Epoch [8] test log-likelihood: [-0.606390]\n",
            "Epoch [8] test log-likelihood: [-0.477676]\n",
            "Epoch [8] test log-likelihood: [-0.419973]\n",
            "Epoch [8] test log-likelihood: [-0.376656]\n",
            "(True, 'gp') 2\n",
            "Using gp for computing log-prior gradients. \n",
            "\n",
            "Epoch [0] test log-likelihood: [-0.364771]\n",
            "Epoch [0] test log-likelihood: [-0.296802]\n",
            "Epoch [0] test log-likelihood: [-0.343994]\n",
            "Epoch [0] test log-likelihood: [-0.292679]\n",
            "Epoch [0] test log-likelihood: [-0.316251]\n",
            "Epoch [2] test log-likelihood: [-0.355032]\n",
            "Epoch [2] test log-likelihood: [-0.288323]\n",
            "Epoch [2] test log-likelihood: [-0.333877]\n",
            "Epoch [2] test log-likelihood: [-0.283205]\n",
            "Epoch [2] test log-likelihood: [-0.306376]\n",
            "Epoch [4] test log-likelihood: [-0.342749]\n",
            "Epoch [4] test log-likelihood: [-0.277686]\n",
            "Epoch [4] test log-likelihood: [-0.321302]\n",
            "Epoch [4] test log-likelihood: [-0.271557]\n",
            "Epoch [4] test log-likelihood: [-0.294317]\n",
            "Epoch [6] test log-likelihood: [-0.327971]\n",
            "Epoch [6] test log-likelihood: [-0.264923]\n",
            "Epoch [6] test log-likelihood: [-0.306180]\n",
            "Epoch [6] test log-likelihood: [-0.257582]\n",
            "Epoch [6] test log-likelihood: [-0.279863]\n",
            "Epoch [8] test log-likelihood: [-0.311639]\n",
            "Epoch [8] test log-likelihood: [-0.250894]\n",
            "Epoch [8] test log-likelihood: [-0.289549]\n",
            "Epoch [8] test log-likelihood: [-0.242309]\n",
            "Epoch [8] test log-likelihood: [-0.264079]\n",
            "(True, 'ssge') 0\n",
            "Using ssge for computing log-prior gradients. \n",
            "\n",
            "Epoch [0] test log-likelihood: [-0.998098]\n",
            "Epoch [0] test log-likelihood: [-0.904448]\n",
            "Epoch [0] test log-likelihood: [-1.058930]\n",
            "Epoch [0] test log-likelihood: [-1.024895]\n",
            "Epoch [0] test log-likelihood: [-1.095807]\n",
            "Epoch [2] test log-likelihood: [-0.977102]\n",
            "Epoch [2] test log-likelihood: [-0.884571]\n",
            "Epoch [2] test log-likelihood: [-1.037178]\n",
            "Epoch [2] test log-likelihood: [-1.003595]\n",
            "Epoch [2] test log-likelihood: [-1.073876]\n",
            "Epoch [4] test log-likelihood: [-0.945224]\n",
            "Epoch [4] test log-likelihood: [-0.854395]\n",
            "Epoch [4] test log-likelihood: [-1.004114]\n",
            "Epoch [4] test log-likelihood: [-0.971208]\n",
            "Epoch [4] test log-likelihood: [-1.040514]\n",
            "Epoch [6] test log-likelihood: [-0.901608]\n",
            "Epoch [6] test log-likelihood: [-0.813166]\n",
            "Epoch [6] test log-likelihood: [-0.958863]\n",
            "Epoch [6] test log-likelihood: [-0.926923]\n",
            "Epoch [6] test log-likelihood: [-0.994879]\n",
            "Epoch [8] test log-likelihood: [-0.849120]\n",
            "Epoch [8] test log-likelihood: [-0.763637]\n",
            "Epoch [8] test log-likelihood: [-0.904369]\n",
            "Epoch [8] test log-likelihood: [-0.873638]\n",
            "Epoch [8] test log-likelihood: [-0.939929]\n",
            "(True, 'ssge') 1\n",
            "Using ssge for computing log-prior gradients. \n",
            "\n",
            "Epoch [0] test log-likelihood: [-0.246852]\n",
            "Epoch [0] test log-likelihood: [-0.218776]\n",
            "Epoch [0] test log-likelihood: [-0.267217]\n",
            "Epoch [0] test log-likelihood: [-0.255004]\n",
            "Epoch [0] test log-likelihood: [-0.297479]\n",
            "Epoch [2] test log-likelihood: [-0.241027]\n",
            "Epoch [2] test log-likelihood: [-0.213767]\n",
            "Epoch [2] test log-likelihood: [-0.261169]\n",
            "Epoch [2] test log-likelihood: [-0.249446]\n",
            "Epoch [2] test log-likelihood: [-0.291641]\n",
            "Epoch [4] test log-likelihood: [-0.232193]\n",
            "Epoch [4] test log-likelihood: [-0.206142]\n",
            "Epoch [4] test log-likelihood: [-0.251897]\n",
            "Epoch [4] test log-likelihood: [-0.240861]\n",
            "Epoch [4] test log-likelihood: [-0.282577]\n",
            "Epoch [6] test log-likelihood: [-0.220038]\n",
            "Epoch [6] test log-likelihood: [-0.195681]\n",
            "Epoch [6] test log-likelihood: [-0.239098]\n",
            "Epoch [6] test log-likelihood: [-0.229015]\n",
            "Epoch [6] test log-likelihood: [-0.270043]\n",
            "Epoch [8] test log-likelihood: [-0.206002]\n",
            "Epoch [8] test log-likelihood: [-0.183699]\n",
            "Epoch [8] test log-likelihood: [-0.224371]\n",
            "Epoch [8] test log-likelihood: [-0.215492]\n",
            "Epoch [8] test log-likelihood: [-0.255719]\n",
            "(True, 'ssge') 2\n",
            "Using ssge for computing log-prior gradients. \n",
            "\n",
            "Epoch [0] test log-likelihood: [-0.746880]\n",
            "Epoch [0] test log-likelihood: [-0.627873]\n",
            "Epoch [0] test log-likelihood: [-0.682377]\n",
            "Epoch [0] test log-likelihood: [-0.584535]\n",
            "Epoch [0] test log-likelihood: [-0.588829]\n",
            "Epoch [2] test log-likelihood: [-0.733353]\n",
            "Epoch [2] test log-likelihood: [-0.615572]\n",
            "Epoch [2] test log-likelihood: [-0.668526]\n",
            "Epoch [2] test log-likelihood: [-0.571377]\n",
            "Epoch [2] test log-likelihood: [-0.575278]\n",
            "Epoch [4] test log-likelihood: [-0.714643]\n",
            "Epoch [4] test log-likelihood: [-0.598571]\n",
            "Epoch [4] test log-likelihood: [-0.649364]\n",
            "Epoch [4] test log-likelihood: [-0.553192]\n",
            "Epoch [4] test log-likelihood: [-0.556541]\n",
            "Epoch [6] test log-likelihood: [-0.689278]\n",
            "Epoch [6] test log-likelihood: [-0.575571]\n",
            "Epoch [6] test log-likelihood: [-0.623434]\n",
            "Epoch [6] test log-likelihood: [-0.528642]\n",
            "Epoch [6] test log-likelihood: [-0.531251]\n",
            "Epoch [8] test log-likelihood: [-0.658704]\n",
            "Epoch [8] test log-likelihood: [-0.547932]\n",
            "Epoch [8] test log-likelihood: [-0.592190]\n",
            "Epoch [8] test log-likelihood: [-0.499127]\n",
            "Epoch [8] test log-likelihood: [-0.500835]\n",
            "(True, 'sliced_score_estimation') 0\n",
            "Using sliced_score_estimation for computing log-prior gradients. \n",
            "\n",
            "Epoch [0] test log-likelihood: [-0.513137]\n",
            "Epoch [0] test log-likelihood: [-0.427318]\n",
            "Epoch [0] test log-likelihood: [-0.428602]\n",
            "Epoch [0] test log-likelihood: [-0.341981]\n",
            "Epoch [0] test log-likelihood: [-0.332130]\n",
            "Epoch [2] test log-likelihood: [-0.500940]\n",
            "Epoch [2] test log-likelihood: [-0.416870]\n",
            "Epoch [2] test log-likelihood: [-0.416318]\n",
            "Epoch [2] test log-likelihood: [-0.330755]\n",
            "Epoch [2] test log-likelihood: [-0.320700]\n",
            "Epoch [4] test log-likelihood: [-0.482424]\n",
            "Epoch [4] test log-likelihood: [-0.401030]\n",
            "Epoch [4] test log-likelihood: [-0.397860]\n",
            "Epoch [4] test log-likelihood: [-0.313992]\n",
            "Epoch [4] test log-likelihood: [-0.303720]\n",
            "Epoch [6] test log-likelihood: [-0.457648]\n",
            "Epoch [6] test log-likelihood: [-0.379943]\n",
            "Epoch [6] test log-likelihood: [-0.373300]\n",
            "Epoch [6] test log-likelihood: [-0.291816]\n",
            "Epoch [6] test log-likelihood: [-0.281325]\n",
            "Epoch [8] test log-likelihood: [-0.428850]\n",
            "Epoch [8] test log-likelihood: [-0.355549]\n",
            "Epoch [8] test log-likelihood: [-0.345016]\n",
            "Epoch [8] test log-likelihood: [-0.266483]\n",
            "Epoch [8] test log-likelihood: [-0.255879]\n",
            "(True, 'sliced_score_estimation') 1\n",
            "Using sliced_score_estimation for computing log-prior gradients. \n",
            "\n",
            "Epoch [0] test log-likelihood: [-0.310435]\n",
            "Epoch [0] test log-likelihood: [-0.249170]\n",
            "Epoch [0] test log-likelihood: [-0.267999]\n",
            "Epoch [0] test log-likelihood: [-0.212034]\n",
            "Epoch [0] test log-likelihood: [-0.223053]\n",
            "Epoch [2] test log-likelihood: [-0.301592]\n",
            "Epoch [2] test log-likelihood: [-0.241789]\n",
            "Epoch [2] test log-likelihood: [-0.258541]\n",
            "Epoch [2] test log-likelihood: [-0.203266]\n",
            "Epoch [2] test log-likelihood: [-0.213752]\n",
            "Epoch [4] test log-likelihood: [-0.289327]\n",
            "Epoch [4] test log-likelihood: [-0.231625]\n",
            "Epoch [4] test log-likelihood: [-0.245407]\n",
            "Epoch [4] test log-likelihood: [-0.191142]\n",
            "Epoch [4] test log-likelihood: [-0.200842]\n",
            "Epoch [6] test log-likelihood: [-0.272681]\n",
            "Epoch [6] test log-likelihood: [-0.218031]\n",
            "Epoch [6] test log-likelihood: [-0.227518]\n",
            "Epoch [6] test log-likelihood: [-0.174717]\n",
            "Epoch [6] test log-likelihood: [-0.183294]\n",
            "Epoch [8] test log-likelihood: [-0.254023]\n",
            "Epoch [8] test log-likelihood: [-0.203108]\n",
            "Epoch [8] test log-likelihood: [-0.207325]\n",
            "Epoch [8] test log-likelihood: [-0.156307]\n",
            "Epoch [8] test log-likelihood: [-0.163522]\n",
            "(True, 'sliced_score_estimation') 2\n",
            "Using sliced_score_estimation for computing log-prior gradients. \n",
            "\n",
            "Epoch [0] test log-likelihood: [-0.628031]\n",
            "Epoch [0] test log-likelihood: [-0.522479]\n",
            "Epoch [0] test log-likelihood: [-0.582241]\n",
            "Epoch [0] test log-likelihood: [-0.499486]\n",
            "Epoch [0] test log-likelihood: [-0.512818]\n",
            "Epoch [2] test log-likelihood: [-0.604721]\n",
            "Epoch [2] test log-likelihood: [-0.501522]\n",
            "Epoch [2] test log-likelihood: [-0.558406]\n",
            "Epoch [2] test log-likelihood: [-0.476915]\n",
            "Epoch [2] test log-likelihood: [-0.489652]\n",
            "Epoch [4] test log-likelihood: [-0.571246]\n",
            "Epoch [4] test log-likelihood: [-0.471539]\n",
            "Epoch [4] test log-likelihood: [-0.524162]\n",
            "Epoch [4] test log-likelihood: [-0.444549]\n",
            "Epoch [4] test log-likelihood: [-0.456417]\n",
            "Epoch [6] test log-likelihood: [-0.527480]\n",
            "Epoch [6] test log-likelihood: [-0.432566]\n",
            "Epoch [6] test log-likelihood: [-0.479302]\n",
            "Epoch [6] test log-likelihood: [-0.402251]\n",
            "Epoch [6] test log-likelihood: [-0.412910]\n",
            "Epoch [8] test log-likelihood: [-0.477204]\n",
            "Epoch [8] test log-likelihood: [-0.388177]\n",
            "Epoch [8] test log-likelihood: [-0.427640]\n",
            "Epoch [8] test log-likelihood: [-0.353723]\n",
            "Epoch [8] test log-likelihood: [-0.362867]\n",
            "(False, 'mle') 0\n",
            "Epoch [0] test log-likelihood: [-1.887671]\n",
            "Epoch [0] test log-likelihood: [-1.681225]\n",
            "Epoch [0] test log-likelihood: [-1.814310]\n",
            "Epoch [0] test log-likelihood: [-1.662699]\n",
            "Epoch [0] test log-likelihood: [-1.670327]\n",
            "Epoch [2] test log-likelihood: [-1.847833]\n",
            "Epoch [2] test log-likelihood: [-1.643534]\n",
            "Epoch [2] test log-likelihood: [-1.773649]\n",
            "Epoch [2] test log-likelihood: [-1.623077]\n",
            "Epoch [2] test log-likelihood: [-1.629928]\n",
            "Epoch [4] test log-likelihood: [-1.790094]\n",
            "Epoch [4] test log-likelihood: [-1.588970]\n",
            "Epoch [4] test log-likelihood: [-1.714725]\n",
            "Epoch [4] test log-likelihood: [-1.565703]\n",
            "Epoch [4] test log-likelihood: [-1.571422]\n",
            "Epoch [6] test log-likelihood: [-1.711667]\n",
            "Epoch [6] test log-likelihood: [-1.514988]\n",
            "Epoch [6] test log-likelihood: [-1.634682]\n",
            "Epoch [6] test log-likelihood: [-1.487842]\n",
            "Epoch [6] test log-likelihood: [-1.491995]\n",
            "Epoch [8] test log-likelihood: [-1.618323]\n",
            "Epoch [8] test log-likelihood: [-1.427146]\n",
            "Epoch [8] test log-likelihood: [-1.539413]\n",
            "Epoch [8] test log-likelihood: [-1.395301]\n",
            "Epoch [8] test log-likelihood: [-1.397554]\n",
            "(False, 'mle') 1\n",
            "Epoch [0] test log-likelihood: [-0.563154]\n",
            "Epoch [0] test log-likelihood: [-0.586210]\n",
            "Epoch [0] test log-likelihood: [-0.669158]\n",
            "Epoch [0] test log-likelihood: [-0.719988]\n",
            "Epoch [0] test log-likelihood: [-0.804807]\n",
            "Epoch [2] test log-likelihood: [-0.552148]\n",
            "Epoch [2] test log-likelihood: [-0.576093]\n",
            "Epoch [2] test log-likelihood: [-0.657303]\n",
            "Epoch [2] test log-likelihood: [-0.708365]\n",
            "Epoch [2] test log-likelihood: [-0.792476]\n",
            "Epoch [4] test log-likelihood: [-0.535557]\n",
            "Epoch [4] test log-likelihood: [-0.560802]\n",
            "Epoch [4] test log-likelihood: [-0.639369]\n",
            "Epoch [4] test log-likelihood: [-0.690731]\n",
            "Epoch [4] test log-likelihood: [-0.773747]\n",
            "Epoch [6] test log-likelihood: [-0.513208]\n",
            "Epoch [6] test log-likelihood: [-0.540238]\n",
            "Epoch [6] test log-likelihood: [-0.615151]\n",
            "Epoch [6] test log-likelihood: [-0.666919]\n",
            "Epoch [6] test log-likelihood: [-0.748405]\n",
            "Epoch [8] test log-likelihood: [-0.486898]\n",
            "Epoch [8] test log-likelihood: [-0.516090]\n",
            "Epoch [8] test log-likelihood: [-0.586545]\n",
            "Epoch [8] test log-likelihood: [-0.638791]\n",
            "Epoch [8] test log-likelihood: [-0.718393]\n",
            "(False, 'mle') 2\n",
            "Epoch [0] test log-likelihood: [-0.967770]\n",
            "Epoch [0] test log-likelihood: [-0.834717]\n",
            "Epoch [0] test log-likelihood: [-0.853791]\n",
            "Epoch [0] test log-likelihood: [-0.728440]\n",
            "Epoch [0] test log-likelihood: [-0.706815]\n",
            "Epoch [2] test log-likelihood: [-0.955749]\n",
            "Epoch [2] test log-likelihood: [-0.823814]\n",
            "Epoch [2] test log-likelihood: [-0.841785]\n",
            "Epoch [2] test log-likelihood: [-0.717198]\n",
            "Epoch [2] test log-likelihood: [-0.695368]\n",
            "Epoch [4] test log-likelihood: [-0.937321]\n",
            "Epoch [4] test log-likelihood: [-0.807120]\n",
            "Epoch [4] test log-likelihood: [-0.823396]\n",
            "Epoch [4] test log-likelihood: [-0.699996]\n",
            "Epoch [4] test log-likelihood: [-0.677866]\n",
            "Epoch [6] test log-likelihood: [-0.912302]\n",
            "Epoch [6] test log-likelihood: [-0.784505]\n",
            "Epoch [6] test log-likelihood: [-0.798439]\n",
            "Epoch [6] test log-likelihood: [-0.676687]\n",
            "Epoch [6] test log-likelihood: [-0.654141]\n",
            "Epoch [8] test log-likelihood: [-0.882499]\n",
            "Epoch [8] test log-likelihood: [-0.757616]\n",
            "Epoch [8] test log-likelihood: [-0.768775]\n",
            "Epoch [8] test log-likelihood: [-0.649052]\n",
            "Epoch [8] test log-likelihood: [-0.626027]\n"
          ],
          "name": "stdout"
        }
      ]
    },
    {
      "cell_type": "code",
      "metadata": {
        "colab": {
          "base_uri": "https://localhost:8080/"
        },
        "id": "Rl58_ZNuXqRW",
        "outputId": "b8bab96d-5074-47b1-cc1f-c80a9bcd817b"
      },
      "source": [
        "# Show confidence intervals for all results corresponding to each method.\n",
        "import scipy.stats as st\n",
        "\n",
        "for method, results in statistics.items():\n",
        "  print(method[1], ': ', st.t.interval(0.95, len(results) - 1,\n",
        "                                 loc=np.mean(results), scale=st.sem(results)))"
      ],
      "execution_count": null,
      "outputs": [
        {
          "output_type": "stream",
          "text": [
            "gp :  (-0.7589539394861732, 0.15734931986394263)\n",
            "ssge :  (-1.354276193358899, 0.258974420208137)\n",
            "sliced_score_estimation :  (-0.5682593353345479, -0.051163700446040794)\n",
            "mle :  (-2.113470761468972, 0.24568100421723227)\n"
          ],
          "name": "stdout"
        }
      ]
    }
  ]
}