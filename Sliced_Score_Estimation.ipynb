{
  "nbformat": 4,
  "nbformat_minor": 0,
  "metadata": {
    "colab": {
      "name": "Sliced Score Estimation.ipynb",
      "provenance": [],
      "collapsed_sections": [],
      "authorship_tag": "ABX9TyMkZFtSqA8FB4MaDeiJ4/sd",
      "include_colab_link": true
    },
    "kernelspec": {
      "name": "python3",
      "display_name": "Python 3"
    },
    "accelerator": "GPU"
  },
  "cells": [
    {
      "cell_type": "markdown",
      "metadata": {
        "id": "view-in-github",
        "colab_type": "text"
      },
      "source": [
        "<a href=\"https://colab.research.google.com/github/victor-armegioiu/Learning-Bayesian-Priors/blob/main/Sliced_Score_Estimation.ipynb\" target=\"_parent\"><img src=\"https://colab.research.google.com/assets/colab-badge.svg\" alt=\"Open In Colab\"/></a>"
      ]
    },
    {
      "cell_type": "markdown",
      "metadata": {
        "id": "ZJtMLK8cinyq"
      },
      "source": [
        "# Sliced Score Matching (https://arxiv.org/pdf/1905.07088.pdf)"
      ]
    },
    {
      "cell_type": "code",
      "metadata": {
        "id": "-3OJreLHdNmw"
      },
      "source": [
        "import tensorflow as tf\n",
        "import numpy as np\n",
        "\n",
        "import matplotlib.pyplot as plt\n",
        "import pprint"
      ],
      "execution_count": 1,
      "outputs": []
    },
    {
      "cell_type": "code",
      "metadata": {
        "id": "-95Bn1M5dU7C"
      },
      "source": [
        "data = np.random.randn(10000)"
      ],
      "execution_count": 2,
      "outputs": []
    },
    {
      "cell_type": "code",
      "metadata": {
        "colab": {
          "base_uri": "https://localhost:8080/",
          "height": 265
        },
        "id": "tTaqn6qrdiL1",
        "outputId": "9fc34bb2-2d19-4309-e46c-b12df6a7d06e"
      },
      "source": [
        "plt.hist(data, density=True, bins=100)\n",
        "plt.show()"
      ],
      "execution_count": 3,
      "outputs": [
        {
          "output_type": "display_data",
          "data": {
            "image/png": "[encoded data removed]",
            "text/plain": [
              "<Figure size 432x288 with 1 Axes>"
            ]
          },
          "metadata": {
            "tags": [],
            "needs_background": "light"
          }
        }
      ]
    },
    {
      "cell_type": "markdown",
      "metadata": {
        "id": "tPpDJ0JcoKgX"
      },
      "source": [
        "Implements the *sliced score estimator* objective function, and returns a trained NN, denoted as $h(\\cdot, \\hat{\\theta})$. Ideally, given an implicit distribution represented as a set of particles (samples $x \\sim p(\\cdot)$), the trained model learns to predict the score function of $p$, in an unsupervised fashion, such that $\\Vert h(x, \\hat{\\theta}) - \\nabla_x \\log p(x) \\Vert$ is minimized. \n",
        "\n",
        "Note that we do this **without** access to the actual score function.\n",
        "We use samples $x \\sim \\mathcal{N}(0, 1)$, since $\\nabla_x \\log p(x) = -x$ in this case, so it's easier to check for correct results just by looking at them.\n",
        "See **3.2 SLICED SCORE ESTIMATION** for details."
      ]
    },
    {
      "cell_type": "code",
      "metadata": {
        "id": "kWGpDHiwWAME"
      },
      "source": [
        "tf.keras.backend.clear_session()\n",
        "\n",
        "def GetSlicedScoreEstimator(config, print_every_n=10, verbose=False):\n",
        "  \"\"\"Train a NN to perform score estimation based on samples.\n",
        "\n",
        "  @params:\n",
        "    config: dict, contains training setting, the samples and the model to be  \n",
        "    optimized.\n",
        "\n",
        "    print_every_n: number of epochs to wait before printing loss info.\n",
        "    verbose: Printing is done only if this is set to `True`.\n",
        "  \"\"\"\n",
        "  x = config['data']\n",
        "  score_net = config['score_net']\n",
        "\n",
        "  # Training setup.\n",
        "  epochs = config['epochs']\n",
        "  lambda_reg = config['lambda_reg']\n",
        "  optimizer = tf.keras.optimizers.Adam(learning_rate=0.001)\n",
        "\n",
        "  best_model = tf.keras.models.clone_model(score_net)\n",
        "  best_loss = 1e9\n",
        "\n",
        "  x_tensor = tf.cast(x, tf.float64)\n",
        "  for epoch in range(epochs):\n",
        "    with tf.GradientTape(persistent=True) as g:\n",
        "      g.watch(x_tensor)\n",
        "      vectors = tf.random.normal(shape=x_tensor.shape, dtype=tf.float64)\n",
        "      \n",
        "      grad1 = tf.cast(score_net(x_tensor), tf.float64)\n",
        "      gradv = tf.math.reduce_sum(grad1 * vectors, axis=0)\n",
        "\n",
        "      loss1 = lambda_reg * tf.math.reduce_sum(\n",
        "          (grad1 * vectors) ** 2, axis=0) \n",
        "\n",
        "      grad2 = g.gradient(gradv, x_tensor)\n",
        "      loss2 = tf.math.reduce_sum(vectors * grad2, axis=0)\n",
        "\n",
        "      # Combine the losses.\n",
        "      loss_val = tf.reduce_mean(loss1 + loss2)\n",
        "\n",
        "    grads = g.gradient(loss_val, score_net.trainable_weights)\n",
        "    optimizer.apply_gradients(zip(grads, score_net.trainable_weights))\n",
        "\n",
        "    if loss_val.numpy() < best_loss:\n",
        "      best_loss = loss_val.numpy()\n",
        "      best_model.set_weights(score_net.get_weights())\n",
        "\n",
        "    if verbose and epoch % print_every_n == 0:\n",
        "      print('Epoch [%d], loss: [%f]' % (epoch, loss_val.numpy(),))\n",
        "\n",
        "  return best_model, best_loss\n",
        "    "
      ],
      "execution_count": 4,
      "outputs": []
    },
    {
      "cell_type": "code",
      "metadata": {
        "colab": {
          "base_uri": "https://localhost:8080/"
        },
        "id": "AntZ5Gdoe9h_",
        "outputId": "70410fb6-08b2-4ff8-a350-29c165f081bf"
      },
      "source": [
        "input_shape = (1,)\n",
        "score_net = tf.keras.Sequential([\n",
        "    tf.keras.Input(shape=input_shape, name='input'),\n",
        "    tf.keras.layers.Dense(10, activation='relu'),\n",
        "    tf.keras.layers.Dense(input_shape[0]),\n",
        "])\n",
        "\n",
        "config = {'data': data[:, None],\n",
        "          'score_net': score_net,\n",
        "          'epochs': 1000, \n",
        "          'lambda_reg': 0.15\n",
        "}\n",
        "\n",
        "best_score_estimator, best_loss = GetSlicedScoreEstimator(config, verbose=True)"
      ],
      "execution_count": 5,
      "outputs": [
        {
          "output_type": "stream",
          "text": [
            "WARNING:tensorflow:Calling GradientTape.gradient on a persistent tape inside its context is significantly less efficient than calling it outside the context (it causes the gradient ops to be recorded on the tape, leading to increased CPU and memory usage). Only call GradientTape.gradient inside the context if you actually want to trace the gradient in order to compute higher order derivatives.\n",
            "Epoch [0], loss: [-1707.479708]\n",
            "Epoch [10], loss: [-1913.203701]\n",
            "Epoch [20], loss: [-2093.652093]\n",
            "Epoch [30], loss: [-2365.111260]\n",
            "Epoch [40], loss: [-2515.873124]\n",
            "Epoch [50], loss: [-2749.246060]\n",
            "Epoch [60], loss: [-2690.968213]\n",
            "Epoch [70], loss: [-2970.881006]\n",
            "Epoch [80], loss: [-3159.448414]\n",
            "Epoch [90], loss: [-3180.307620]\n",
            "Epoch [100], loss: [-3420.451418]\n",
            "Epoch [110], loss: [-3599.202437]\n",
            "Epoch [120], loss: [-3722.238804]\n",
            "Epoch [130], loss: [-3778.214210]\n",
            "Epoch [140], loss: [-4031.416459]\n",
            "Epoch [150], loss: [-4091.968501]\n",
            "Epoch [160], loss: [-4389.781549]\n",
            "Epoch [170], loss: [-4493.239384]\n",
            "Epoch [180], loss: [-4503.510026]\n",
            "Epoch [190], loss: [-4740.960536]\n",
            "Epoch [200], loss: [-4597.640830]\n",
            "Epoch [210], loss: [-4991.424514]\n",
            "Epoch [220], loss: [-5207.473622]\n",
            "Epoch [230], loss: [-5437.842315]\n",
            "Epoch [240], loss: [-5443.153971]\n",
            "Epoch [250], loss: [-5629.808508]\n",
            "Epoch [260], loss: [-5754.116041]\n",
            "Epoch [270], loss: [-5773.548479]\n",
            "Epoch [280], loss: [-5971.231381]\n",
            "Epoch [290], loss: [-5991.357861]\n",
            "Epoch [300], loss: [-5908.713879]\n",
            "Epoch [310], loss: [-6350.033862]\n",
            "Epoch [320], loss: [-6194.112707]\n",
            "Epoch [330], loss: [-6093.096842]\n",
            "Epoch [340], loss: [-6307.234246]\n",
            "Epoch [350], loss: [-6430.529986]\n",
            "Epoch [360], loss: [-6535.939793]\n",
            "Epoch [370], loss: [-6481.805721]\n",
            "Epoch [380], loss: [-6354.060849]\n",
            "Epoch [390], loss: [-6266.406144]\n",
            "Epoch [400], loss: [-6505.814437]\n",
            "Epoch [410], loss: [-6532.394884]\n",
            "Epoch [420], loss: [-6524.298949]\n",
            "Epoch [430], loss: [-6755.437455]\n",
            "Epoch [440], loss: [-6741.173029]\n",
            "Epoch [450], loss: [-6826.225145]\n",
            "Epoch [460], loss: [-6671.452111]\n",
            "Epoch [470], loss: [-6535.638970]\n",
            "Epoch [480], loss: [-6461.716899]\n",
            "Epoch [490], loss: [-6801.600129]\n",
            "Epoch [500], loss: [-6837.766309]\n",
            "Epoch [510], loss: [-6424.517425]\n",
            "Epoch [520], loss: [-6653.090233]\n",
            "Epoch [530], loss: [-6523.114742]\n",
            "Epoch [540], loss: [-6387.434458]\n",
            "Epoch [550], loss: [-6578.210310]\n",
            "Epoch [560], loss: [-6463.740402]\n",
            "Epoch [570], loss: [-6524.325575]\n",
            "Epoch [580], loss: [-6215.637447]\n",
            "Epoch [590], loss: [-6411.300171]\n",
            "Epoch [600], loss: [-6098.970199]\n",
            "Epoch [610], loss: [-6010.131012]\n",
            "Epoch [620], loss: [-6315.774131]\n",
            "Epoch [630], loss: [-6492.902271]\n",
            "Epoch [640], loss: [-6106.179677]\n",
            "Epoch [650], loss: [-6150.829617]\n",
            "Epoch [660], loss: [-6379.654607]\n",
            "Epoch [670], loss: [-6086.426044]\n",
            "Epoch [680], loss: [-5942.839809]\n",
            "Epoch [690], loss: [-5892.116524]\n",
            "Epoch [700], loss: [-6196.258825]\n",
            "Epoch [710], loss: [-6127.983037]\n",
            "Epoch [720], loss: [-5638.026743]\n",
            "Epoch [730], loss: [-5878.408543]\n",
            "Epoch [740], loss: [-5773.767601]\n",
            "Epoch [750], loss: [-5710.197695]\n",
            "Epoch [760], loss: [-5797.451691]\n",
            "Epoch [770], loss: [-5934.252141]\n",
            "Epoch [780], loss: [-5719.030060]\n",
            "Epoch [790], loss: [-5771.584678]\n",
            "Epoch [800], loss: [-5750.491987]\n",
            "Epoch [810], loss: [-5665.442133]\n",
            "Epoch [820], loss: [-5676.221229]\n",
            "Epoch [830], loss: [-5582.939800]\n",
            "Epoch [840], loss: [-5784.927020]\n",
            "Epoch [850], loss: [-5654.827658]\n",
            "Epoch [860], loss: [-5669.045723]\n",
            "Epoch [870], loss: [-5765.153308]\n",
            "Epoch [880], loss: [-5607.521661]\n",
            "Epoch [890], loss: [-5650.186845]\n",
            "Epoch [900], loss: [-5932.952676]\n",
            "Epoch [910], loss: [-6026.053112]\n",
            "Epoch [920], loss: [-5805.380148]\n",
            "Epoch [930], loss: [-5631.652879]\n",
            "Epoch [940], loss: [-5577.157226]\n",
            "Epoch [950], loss: [-5687.582044]\n",
            "Epoch [960], loss: [-5749.748998]\n",
            "Epoch [970], loss: [-5690.001983]\n",
            "Epoch [980], loss: [-5887.157760]\n",
            "Epoch [990], loss: [-5683.832467]\n"
          ],
          "name": "stdout"
        }
      ]
    },
    {
      "cell_type": "code",
      "metadata": {
        "colab": {
          "base_uri": "https://localhost:8080/"
        },
        "id": "ogkOnZgFnNTW",
        "outputId": "4e54e213-d94f-47b7-c81f-e3822544adf4"
      },
      "source": [
        "print('Lowest loss:', best_loss)"
      ],
      "execution_count": 6,
      "outputs": [
        {
          "output_type": "stream",
          "text": [
            "Lowest loss: -6962.4145226680985\n"
          ],
          "name": "stdout"
        }
      ]
    },
    {
      "cell_type": "code",
      "metadata": {
        "colab": {
          "base_uri": "https://localhost:8080/"
        },
        "id": "AbeexqeufO5h",
        "outputId": "22622cc5-b070-4934-d6c0-a3f0b95d2563"
      },
      "source": [
        "test_data = np.random.randn(5)\n",
        "scores = best_score_estimator.predict(test_data[:, None])\n",
        "scores = [score[0] for score in scores]\n",
        "\n",
        "pprint.pprint(list(zip(test_data, scores)))\n"
      ],
      "execution_count": 12,
      "outputs": [
        {
          "output_type": "stream",
          "text": [
            "[(0.08620048598248987, -0.07383168),\n",
            " (-0.38355502449083445, -0.04168506),\n",
            " (3.058310617341467, -3.6396065),\n",
            " (-1.188687658138537, 0.6873603),\n",
            " (2.4908088889753377, -2.6998122)]\n"
          ],
          "name": "stdout"
        }
      ]
    },
    {
      "cell_type": "markdown",
      "metadata": {
        "id": "Or4veyT1npLR"
      },
      "source": [
        "Optimally, the plotted points would fall on the same line (this only holds for a unit variance, $0$-mean, univariate Gaussian distribution), and the scales would be the same on both axes."
      ]
    },
    {
      "cell_type": "code",
      "metadata": {
        "colab": {
          "base_uri": "https://localhost:8080/",
          "height": 265
        },
        "id": "EzJoru1hnjH0",
        "outputId": "6fd49f65-6696-413a-be4f-5eacfa90aa0c"
      },
      "source": [
        "plt.scatter(test_data, scores)\n",
        "plt.show()"
      ],
      "execution_count": 13,
      "outputs": [
        {
          "output_type": "display_data",
          "data": {
            "image/png": "[encoded data removed]",
            "text/plain": [
              "<Figure size 432x288 with 1 Axes>"
            ]
          },
          "metadata": {
            "tags": [],
            "needs_background": "light"
          }
        }
      ]
    }
  ]
}