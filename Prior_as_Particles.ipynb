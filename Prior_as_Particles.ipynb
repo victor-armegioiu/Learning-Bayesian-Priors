{
  "nbformat": 4,
  "nbformat_minor": 0,
  "metadata": {
    "accelerator": "GPU",
    "colab": {
      "name": "Prior as Particles.ipynb",
      "provenance": [],
      "collapsed_sections": [],
      "toc_visible": true
    },
    "kernelspec": {
      "display_name": "Python 3",
      "name": "python3"
    }
  },
  "cells": [
    {
      "cell_type": "markdown",
      "metadata": {
        "id": "Ttj1NMzeLb7l"
      },
      "source": [
        "# Better priors represented as particles"
      ]
    },
    {
      "cell_type": "markdown",
      "metadata": {
        "id": "3HNFtn3JLmBv"
      },
      "source": [
        "## Setup "
      ]
    },
    {
      "cell_type": "code",
      "metadata": {
        "colab": {
          "base_uri": "https://localhost:8080/"
        },
        "id": "emnY7qQ_D27i",
        "outputId": "12109bc7-e5e7-4796-ed6b-0a88d54f744b"
      },
      "source": [
        "from google.colab import drive\n",
        "drive.mount('/content/gdrive')"
      ],
      "execution_count": 1,
      "outputs": [
        {
          "output_type": "stream",
          "text": [
            "Drive already mounted at /content/gdrive; to attempt to forcibly remount, call drive.mount(\"/content/gdrive\", force_remount=True).\n"
          ],
          "name": "stdout"
        }
      ]
    },
    {
      "cell_type": "code",
      "metadata": {
        "colab": {
          "base_uri": "https://localhost:8080/"
        },
        "id": "fDhq3YG2Lh57",
        "outputId": "d38222b1-9f3b-45e8-9174-661e2fe56807"
      },
      "source": [
        "# gpflow doesn't come preloaded with colab.\n",
        "!pip3 install gpflow"
      ],
      "execution_count": 2,
      "outputs": [
        {
          "output_type": "stream",
          "text": [
            "Requirement already satisfied: gpflow in /usr/local/lib/python3.6/dist-packages (2.1.4)\n",
            "Requirement already satisfied: tensorflow>=2.1.0 in /usr/local/lib/python3.6/dist-packages (from gpflow) (2.4.1)\n",
            "Requirement already satisfied: typing-extensions in /usr/local/lib/python3.6/dist-packages (from gpflow) (3.7.4.3)\n",
            "Requirement already satisfied: scipy in /usr/local/lib/python3.6/dist-packages (from gpflow) (1.4.1)\n",
            "Requirement already satisfied: setuptools>=41.0.0 in /usr/local/lib/python3.6/dist-packages (from gpflow) (51.3.3)\n",
            "Requirement already satisfied: tabulate in /usr/local/lib/python3.6/dist-packages (from gpflow) (0.8.7)\n",
            "Requirement already satisfied: packaging in /usr/local/lib/python3.6/dist-packages (from gpflow) (20.8)\n",
            "Requirement already satisfied: multipledispatch>=0.6 in /usr/local/lib/python3.6/dist-packages (from gpflow) (0.6.0)\n",
            "Requirement already satisfied: dataclasses in /usr/local/lib/python3.6/dist-packages (from gpflow) (0.8)\n",
            "Requirement already satisfied: tensorflow-probability>0.10.0 in /usr/local/lib/python3.6/dist-packages (from gpflow) (0.12.1)\n",
            "Requirement already satisfied: numpy in /usr/local/lib/python3.6/dist-packages (from gpflow) (1.19.5)\n",
            "Requirement already satisfied: flatbuffers~=1.12.0 in /usr/local/lib/python3.6/dist-packages (from tensorflow>=2.1.0->gpflow) (1.12)\n",
            "Requirement already satisfied: wrapt~=1.12.1 in /usr/local/lib/python3.6/dist-packages (from tensorflow>=2.1.0->gpflow) (1.12.1)\n",
            "Requirement already satisfied: termcolor~=1.1.0 in /usr/local/lib/python3.6/dist-packages (from tensorflow>=2.1.0->gpflow) (1.1.0)\n",
            "Requirement already satisfied: astunparse~=1.6.3 in /usr/local/lib/python3.6/dist-packages (from tensorflow>=2.1.0->gpflow) (1.6.3)\n",
            "Requirement already satisfied: protobuf>=3.9.2 in /usr/local/lib/python3.6/dist-packages (from tensorflow>=2.1.0->gpflow) (3.12.4)\n",
            "Requirement already satisfied: grpcio~=1.32.0 in /usr/local/lib/python3.6/dist-packages (from tensorflow>=2.1.0->gpflow) (1.32.0)\n",
            "Requirement already satisfied: h5py~=2.10.0 in /usr/local/lib/python3.6/dist-packages (from tensorflow>=2.1.0->gpflow) (2.10.0)\n",
            "Requirement already satisfied: keras-preprocessing~=1.1.2 in /usr/local/lib/python3.6/dist-packages (from tensorflow>=2.1.0->gpflow) (1.1.2)\n",
            "Requirement already satisfied: opt-einsum~=3.3.0 in /usr/local/lib/python3.6/dist-packages (from tensorflow>=2.1.0->gpflow) (3.3.0)\n",
            "Requirement already satisfied: gast==0.3.3 in /usr/local/lib/python3.6/dist-packages (from tensorflow>=2.1.0->gpflow) (0.3.3)\n",
            "Requirement already satisfied: absl-py~=0.10 in /usr/local/lib/python3.6/dist-packages (from tensorflow>=2.1.0->gpflow) (0.10.0)\n",
            "Requirement already satisfied: google-pasta~=0.2 in /usr/local/lib/python3.6/dist-packages (from tensorflow>=2.1.0->gpflow) (0.2.0)\n",
            "Requirement already satisfied: tensorboard~=2.4 in /usr/local/lib/python3.6/dist-packages (from tensorflow>=2.1.0->gpflow) (2.4.1)\n",
            "Requirement already satisfied: tensorflow-estimator<2.5.0,>=2.4.0 in /usr/local/lib/python3.6/dist-packages (from tensorflow>=2.1.0->gpflow) (2.4.0)\n",
            "Requirement already satisfied: six~=1.15.0 in /usr/local/lib/python3.6/dist-packages (from tensorflow>=2.1.0->gpflow) (1.15.0)\n",
            "Requirement already satisfied: wheel~=0.35 in /usr/local/lib/python3.6/dist-packages (from tensorflow>=2.1.0->gpflow) (0.36.2)\n",
            "Requirement already satisfied: pyparsing>=2.0.2 in /usr/local/lib/python3.6/dist-packages (from packaging->gpflow) (2.4.7)\n",
            "Requirement already satisfied: decorator in /usr/local/lib/python3.6/dist-packages (from tensorflow-probability>0.10.0->gpflow) (4.4.2)\n",
            "Requirement already satisfied: dm-tree in /usr/local/lib/python3.6/dist-packages (from tensorflow-probability>0.10.0->gpflow) (0.1.5)\n",
            "Requirement already satisfied: cloudpickle>=1.3 in /usr/local/lib/python3.6/dist-packages (from tensorflow-probability>0.10.0->gpflow) (1.3.0)\n",
            "Requirement already satisfied: google-auth-oauthlib<0.5,>=0.4.1 in /usr/local/lib/python3.6/dist-packages (from tensorboard~=2.4->tensorflow>=2.1.0->gpflow) (0.4.2)\n",
            "Requirement already satisfied: google-auth<2,>=1.6.3 in /usr/local/lib/python3.6/dist-packages (from tensorboard~=2.4->tensorflow>=2.1.0->gpflow) (1.17.2)\n",
            "Requirement already satisfied: markdown>=2.6.8 in /usr/local/lib/python3.6/dist-packages (from tensorboard~=2.4->tensorflow>=2.1.0->gpflow) (3.3.3)\n",
            "Requirement already satisfied: tensorboard-plugin-wit>=1.6.0 in /usr/local/lib/python3.6/dist-packages (from tensorboard~=2.4->tensorflow>=2.1.0->gpflow) (1.8.0)\n",
            "Requirement already satisfied: requests<3,>=2.21.0 in /usr/local/lib/python3.6/dist-packages (from tensorboard~=2.4->tensorflow>=2.1.0->gpflow) (2.23.0)\n",
            "Requirement already satisfied: werkzeug>=0.11.15 in /usr/local/lib/python3.6/dist-packages (from tensorboard~=2.4->tensorflow>=2.1.0->gpflow) (1.0.1)\n",
            "Requirement already satisfied: requests-oauthlib>=0.7.0 in /usr/local/lib/python3.6/dist-packages (from google-auth-oauthlib<0.5,>=0.4.1->tensorboard~=2.4->tensorflow>=2.1.0->gpflow) (1.3.0)\n",
            "Requirement already satisfied: rsa<5,>=3.1.4; python_version >= \"3\" in /usr/local/lib/python3.6/dist-packages (from google-auth<2,>=1.6.3->tensorboard~=2.4->tensorflow>=2.1.0->gpflow) (4.7)\n",
            "Requirement already satisfied: pyasn1-modules>=0.2.1 in /usr/local/lib/python3.6/dist-packages (from google-auth<2,>=1.6.3->tensorboard~=2.4->tensorflow>=2.1.0->gpflow) (0.2.8)\n",
            "Requirement already satisfied: cachetools<5.0,>=2.0.0 in /usr/local/lib/python3.6/dist-packages (from google-auth<2,>=1.6.3->tensorboard~=2.4->tensorflow>=2.1.0->gpflow) (4.2.1)\n",
            "Requirement already satisfied: importlib-metadata; python_version < \"3.8\" in /usr/local/lib/python3.6/dist-packages (from markdown>=2.6.8->tensorboard~=2.4->tensorflow>=2.1.0->gpflow) (3.4.0)\n",
            "Requirement already satisfied: certifi>=2017.4.17 in /usr/local/lib/python3.6/dist-packages (from requests<3,>=2.21.0->tensorboard~=2.4->tensorflow>=2.1.0->gpflow) (2020.12.5)\n",
            "Requirement already satisfied: chardet<4,>=3.0.2 in /usr/local/lib/python3.6/dist-packages (from requests<3,>=2.21.0->tensorboard~=2.4->tensorflow>=2.1.0->gpflow) (3.0.4)\n",
            "Requirement already satisfied: urllib3!=1.25.0,!=1.25.1,<1.26,>=1.21.1 in /usr/local/lib/python3.6/dist-packages (from requests<3,>=2.21.0->tensorboard~=2.4->tensorflow>=2.1.0->gpflow) (1.24.3)\n",
            "Requirement already satisfied: idna<3,>=2.5 in /usr/local/lib/python3.6/dist-packages (from requests<3,>=2.21.0->tensorboard~=2.4->tensorflow>=2.1.0->gpflow) (2.10)\n",
            "Requirement already satisfied: oauthlib>=3.0.0 in /usr/local/lib/python3.6/dist-packages (from requests-oauthlib>=0.7.0->google-auth-oauthlib<0.5,>=0.4.1->tensorboard~=2.4->tensorflow>=2.1.0->gpflow) (3.1.0)\n",
            "Requirement already satisfied: pyasn1>=0.1.3 in /usr/local/lib/python3.6/dist-packages (from rsa<5,>=3.1.4; python_version >= \"3\"->google-auth<2,>=1.6.3->tensorboard~=2.4->tensorflow>=2.1.0->gpflow) (0.4.8)\n",
            "Requirement already satisfied: zipp>=0.5 in /usr/local/lib/python3.6/dist-packages (from importlib-metadata; python_version < \"3.8\"->markdown>=2.6.8->tensorboard~=2.4->tensorflow>=2.1.0->gpflow) (3.4.0)\n"
          ],
          "name": "stdout"
        }
      ]
    },
    {
      "cell_type": "code",
      "metadata": {
        "id": "Ks43pRGGFeLZ",
        "colab": {
          "base_uri": "https://localhost:8080/"
        },
        "outputId": "6690a6a8-1bbb-4a5f-ee8e-53a821dbf436"
      },
      "source": [
        "import numpy as np\n",
        "import time\n",
        "\n",
        "from sklearn.preprocessing import StandardScaler\n",
        "from sklearn.datasets import make_regression\n",
        "from sklearn.model_selection import train_test_split\n",
        "\n",
        "import tensorflow as tf\n",
        "import tensorflow_probability as tfp\n",
        "\n",
        "import matplotlib\n",
        "import matplotlib.pyplot as plt\n",
        "\n",
        "from gdrive.MyDrive.prior_learning.spectral_stein_grad.estimator import SpectralScoreEstimator\n",
        "from gdrive.MyDrive.prior_learning import data_utils\n",
        "from gdrive.MyDrive.prior_learning import prior_utils\n",
        "\n",
        "tf.compat.v1.enable_eager_execution()\n"
      ],
      "execution_count": 3,
      "outputs": [
        {
          "output_type": "stream",
          "text": [
            "WARNING:tensorflow:From /usr/local/lib/python3.6/dist-packages/tensorflow/python/compat/v2_compat.py:96: disable_resource_variables (from tensorflow.python.ops.variable_scope) is deprecated and will be removed in a future version.\n",
            "Instructions for updating:\n",
            "non-resource variables are not supported in the long term\n"
          ],
          "name": "stdout"
        }
      ]
    },
    {
      "cell_type": "code",
      "metadata": {
        "colab": {
          "base_uri": "https://localhost:8080/"
        },
        "id": "jpyirMceU8rl",
        "outputId": "cd050370-dd34-46f9-ff18-edb0a79d4018"
      },
      "source": [
        "tf.executing_eagerly()"
      ],
      "execution_count": 4,
      "outputs": [
        {
          "output_type": "execute_result",
          "data": {
            "text/plain": [
              "True"
            ]
          },
          "metadata": {
            "tags": []
          },
          "execution_count": 4
        }
      ]
    },
    {
      "cell_type": "code",
      "metadata": {
        "colab": {
          "base_uri": "https://localhost:8080/"
        },
        "id": "exSRRJaSZHEA",
        "outputId": "48e0a98a-e88a-4444-9841-83d805afc95a"
      },
      "source": [
        "tf.config.list_physical_devices('GPU') "
      ],
      "execution_count": 5,
      "outputs": [
        {
          "output_type": "execute_result",
          "data": {
            "text/plain": [
              "[PhysicalDevice(name='/physical_device:GPU:0', device_type='GPU')]"
            ]
          },
          "metadata": {
            "tags": []
          },
          "execution_count": 5
        }
      ]
    },
    {
      "cell_type": "markdown",
      "metadata": {
        "id": "AtFYyye2Lq1G"
      },
      "source": [
        "## Building the dataset"
      ]
    },
    {
      "cell_type": "code",
      "metadata": {
        "id": "atKQhTcWGAYp"
      },
      "source": [
        "tasks_data = data_utils.GetSinusoidParams(task_count=10)"
      ],
      "execution_count": 6,
      "outputs": []
    },
    {
      "cell_type": "code",
      "metadata": {
        "id": "SC6KrF3DNlZG"
      },
      "source": [
        "config = {\n",
        "          'input_shape': 1,             # Shape of input data.\n",
        "          'size': 5,                    # Number of samples.  \n",
        "          'generation_method': 'sine',  # Generating process of the labels.\n",
        "          'tasks_data': tasks_data,     # Hyperparams for the sinusoids.\n",
        "}"
      ],
      "execution_count": 7,
      "outputs": []
    },
    {
      "cell_type": "code",
      "metadata": {
        "id": "-rX5LSt5Jgf_"
      },
      "source": [
        "X, y = data_utils.GetDataset(config)\n",
        "X = X[:, None]\n",
        "test_tasks_cnt = 1\n",
        "\n",
        "first_test_idx = len(X) - test_tasks_cnt * config['size']\n",
        "X_train, y_train = X[:first_test_idx], y[:first_test_idx]\n",
        "X_test, y_test = X[first_test_idx:], y[first_test_idx:]"
      ],
      "execution_count": 8,
      "outputs": []
    },
    {
      "cell_type": "code",
      "metadata": {
        "colab": {
          "base_uri": "https://localhost:8080/"
        },
        "id": "qAhcM4vPgZBE",
        "outputId": "82e605df-8741-47ec-9847-2faf66b4f162"
      },
      "source": [
        "X_train.shape, X_test.shape"
      ],
      "execution_count": 9,
      "outputs": [
        {
          "output_type": "execute_result",
          "data": {
            "text/plain": [
              "((45, 1), (5, 1))"
            ]
          },
          "metadata": {
            "tags": []
          },
          "execution_count": 9
        }
      ]
    },
    {
      "cell_type": "code",
      "metadata": {
        "id": "0WoIeHxbpzcX"
      },
      "source": [
        "scaler = StandardScaler().fit(X_train)"
      ],
      "execution_count": 10,
      "outputs": []
    },
    {
      "cell_type": "code",
      "metadata": {
        "id": "VQZtL6nxglLY"
      },
      "source": [
        "# Use the same scaler in order to ensure that we don't inject knowledge\n",
        "# about the test distribution in our training biases.\n",
        "X_train = scaler.transform(X_train)\n",
        "X_test = scaler.transform(X_test)"
      ],
      "execution_count": 11,
      "outputs": []
    },
    {
      "cell_type": "code",
      "metadata": {
        "colab": {
          "base_uri": "https://localhost:8080/",
          "height": 294
        },
        "id": "lIUpN7Vkwj8A",
        "outputId": "c7d989f6-faee-4e9e-c3c5-756d958d4cba"
      },
      "source": [
        "fig, (ax1, ax2) = plt.subplots(1, 2)\n",
        "fig.suptitle('Inputs Train/Test distributions')\n",
        "ax1.hist(X_train, bins=10)\n",
        "ax2.hist(X_test, bins=10)\n",
        "plt.show()"
      ],
      "execution_count": 12,
      "outputs": [
        {
          "output_type": "display_data",
          "data": {
            "image/png": "[encoded data removed]",
            "text/plain": [
              "<Figure size 432x288 with 2 Axes>"
            ]
          },
          "metadata": {
            "tags": [],
            "needs_background": "light"
          }
        }
      ]
    },
    {
      "cell_type": "code",
      "metadata": {
        "id": "3ldHY_xK2Y9O"
      },
      "source": [
        "# Scale both dataset by `y_train_max`. Same reasoning\n",
        "# as in using the same scaler on inputs. This is done to avoid\n",
        "# exploding gradients.\n",
        "y_train_max = y_train.max()\n",
        "y_train /= y_train_max\n",
        "y_test /= y_train_max"
      ],
      "execution_count": 13,
      "outputs": []
    },
    {
      "cell_type": "code",
      "metadata": {
        "colab": {
          "base_uri": "https://localhost:8080/",
          "height": 294
        },
        "id": "VEdTaSi9w5iC",
        "outputId": "306a0361-18a9-4fff-ca9b-85387fd599e7"
      },
      "source": [
        "fig, (ax1, ax2) = plt.subplots(1, 2)\n",
        "fig.suptitle('Labels Train/Test distributions')\n",
        "ax1.hist(y_train, bins=100)\n",
        "ax2.hist(y_test, bins=100)\n",
        "plt.show()"
      ],
      "execution_count": 14,
      "outputs": [
        {
          "output_type": "display_data",
          "data": {
            "image/png": "[encoded data removed]",
            "text/plain": [
              "<Figure size 432x288 with 2 Axes>"
            ]
          },
          "metadata": {
            "tags": [],
            "needs_background": "light"
          }
        }
      ]
    },
    {
      "cell_type": "markdown",
      "metadata": {
        "id": "hUczRSqDrgyZ"
      },
      "source": [
        "## GP Prior Setup\n",
        "\n",
        "Train a $\\mathcal{GP}$ on the training data, so that we may later use the tuned kernel for estimating the covariance of a Normal distribution over function values (this shall be used as the prior in the `f-bnn` formulation below)."
      ]
    },
    {
      "cell_type": "code",
      "metadata": {
        "id": "R8reHpDqdZNH"
      },
      "source": [
        "# Pre-train GP prior.\n",
        "gp_prior, _ = prior_utils.TrainGPPrior(X_train, y_train)"
      ],
      "execution_count": 15,
      "outputs": []
    },
    {
      "cell_type": "markdown",
      "metadata": {
        "id": "CgDB6_SSLxOW"
      },
      "source": [
        "## Model setup"
      ]
    },
    {
      "cell_type": "code",
      "metadata": {
        "id": "UbS_6q1rNlwg"
      },
      "source": [
        "def ApproximateEntropyGrads(estimator, samples):\n",
        "  dlog_q = estimator.compute_gradients(samples)\n",
        "  surrogate = tf.reduce_mean(\n",
        "      tf.reduce_sum(\n",
        "          tf.stop_gradient(-dlog_q) * tf.cast(samples, tf.float64), -1))\n",
        "  return surrogate"
      ],
      "execution_count": 16,
      "outputs": []
    },
    {
      "cell_type": "code",
      "metadata": {
        "id": "n8cArXB4OtId"
      },
      "source": [
        "def InjectNoise(x, mean=0.0, std=1.0):\n",
        "  return x + np.random.normal(mean, std, size=x.shape)"
      ],
      "execution_count": 17,
      "outputs": []
    },
    {
      "cell_type": "code",
      "metadata": {
        "id": "D2P4aL4kLMMg"
      },
      "source": [
        "# Estimator to be used for computing score gradients of implicit distributions\n",
        "# represtend as sets of particles.\n",
        "estimator = SpectralScoreEstimator(n_eigen_threshold=0.99, eta=0.0)"
      ],
      "execution_count": 18,
      "outputs": []
    },
    {
      "cell_type": "code",
      "metadata": {
        "id": "gXbEKuDpL-L0"
      },
      "source": [
        "# TODO: Allow for customizable models.\n",
        "def _GetModel():\n",
        "  kl_divergence_function = (lambda q, p, _:\n",
        "                            tfp.distributions.kl_divergence(q, p) /\n",
        "                            tf.cast(len(X_train), dtype=tf.float32))\n",
        "\n",
        "  # Setup a feed forward BNN with 1 hidden layer.\n",
        "  model = tf.keras.Sequential([\n",
        "      tf.keras.Input(shape=X_train[0].shape,name='input'),\n",
        "      tfp.layers.DenseFlipout(10, kernel_divergence_fn=kl_divergence_function,\n",
        "                              activation=tf.nn.relu, name=\"dense_tfp_1\"),\n",
        "      tfp.layers.DenseFlipout(1,\n",
        "                              kernel_divergence_fn=kl_divergence_function,\n",
        "                              name=\"out_tfp_pred\"),\n",
        "  ])\n",
        "\n",
        "  return model"
      ],
      "execution_count": 19,
      "outputs": []
    },
    {
      "cell_type": "markdown",
      "metadata": {
        "id": "f37ZS9Fa1_N6"
      },
      "source": [
        "Reframing variational inference in the function space, we arrive at the following objective formulation [Sun et al., 2019]\n",
        "\n",
        "\\begin{equation}\n",
        " \\log p(\\mathcal{D} \\vert f) - \\lambda KL(q \\Vert p) \\hspace{0.5cm}(1)\n",
        "\\end{equation}\n",
        "\n",
        "where $q, p$ represent the posterior, and the prior over function values.\n",
        "\n",
        "Using the reparametrization trick, function values $f(x) \\sim q(\\cdot)$ are drawn from a parameterized neural net $g_\\phi(x ; \\xi)$. Here $\\phi$ denotes the set of optimizable parameters, while $\\xi$ is a random perturbation under which the change of variable is performed. Hence, drawing samples $f(x) \\sim q$ is done by forwarding $x$ through $g_\\phi(\\cdot ; \\xi)$.\n",
        "\n",
        "In order to obtain a feasible optimization procedure from $(1)$, the $KL$ divergence is then expanded as \n",
        "\n",
        "\\begin{equation}\n",
        " KL(q \\Vert p)  = \\mathbb{E}_{\\xi}[\\nabla_\\phi \\textbf{f} (\\nabla_\\textbf{f} \\log q(\\textbf{f}) - \\nabla_\\textbf{f}\\log p(\\textbf{f})  )] \\hspace{0.5cm}(2)\n",
        "\\end{equation}\n",
        "\n",
        "Note that the $KL$ term is made tractable by using SSGE [Shi et al., 2018] to extract gradients for the score functions, since both $q(\\cdot), p(\\cdot)$ are both implicit distributions represented as particles."
      ]
    },
    {
      "cell_type": "code",
      "metadata": {
        "id": "17AdJLvodP8K"
      },
      "source": [
        "def SamplePosterior(variational_posterior, n_particles, x):\n",
        "  return np.stack([variational_posterior(x) for _ in range(n_particles)])"
      ],
      "execution_count": 20,
      "outputs": []
    },
    {
      "cell_type": "code",
      "metadata": {
        "colab": {
          "base_uri": "https://localhost:8080/"
        },
        "id": "ZususzjfNJma",
        "outputId": "5bf3343b-9caa-445d-d423-afb6ae7307e9"
      },
      "source": [
        "model = _GetModel()\n",
        "\n",
        "epochs = 5\n",
        "loss_fn = tf.keras.losses.MeanSquaredError()\n",
        "optimizer = tf.keras.optimizers.Adam(0.001)\n",
        "n_particles = 10\n",
        "\n",
        "train_acc_metric = tf.keras.metrics.MeanAbsoluteError()\n",
        "val_acc_metric = tf.keras.metrics.MeanAbsoluteError()\n",
        "\n",
        "# The real targets are the true prior.\n",
        "prior_particles = np.copy(y_train)\n",
        "if len(prior_particles.shape) == 2:\n",
        "  prior_particles = np.squeeze(prior_particles, -1)\n",
        "\n",
        "# If this is disabled the model disregards the KL term and simply optimizes\n",
        "# the likelihood of the targets.\n",
        "use_functional_kl = True\n",
        "lambda_kl = 1.0\n",
        "\n",
        "# Configs used as arguments for the `ComputeCrossEntropy` function, which\n",
        "# will be used for computing the log_prior gradients (or approximate gradients).\n",
        "configs = {\n",
        "  'gp': {'method': 'gp',  'kernel_function': gp_prior.kernel, 'x': X_train},\n",
        "\n",
        "  'ssge': {'method': 'ssge', 'estimator': estimator, 'n_particles': n_particles,\n",
        "    'prior_particles': prior_particles},\n",
        "}\n",
        "\n",
        "# If 'gp' is chosen here, then the prior will be represented exactly as a GP.\n",
        "# Otherwise, we will use the ground truth particles as an empirical measure\n",
        "# and compute approximate gradients with SSGE.\n",
        "method = 'gp'\n",
        "\n",
        "for epoch in range(epochs):\n",
        "    start_time = time.time()\n",
        "    with tf.GradientTape() as tape:\n",
        "        logits = model(X_train, training=True)\n",
        "        \n",
        "        # Considering a Gaussian likelihood model, with unit variance.\n",
        "        neg_log_likelihood = loss_fn(y_train, logits)\n",
        "        loss_value = neg_log_likelihood \n",
        "      \n",
        "        if use_functional_kl:\n",
        "          # Use SSGE to approximate the log gradients of the functional\n",
        "          # posterior given the 'drawn' samples from the neural net.\n",
        "          # See Equation (2).\n",
        "          noisy_logits = SamplePosterior(model, n_particles, X_train)\n",
        "          noisy_logits += np.random.normal(0, 1, size=noisy_logits.shape)\n",
        "          entropy_sur = ApproximateEntropyGrads(estimator, noisy_logits)\n",
        "          \n",
        "          configs[method]['y'] = (noisy_logits.squeeze(2) if 'gp' in method\n",
        "                                  else noisy_logits)\n",
        "          cross_entropy_sur = prior_utils.ComputeCrossEntropy(configs[method])\n",
        "          \n",
        "          # Add these up to produce the KL term to be optimized.\n",
        "          functional_kl = (tf.cast(entropy_sur, tf.float32) -\n",
        "                           tf.cast(cross_entropy_sur, tf.float32))\n",
        "          loss_value += lambda_kl * functional_kl / len(X_train)\n",
        "\n",
        "    grads = tape.gradient(loss_value, model.trainable_weights)\n",
        "    optimizer.apply_gradients(zip(grads, model.trainable_weights))\n",
        "    train_acc_metric.update_state(y_train, logits)\n",
        "   \n",
        "    if epoch % 5 == 0:\n",
        "    \ttrain_acc = train_acc_metric.result()\n",
        "    \tprint(\"Negative log likelihood over epoch [%d]: %.4f\" % \n",
        "           (epoch, float(neg_log_likelihood,)))\n",
        "\n",
        "    train_acc_metric.reset_states()\n",
        "\n",
        "    # Results on validation dataset.\n",
        "    val_logits = model(X_test, training=False)\n",
        "    val_acc_metric.update_state(y_test, val_logits)\n",
        "\n",
        "    val_acc = val_acc_metric.result()\n",
        "    val_acc_metric.reset_states()\n",
        "    print(\"Validation negative log likelihood: %.4f\" % (float(val_acc),))\n",
        "    print(\"Time taken: %.2fs\" % (time.time() - start_time))\n",
        "    print()"
      ],
      "execution_count": 62,
      "outputs": [
        {
          "output_type": "stream",
          "text": [
            "/usr/local/lib/python3.6/dist-packages/tensorflow/python/keras/engine/base_layer.py:2281: UserWarning: `layer.add_variable` is deprecated and will be removed in a future version. Please use `layer.add_weight` method instead.\n",
            "  warnings.warn('`layer.add_variable` is deprecated and '\n"
          ],
          "name": "stderr"
        },
        {
          "output_type": "stream",
          "text": [
            "Negative log likelihood over epoch [0]: 0.2666\n",
            "Validation negative log likelihood: 0.4695\n",
            "Time taken: 0.24s\n",
            "\n",
            "Validation negative log likelihood: 0.4692\n",
            "Time taken: 0.22s\n",
            "\n",
            "Validation negative log likelihood: 0.4667\n",
            "Time taken: 0.22s\n",
            "\n",
            "Validation negative log likelihood: 0.4758\n",
            "Time taken: 0.22s\n",
            "\n",
            "Validation negative log likelihood: 0.4767\n",
            "Time taken: 0.21s\n",
            "\n"
          ],
          "name": "stdout"
        }
      ]
    },
    {
      "cell_type": "code",
      "metadata": {
        "colab": {
          "base_uri": "https://localhost:8080/",
          "height": 265
        },
        "id": "4XswtGczNRv5",
        "outputId": "564e21de-4f10-455d-b4cb-6ecb331f4931"
      },
      "source": [
        "plt.plot(model.predict(X_test))\n",
        "plt.plot(y_test)\n",
        "\n",
        "plt.legend(['Prediction', 'Ground Truth'], loc='upper left')\n",
        "plt.show()"
      ],
      "execution_count": 23,
      "outputs": [
        {
          "output_type": "display_data",
          "data": {
            "image/png": "[encoded data removed]",
            "text/plain": [
              "<Figure size 432x288 with 1 Axes>"
            ]
          },
          "metadata": {
            "tags": [],
            "needs_background": "light"
          }
        }
      ]
    }
  ]
}