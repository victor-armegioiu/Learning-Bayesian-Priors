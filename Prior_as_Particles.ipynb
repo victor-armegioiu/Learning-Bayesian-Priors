{
  "nbformat": 4,
  "nbformat_minor": 0,
  "metadata": {
    "accelerator": "GPU",
    "colab": {
      "name": "Prior as Particles.ipynb",
      "provenance": [],
      "collapsed_sections": [],
      "toc_visible": true
    },
    "kernelspec": {
      "display_name": "Python 3",
      "name": "python3"
    }
  },
  "cells": [
    {
      "cell_type": "markdown",
      "metadata": {
        "id": "Ttj1NMzeLb7l"
      },
      "source": [
        "# Better priors represented as particles"
      ]
    },
    {
      "cell_type": "markdown",
      "metadata": {
        "id": "3HNFtn3JLmBv"
      },
      "source": [
        "## Setup "
      ]
    },
    {
      "cell_type": "code",
      "metadata": {
        "colab": {
          "base_uri": "https://localhost:8080/"
        },
        "id": "emnY7qQ_D27i",
        "outputId": "42b5cd69-c5db-4daf-baef-9b84fa04b658"
      },
      "source": [
        "from google.colab import drive\n",
        "drive.mount('/content/gdrive')"
      ],
      "execution_count": 1,
      "outputs": [
        {
          "output_type": "stream",
          "text": [
            "Drive already mounted at /content/gdrive; to attempt to forcibly remount, call drive.mount(\"/content/gdrive\", force_remount=True).\n"
          ],
          "name": "stdout"
        }
      ]
    },
    {
      "cell_type": "code",
      "metadata": {
        "id": "fDhq3YG2Lh57"
      },
      "source": [
        "# gpflow doesn't come preloaded with colab.\n",
        "!pip3 install gpflow"
      ],
      "execution_count": null,
      "outputs": []
    },
    {
      "cell_type": "code",
      "metadata": {
        "id": "Ks43pRGGFeLZ",
        "colab": {
          "base_uri": "https://localhost:8080/"
        },
        "outputId": "cb6d6113-070a-4d99-b39b-397009180d29"
      },
      "source": [
        "import numpy as np\n",
        "import time\n",
        "\n",
        "from sklearn.preprocessing import StandardScaler\n",
        "from sklearn.datasets import make_regression\n",
        "from sklearn.model_selection import train_test_split\n",
        "\n",
        "import tensorflow as tf\n",
        "import tensorflow_probability as tfp\n",
        "\n",
        "import matplotlib\n",
        "import matplotlib.pyplot as plt\n",
        "\n",
        "from gdrive.MyDrive.prior_learning.spectral_stein_grad.estimator import SpectralScoreEstimator\n",
        "from gdrive.MyDrive.prior_learning import data_utils\n",
        "from gdrive.MyDrive.prior_learning import prior_utils\n",
        "from gdrive.MyDrive.prior_learning import sliced_score_estimation\n",
        "\n",
        "tf.compat.v1.enable_eager_execution()\n"
      ],
      "execution_count": 3,
      "outputs": [
        {
          "output_type": "stream",
          "text": [
            "WARNING:tensorflow:From /usr/local/lib/python3.6/dist-packages/tensorflow/python/compat/v2_compat.py:96: disable_resource_variables (from tensorflow.python.ops.variable_scope) is deprecated and will be removed in a future version.\n",
            "Instructions for updating:\n",
            "non-resource variables are not supported in the long term\n"
          ],
          "name": "stdout"
        }
      ]
    },
    {
      "cell_type": "code",
      "metadata": {
        "colab": {
          "base_uri": "https://localhost:8080/"
        },
        "id": "jpyirMceU8rl",
        "outputId": "714f238c-330b-44d7-d813-b931a4347248"
      },
      "source": [
        "tf.executing_eagerly()"
      ],
      "execution_count": 4,
      "outputs": [
        {
          "output_type": "execute_result",
          "data": {
            "text/plain": [
              "True"
            ]
          },
          "metadata": {
            "tags": []
          },
          "execution_count": 4
        }
      ]
    },
    {
      "cell_type": "code",
      "metadata": {
        "colab": {
          "base_uri": "https://localhost:8080/"
        },
        "id": "exSRRJaSZHEA",
        "outputId": "e8147fe8-fded-4997-8177-ba06c3e53557"
      },
      "source": [
        "tf.config.list_physical_devices('GPU') "
      ],
      "execution_count": 5,
      "outputs": [
        {
          "output_type": "execute_result",
          "data": {
            "text/plain": [
              "[PhysicalDevice(name='/physical_device:GPU:0', device_type='GPU')]"
            ]
          },
          "metadata": {
            "tags": []
          },
          "execution_count": 5
        }
      ]
    },
    {
      "cell_type": "markdown",
      "metadata": {
        "id": "AtFYyye2Lq1G"
      },
      "source": [
        "## Building the dataset"
      ]
    },
    {
      "cell_type": "code",
      "metadata": {
        "id": "atKQhTcWGAYp"
      },
      "source": [
        "tasks_data = data_utils.GetSinusoidParams(task_count=10)"
      ],
      "execution_count": 6,
      "outputs": []
    },
    {
      "cell_type": "code",
      "metadata": {
        "id": "SC6KrF3DNlZG"
      },
      "source": [
        "config = {\n",
        "          'input_shape': 1,             # Shape of input data.\n",
        "          'size': 5,                    # Number of samples.  \n",
        "          'generation_method': 'sine',  # Generating process of the labels.\n",
        "          'tasks_data': tasks_data,     # Hyperparams for the sinusoids.\n",
        "}"
      ],
      "execution_count": 7,
      "outputs": []
    },
    {
      "cell_type": "code",
      "metadata": {
        "id": "-rX5LSt5Jgf_"
      },
      "source": [
        "X, y = data_utils.GetDataset(config)\n",
        "X = X[:, None]\n",
        "test_tasks_cnt = 1\n",
        "\n",
        "first_test_idx = len(X) - test_tasks_cnt * config['size']\n",
        "X_train, y_train = X[:first_test_idx], y[:first_test_idx]\n",
        "X_test, y_test = X[first_test_idx:], y[first_test_idx:]"
      ],
      "execution_count": 8,
      "outputs": []
    },
    {
      "cell_type": "code",
      "metadata": {
        "colab": {
          "base_uri": "https://localhost:8080/"
        },
        "id": "qAhcM4vPgZBE",
        "outputId": "704f3c8a-080e-4286-fad4-9f983664692c"
      },
      "source": [
        "X_train.shape, X_test.shape"
      ],
      "execution_count": 9,
      "outputs": [
        {
          "output_type": "execute_result",
          "data": {
            "text/plain": [
              "((45, 1), (5, 1))"
            ]
          },
          "metadata": {
            "tags": []
          },
          "execution_count": 9
        }
      ]
    },
    {
      "cell_type": "code",
      "metadata": {
        "id": "0WoIeHxbpzcX"
      },
      "source": [
        "scaler = StandardScaler().fit(X_train)"
      ],
      "execution_count": 10,
      "outputs": []
    },
    {
      "cell_type": "code",
      "metadata": {
        "id": "VQZtL6nxglLY"
      },
      "source": [
        "# Use the same scaler in order to ensure that we don't inject knowledge\n",
        "# about the test distribution in our training biases.\n",
        "X_train = scaler.transform(X_train)\n",
        "X_test = scaler.transform(X_test)"
      ],
      "execution_count": 11,
      "outputs": []
    },
    {
      "cell_type": "code",
      "metadata": {
        "colab": {
          "base_uri": "https://localhost:8080/",
          "height": 294
        },
        "id": "lIUpN7Vkwj8A",
        "outputId": "d674c81c-0eea-40df-847b-f15f5d4fc7d5"
      },
      "source": [
        "fig, (ax1, ax2) = plt.subplots(1, 2)\n",
        "fig.suptitle('Inputs Train/Test distributions')\n",
        "ax1.hist(X_train, bins=10)\n",
        "ax2.hist(X_test, bins=10)\n",
        "plt.show()"
      ],
      "execution_count": 12,
      "outputs": [
        {
          "output_type": "display_data",
          "data": {
            "image/png": "[encoded data removed]",
            "text/plain": [
              "<Figure size 432x288 with 2 Axes>"
            ]
          },
          "metadata": {
            "tags": [],
            "needs_background": "light"
          }
        }
      ]
    },
    {
      "cell_type": "code",
      "metadata": {
        "id": "3ldHY_xK2Y9O"
      },
      "source": [
        "# Scale both dataset by `y_train_max`. Same reasoning\n",
        "# as in using the same scaler on inputs. This is done to avoid\n",
        "# exploding gradients.\n",
        "y_train_max = y_train.max()\n",
        "y_train /= y_train_max\n",
        "y_test /= y_train_max"
      ],
      "execution_count": 13,
      "outputs": []
    },
    {
      "cell_type": "code",
      "metadata": {
        "colab": {
          "base_uri": "https://localhost:8080/",
          "height": 294
        },
        "id": "VEdTaSi9w5iC",
        "outputId": "c55937d1-eaa3-4e0c-d2a0-315b09d89f95"
      },
      "source": [
        "fig, (ax1, ax2) = plt.subplots(1, 2)\n",
        "fig.suptitle('Labels Train/Test distributions')\n",
        "ax1.hist(y_train, bins=100)\n",
        "ax2.hist(y_test, bins=100)\n",
        "plt.show()"
      ],
      "execution_count": 14,
      "outputs": [
        {
          "output_type": "display_data",
          "data": {
            "image/png": "[encoded data removed]",
            "text/plain": [
              "<Figure size 432x288 with 2 Axes>"
            ]
          },
          "metadata": {
            "tags": [],
            "needs_background": "light"
          }
        }
      ]
    },
    {
      "cell_type": "markdown",
      "metadata": {
        "id": "hUczRSqDrgyZ"
      },
      "source": [
        "## GP Prior Setup\n",
        "\n",
        "Train a $\\mathcal{GP}$ on the training data, so that we may later use the tuned kernel for estimating the covariance of a Normal distribution over function values (this shall be used as the prior in the `f-bnn` formulation below)."
      ]
    },
    {
      "cell_type": "code",
      "metadata": {
        "id": "R8reHpDqdZNH"
      },
      "source": [
        "# Pre-train GP prior.\n",
        "gp_prior, _ = prior_utils.TrainGPPrior(X_train, y_train)"
      ],
      "execution_count": 15,
      "outputs": []
    },
    {
      "cell_type": "markdown",
      "metadata": {
        "id": "Lp0sKmQh6O-i"
      },
      "source": [
        "## Sliced Score Estimator Setup (https://arxiv.org/pdf/1905.07088.pdf)\n",
        "\n",
        "Here we train a network $h(\\cdot, \\hat{\\theta})$ which minimizes the objective $\\mathbb{E}_{x \\sim \\mu} \\Vert h(x, \\hat{\\theta}) - \\nabla_x \\log p(x) \\Vert_{2}$ in an unsupervised way, where $\\mu$ is some unknown data generating process and $p := \\sum_i \\delta_{x_i}$ is an empirical measure represented as a set of particles."
      ]
    },
    {
      "cell_type": "code",
      "metadata": {
        "id": "0s1vAhNu75Ax"
      },
      "source": [
        "input_shape = (1,)\n",
        "score_net = tf.keras.Sequential([\n",
        "    tf.keras.Input(shape=input_shape, name='input'),\n",
        "    tf.keras.layers.Dense(10, activation='relu'),\n",
        "    tf.keras.layers.Dense(input_shape[0]),\n",
        "])\n",
        "\n",
        "config_slice_train = {'data': y_train[:, None],\n",
        "          'score_net': score_net,\n",
        "          'epochs': 100, \n",
        "          'lambda_reg': 0.15\n",
        "}"
      ],
      "execution_count": 16,
      "outputs": []
    },
    {
      "cell_type": "code",
      "metadata": {
        "colab": {
          "base_uri": "https://localhost:8080/"
        },
        "id": "yTktaqjF7TGu",
        "outputId": "467d83d4-5b1e-438c-c96b-646c212fefc4"
      },
      "source": [
        "score_net, best_loss = (\n",
        "    sliced_score_estimation.GetSlicedScoreEstimator(config_slice_train,\n",
        "                                                    verbose=True))"
      ],
      "execution_count": 17,
      "outputs": [
        {
          "output_type": "stream",
          "text": [
            "WARNING:tensorflow:Calling GradientTape.gradient on a persistent tape inside its context is significantly less efficient than calling it outside the context (it causes the gradient ops to be recorded on the tape, leading to increased CPU and memory usage). Only call GradientTape.gradient inside the context if you actually want to trace the gradient in order to compute higher order derivatives.\n",
            "Epoch [0], loss: [23.709580]\n",
            "Epoch [10], loss: [15.060834]\n",
            "Epoch [20], loss: [21.777864]\n",
            "Epoch [30], loss: [9.547924]\n",
            "Epoch [40], loss: [6.202498]\n",
            "Epoch [50], loss: [12.899797]\n",
            "Epoch [60], loss: [13.554813]\n",
            "Epoch [70], loss: [-2.276959]\n",
            "Epoch [80], loss: [5.535917]\n",
            "Epoch [90], loss: [3.880795]\n"
          ],
          "name": "stdout"
        }
      ]
    },
    {
      "cell_type": "markdown",
      "metadata": {
        "id": "CgDB6_SSLxOW"
      },
      "source": [
        "## Model setup"
      ]
    },
    {
      "cell_type": "code",
      "metadata": {
        "id": "UbS_6q1rNlwg"
      },
      "source": [
        "def ApproximateEntropyGrads(estimator, samples):\n",
        "  dlog_q = estimator.compute_gradients(samples)\n",
        "  surrogate = tf.reduce_mean(\n",
        "      tf.reduce_sum(\n",
        "          tf.stop_gradient(-dlog_q) * tf.cast(samples, tf.float64), -1))\n",
        "  return surrogate"
      ],
      "execution_count": 18,
      "outputs": []
    },
    {
      "cell_type": "code",
      "metadata": {
        "id": "n8cArXB4OtId"
      },
      "source": [
        "def InjectNoise(x, mean=0.0, std=1.0):\n",
        "  return x + np.random.normal(mean, std, size=x.shape)"
      ],
      "execution_count": 19,
      "outputs": []
    },
    {
      "cell_type": "code",
      "metadata": {
        "id": "D2P4aL4kLMMg"
      },
      "source": [
        "# Estimator to be used for computing score gradients of implicit distributions\n",
        "# represtend as sets of particles.\n",
        "estimator = SpectralScoreEstimator(n_eigen_threshold=0.99, eta=0.0)"
      ],
      "execution_count": 20,
      "outputs": []
    },
    {
      "cell_type": "code",
      "metadata": {
        "id": "gXbEKuDpL-L0"
      },
      "source": [
        "# TODO: Allow for customizable models.\n",
        "def _GetModel():\n",
        "  kl_divergence_function = (lambda q, p, _:\n",
        "                            tfp.distributions.kl_divergence(q, p) /\n",
        "                            tf.cast(len(X_train), dtype=tf.float32))\n",
        "\n",
        "  # Setup a feed forward BNN with 1 hidden layer.\n",
        "  model = tf.keras.Sequential([\n",
        "      tf.keras.Input(shape=X_train[0].shape,name='input'),\n",
        "      tfp.layers.DenseFlipout(10, kernel_divergence_fn=kl_divergence_function,\n",
        "                              activation=tf.nn.relu, name=\"dense_tfp_1\"),\n",
        "      tfp.layers.DenseFlipout(1,\n",
        "                              kernel_divergence_fn=kl_divergence_function,\n",
        "                              name=\"out_tfp_pred\"),\n",
        "  ])\n",
        "\n",
        "  return model"
      ],
      "execution_count": 21,
      "outputs": []
    },
    {
      "cell_type": "markdown",
      "metadata": {
        "id": "f37ZS9Fa1_N6"
      },
      "source": [
        "Reframing variational inference in the function space, we arrive at the following objective formulation [Sun et al., 2019]\n",
        "\n",
        "\\begin{equation}\n",
        " \\log p(\\mathcal{D} \\vert f) - \\lambda KL(q \\Vert p) \\hspace{0.5cm}(1)\n",
        "\\end{equation}\n",
        "\n",
        "where $q, p$ represent the posterior, and the prior over function values.\n",
        "\n",
        "Using the reparametrization trick, function values $f(x) \\sim q(\\cdot)$ are drawn from a parameterized neural net $g_\\phi(x ; \\xi)$. Here $\\phi$ denotes the set of optimizable parameters, while $\\xi$ is a random perturbation under which the change of variable is performed. Hence, drawing samples $f(x) \\sim q$ is done by forwarding $x$ through $g_\\phi(\\cdot ; \\xi)$.\n",
        "\n",
        "In order to obtain a feasible optimization procedure from $(1)$, the $KL$ divergence is then expanded as \n",
        "\n",
        "\\begin{equation}\n",
        " KL(q \\Vert p)  = \\mathbb{E}_{\\xi}[\\nabla_\\phi \\textbf{f} (\\nabla_\\textbf{f} \\log q(\\textbf{f}) - \\nabla_\\textbf{f}\\log p(\\textbf{f})  )] \\hspace{0.5cm}(2)\n",
        "\\end{equation}\n",
        "\n",
        "Note that the $KL$ term is made tractable by using SSGE [Shi et al., 2018] to extract gradients for the score functions, since both $q(\\cdot), p(\\cdot)$ are both implicit distributions represented as particles."
      ]
    },
    {
      "cell_type": "code",
      "metadata": {
        "id": "17AdJLvodP8K"
      },
      "source": [
        "def SamplePosterior(variational_posterior, n_particles, x):\n",
        "  return np.stack([variational_posterior(x) for _ in range(n_particles)])"
      ],
      "execution_count": 22,
      "outputs": []
    },
    {
      "cell_type": "code",
      "metadata": {
        "colab": {
          "base_uri": "https://localhost:8080/"
        },
        "id": "ZususzjfNJma",
        "outputId": "019250c8-4ad6-466a-a2f7-7aadf1172d93"
      },
      "source": [
        "model = _GetModel()\n",
        "\n",
        "epochs = 5\n",
        "loss_fn = tf.keras.losses.MeanSquaredError()\n",
        "optimizer = tf.keras.optimizers.Adam(0.001)\n",
        "n_particles = 10\n",
        "\n",
        "train_acc_metric = tf.keras.metrics.MeanAbsoluteError()\n",
        "val_acc_metric = tf.keras.metrics.MeanAbsoluteError()\n",
        "\n",
        "# The real targets are the true prior.\n",
        "prior_particles = np.copy(y_train)\n",
        "if len(prior_particles.shape) == 2:\n",
        "  prior_particles = np.squeeze(prior_particles, -1)\n",
        "\n",
        "# If this is disabled the model disregards the KL term and simply optimizes\n",
        "# the likelihood of the targets.\n",
        "use_functional_kl = True\n",
        "lambda_kl = 1.0\n",
        "\n",
        "# Configs used as arguments for the `ComputeCrossEntropy` function, which\n",
        "# will be used for computing the log_prior gradients (or approximate gradients).\n",
        "configs = {\n",
        "  'gp': {'method': 'gp',  'kernel_function': gp_prior.kernel, 'x': X_train},\n",
        "\n",
        "  'ssge': {'method': 'ssge', 'estimator': estimator,\n",
        "           'n_particles': n_particles, 'prior_particles': prior_particles},\n",
        "\n",
        "  'sliced_score_estimation': {'method': 'sliced', \n",
        "                              'score_estimator': score_net},\n",
        "}\n",
        "\n",
        "# If 'gp' is chosen here, then the prior will be represented exactly as a GP.\n",
        "# Otherwise, we will use the ground truth particles as an empirical measure\n",
        "# and compute approximate gradients with either {SSGE, SSM}.\n",
        "method = 'sliced_score_estimation'\n",
        "print('Using %s to represent the prior. \\n' % method)\n",
        "\n",
        "for epoch in range(epochs):\n",
        "    start_time = time.time()\n",
        "    with tf.GradientTape() as tape:\n",
        "        logits = model(X_train, training=True)\n",
        "        \n",
        "        # Considering a Gaussian likelihood model, with unit variance.\n",
        "        neg_log_likelihood = loss_fn(y_train, logits)\n",
        "        loss_value = neg_log_likelihood \n",
        "      \n",
        "        if use_functional_kl:\n",
        "          # Use SSGE to approximate the log gradients of the functional\n",
        "          # posterior given the 'drawn' samples from the neural net.\n",
        "          # See Equation (2).\n",
        "          noisy_logits = SamplePosterior(model, n_particles, X_train)\n",
        "          noisy_logits += np.random.normal(0, 1, size=noisy_logits.shape)\n",
        "          entropy_sur = ApproximateEntropyGrads(estimator, noisy_logits)\n",
        "        \n",
        "          if 'gp' in method:\n",
        "            configs[method]['y'] = noisy_logits.squeeze(2)\n",
        "          elif 'ssge' in method:\n",
        "            configs[method]['y'] = noisy_logits\n",
        "          elif 'score' in method:\n",
        "            configs[method]['y'] = noisy_logits.reshape(\n",
        "                n_particles *  len(y_train), -1)\n",
        "            \n",
        "          cross_entropy_sur = prior_utils.ComputeCrossEntropy(configs[method])\n",
        "          \n",
        "          # Add these up to produce the KL term to be optimized.\n",
        "          functional_kl = (tf.cast(entropy_sur, tf.float32) -\n",
        "                           tf.cast(cross_entropy_sur, tf.float32))\n",
        "          loss_value += lambda_kl * functional_kl / len(X_train)\n",
        "\n",
        "    grads = tape.gradient(loss_value, model.trainable_weights)\n",
        "    optimizer.apply_gradients(zip(grads, model.trainable_weights))\n",
        "    train_acc_metric.update_state(y_train, logits)\n",
        "   \n",
        "    if epoch % 5 == 0:\n",
        "    \ttrain_acc = train_acc_metric.result()\n",
        "    \tprint(\"Negative log likelihood over epoch [%d]: %.4f\" % \n",
        "           (epoch, float(neg_log_likelihood,)))\n",
        "\n",
        "    train_acc_metric.reset_states()\n",
        "\n",
        "    # Results on validation dataset.\n",
        "    val_logits = model(X_test, training=False)\n",
        "    val_acc_metric.update_state(y_test, val_logits)\n",
        "\n",
        "    val_acc = val_acc_metric.result()\n",
        "    val_acc_metric.reset_states()\n",
        "    print(\"Validation negative log likelihood: %.4f\" % (float(val_acc),))\n",
        "    print(\"Time taken: %.2fs\" % (time.time() - start_time))\n",
        "    print()"
      ],
      "execution_count": 42,
      "outputs": [
        {
          "output_type": "stream",
          "text": [
            "/usr/local/lib/python3.6/dist-packages/tensorflow/python/keras/engine/base_layer.py:2281: UserWarning: `layer.add_variable` is deprecated and will be removed in a future version. Please use `layer.add_weight` method instead.\n",
            "  warnings.warn('`layer.add_variable` is deprecated and '\n"
          ],
          "name": "stderr"
        },
        {
          "output_type": "stream",
          "text": [
            "Using sliced_score_estimation to represent the prior. \n",
            "\n",
            "Negative log likelihood over epoch [0]: 0.3657\n",
            "Validation negative log likelihood: 0.2992\n",
            "Time taken: 0.22s\n",
            "\n",
            "Validation negative log likelihood: 0.2923\n",
            "Time taken: 0.20s\n",
            "\n",
            "Validation negative log likelihood: 0.2898\n",
            "Time taken: 0.20s\n",
            "\n",
            "Validation negative log likelihood: 0.2907\n",
            "Time taken: 0.19s\n",
            "\n",
            "Validation negative log likelihood: 0.3038\n",
            "Time taken: 0.20s\n",
            "\n"
          ],
          "name": "stdout"
        }
      ]
    },
    {
      "cell_type": "code",
      "metadata": {
        "colab": {
          "base_uri": "https://localhost:8080/",
          "height": 302
        },
        "id": "4XswtGczNRv5",
        "outputId": "308cd54f-bccb-466a-bbaa-4555801bd97f"
      },
      "source": [
        "plt.plot(model.predict(X_test))\n",
        "plt.plot(y_test)\n",
        "\n",
        "plt.legend(['Prediction', 'Ground Truth'], loc='upper left')\n",
        "plt.show()"
      ],
      "execution_count": 43,
      "outputs": [
        {
          "output_type": "stream",
          "text": [
            "WARNING:tensorflow:5 out of the last 5 calls to <function Model.make_predict_function.<locals>.predict_function at 0x7f2f2b668268> triggered tf.function retracing. Tracing is expensive and the excessive number of tracings could be due to (1) creating @tf.function repeatedly in a loop, (2) passing tensors with different shapes, (3) passing Python objects instead of tensors. For (1), please define your @tf.function outside of the loop. For (2), @tf.function has experimental_relax_shapes=True option that relaxes argument shapes that can avoid unnecessary retracing. For (3), please refer to https://www.tensorflow.org/guide/function#controlling_retracing and https://www.tensorflow.org/api_docs/python/tf/function for  more details.\n"
          ],
          "name": "stdout"
        },
        {
          "output_type": "display_data",
          "data": {
            "image/png": "[encoded data removed]",
            "text/plain": [
              "<Figure size 432x288 with 1 Axes>"
            ]
          },
          "metadata": {
            "tags": [],
            "needs_background": "light"
          }
        }
      ]
    }
  ]
}