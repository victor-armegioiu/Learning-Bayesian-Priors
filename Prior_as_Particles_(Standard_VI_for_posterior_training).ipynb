{
  "nbformat": 4,
  "nbformat_minor": 0,
  "metadata": {
    "accelerator": "GPU",
    "colab": {
      "name": "Prior as Particles (Standard VI for posterior training).ipynb",
      "provenance": [],
      "collapsed_sections": [],
      "toc_visible": true,
      "authorship_tag": "ABX9TyM+wbyyVACnYyCUfEF1Pysx",
      "include_colab_link": true
    },
    "kernelspec": {
      "display_name": "Python 3",
      "name": "python3"
    }
  },
  "cells": [
    {
      "cell_type": "markdown",
      "metadata": {
        "id": "view-in-github",
        "colab_type": "text"
      },
      "source": [
        "<a href=\"https://colab.research.google.com/github/victor-armegioiu/Learning-Bayesian-Priors/blob/main/Prior_as_Particles_(Standard_VI_for_posterior_training).ipynb\" target=\"_parent\"><img src=\"https://colab.research.google.com/assets/colab-badge.svg\" alt=\"Open In Colab\"/></a>"
      ]
    },
    {
      "cell_type": "markdown",
      "metadata": {
        "id": "Ttj1NMzeLb7l"
      },
      "source": [
        "# Better priors represented as particles"
      ]
    },
    {
      "cell_type": "markdown",
      "metadata": {
        "id": "3HNFtn3JLmBv"
      },
      "source": [
        "## Setup "
      ]
    },
    {
      "cell_type": "code",
      "metadata": {
        "colab": {
          "base_uri": "https://localhost:8080/"
        },
        "id": "emnY7qQ_D27i",
        "outputId": "27c73898-6532-445f-beb1-3bc3d5875422"
      },
      "source": [
        "from google.colab import drive\n",
        "drive.mount('/content/gdrive')"
      ],
      "execution_count": 5,
      "outputs": [
        {
          "output_type": "stream",
          "text": [
            "Drive already mounted at /content/gdrive; to attempt to forcibly remount, call drive.mount(\"/content/gdrive\", force_remount=True).\n"
          ],
          "name": "stdout"
        }
      ]
    },
    {
      "cell_type": "code",
      "metadata": {
        "id": "fDhq3YG2Lh57",
        "colab": {
          "base_uri": "https://localhost:8080/"
        },
        "outputId": "668a7536-29c2-437b-809b-4cde4f82f30d"
      },
      "source": [
        "# gpflow doesn't come preloaded with colab.\n",
        "!pip3 install gpflow"
      ],
      "execution_count": 6,
      "outputs": [
        {
          "output_type": "stream",
          "text": [
            "Requirement already satisfied: gpflow in /usr/local/lib/python3.6/dist-packages (2.1.4)\n",
            "Requirement already satisfied: dataclasses in /usr/local/lib/python3.6/dist-packages (from gpflow) (0.8)\n",
            "Requirement already satisfied: scipy in /usr/local/lib/python3.6/dist-packages (from gpflow) (1.4.1)\n",
            "Requirement already satisfied: setuptools>=41.0.0 in /usr/local/lib/python3.6/dist-packages (from gpflow) (53.0.0)\n",
            "Requirement already satisfied: packaging in /usr/local/lib/python3.6/dist-packages (from gpflow) (20.9)\n",
            "Requirement already satisfied: numpy in /usr/local/lib/python3.6/dist-packages (from gpflow) (1.19.5)\n",
            "Requirement already satisfied: multipledispatch>=0.6 in /usr/local/lib/python3.6/dist-packages (from gpflow) (0.6.0)\n",
            "Requirement already satisfied: tabulate in /usr/local/lib/python3.6/dist-packages (from gpflow) (0.8.7)\n",
            "Requirement already satisfied: typing-extensions in /usr/local/lib/python3.6/dist-packages (from gpflow) (3.7.4.3)\n",
            "Requirement already satisfied: tensorflow>=2.1.0 in /usr/local/lib/python3.6/dist-packages (from gpflow) (2.4.1)\n",
            "Requirement already satisfied: tensorflow-probability>0.10.0 in /usr/local/lib/python3.6/dist-packages (from gpflow) (0.12.1)\n",
            "Requirement already satisfied: pyparsing>=2.0.2 in /usr/local/lib/python3.6/dist-packages (from packaging->gpflow) (2.4.7)\n",
            "Requirement already satisfied: six in /usr/local/lib/python3.6/dist-packages (from multipledispatch>=0.6->gpflow) (1.15.0)\n",
            "Requirement already satisfied: h5py~=2.10.0 in /usr/local/lib/python3.6/dist-packages (from tensorflow>=2.1.0->gpflow) (2.10.0)\n",
            "Requirement already satisfied: termcolor~=1.1.0 in /usr/local/lib/python3.6/dist-packages (from tensorflow>=2.1.0->gpflow) (1.1.0)\n",
            "Requirement already satisfied: protobuf>=3.9.2 in /usr/local/lib/python3.6/dist-packages (from tensorflow>=2.1.0->gpflow) (3.12.4)\n",
            "Requirement already satisfied: wrapt~=1.12.1 in /usr/local/lib/python3.6/dist-packages (from tensorflow>=2.1.0->gpflow) (1.12.1)\n",
            "Requirement already satisfied: tensorflow-estimator<2.5.0,>=2.4.0 in /usr/local/lib/python3.6/dist-packages (from tensorflow>=2.1.0->gpflow) (2.4.0)\n",
            "Requirement already satisfied: opt-einsum~=3.3.0 in /usr/local/lib/python3.6/dist-packages (from tensorflow>=2.1.0->gpflow) (3.3.0)\n",
            "Requirement already satisfied: wheel~=0.35 in /usr/local/lib/python3.6/dist-packages (from tensorflow>=2.1.0->gpflow) (0.36.2)\n",
            "Requirement already satisfied: flatbuffers~=1.12.0 in /usr/local/lib/python3.6/dist-packages (from tensorflow>=2.1.0->gpflow) (1.12)\n",
            "Requirement already satisfied: keras-preprocessing~=1.1.2 in /usr/local/lib/python3.6/dist-packages (from tensorflow>=2.1.0->gpflow) (1.1.2)\n",
            "Requirement already satisfied: astunparse~=1.6.3 in /usr/local/lib/python3.6/dist-packages (from tensorflow>=2.1.0->gpflow) (1.6.3)\n",
            "Requirement already satisfied: tensorboard~=2.4 in /usr/local/lib/python3.6/dist-packages (from tensorflow>=2.1.0->gpflow) (2.4.1)\n",
            "Requirement already satisfied: gast==0.3.3 in /usr/local/lib/python3.6/dist-packages (from tensorflow>=2.1.0->gpflow) (0.3.3)\n",
            "Requirement already satisfied: grpcio~=1.32.0 in /usr/local/lib/python3.6/dist-packages (from tensorflow>=2.1.0->gpflow) (1.32.0)\n",
            "Requirement already satisfied: google-pasta~=0.2 in /usr/local/lib/python3.6/dist-packages (from tensorflow>=2.1.0->gpflow) (0.2.0)\n",
            "Requirement already satisfied: absl-py~=0.10 in /usr/local/lib/python3.6/dist-packages (from tensorflow>=2.1.0->gpflow) (0.10.0)\n",
            "Requirement already satisfied: decorator in /usr/local/lib/python3.6/dist-packages (from tensorflow-probability>0.10.0->gpflow) (4.4.2)\n",
            "Requirement already satisfied: cloudpickle>=1.3 in /usr/local/lib/python3.6/dist-packages (from tensorflow-probability>0.10.0->gpflow) (1.3.0)\n",
            "Requirement already satisfied: dm-tree in /usr/local/lib/python3.6/dist-packages (from tensorflow-probability>0.10.0->gpflow) (0.1.5)\n",
            "Requirement already satisfied: google-auth<2,>=1.6.3 in /usr/local/lib/python3.6/dist-packages (from tensorboard~=2.4->tensorflow>=2.1.0->gpflow) (1.25.0)\n",
            "Requirement already satisfied: google-auth-oauthlib<0.5,>=0.4.1 in /usr/local/lib/python3.6/dist-packages (from tensorboard~=2.4->tensorflow>=2.1.0->gpflow) (0.4.2)\n",
            "Requirement already satisfied: tensorboard-plugin-wit>=1.6.0 in /usr/local/lib/python3.6/dist-packages (from tensorboard~=2.4->tensorflow>=2.1.0->gpflow) (1.8.0)\n",
            "Requirement already satisfied: requests<3,>=2.21.0 in /usr/local/lib/python3.6/dist-packages (from tensorboard~=2.4->tensorflow>=2.1.0->gpflow) (2.23.0)\n",
            "Requirement already satisfied: markdown>=2.6.8 in /usr/local/lib/python3.6/dist-packages (from tensorboard~=2.4->tensorflow>=2.1.0->gpflow) (3.3.3)\n",
            "Requirement already satisfied: werkzeug>=0.11.15 in /usr/local/lib/python3.6/dist-packages (from tensorboard~=2.4->tensorflow>=2.1.0->gpflow) (1.0.1)\n",
            "Requirement already satisfied: pyasn1-modules>=0.2.1 in /usr/local/lib/python3.6/dist-packages (from google-auth<2,>=1.6.3->tensorboard~=2.4->tensorflow>=2.1.0->gpflow) (0.2.8)\n",
            "Requirement already satisfied: cachetools<5.0,>=2.0.0 in /usr/local/lib/python3.6/dist-packages (from google-auth<2,>=1.6.3->tensorboard~=2.4->tensorflow>=2.1.0->gpflow) (4.2.1)\n",
            "Requirement already satisfied: rsa<5,>=3.1.4; python_version >= \"3.6\" in /usr/local/lib/python3.6/dist-packages (from google-auth<2,>=1.6.3->tensorboard~=2.4->tensorflow>=2.1.0->gpflow) (4.7)\n",
            "Requirement already satisfied: requests-oauthlib>=0.7.0 in /usr/local/lib/python3.6/dist-packages (from google-auth-oauthlib<0.5,>=0.4.1->tensorboard~=2.4->tensorflow>=2.1.0->gpflow) (1.3.0)\n",
            "Requirement already satisfied: urllib3!=1.25.0,!=1.25.1,<1.26,>=1.21.1 in /usr/local/lib/python3.6/dist-packages (from requests<3,>=2.21.0->tensorboard~=2.4->tensorflow>=2.1.0->gpflow) (1.24.3)\n",
            "Requirement already satisfied: certifi>=2017.4.17 in /usr/local/lib/python3.6/dist-packages (from requests<3,>=2.21.0->tensorboard~=2.4->tensorflow>=2.1.0->gpflow) (2020.12.5)\n",
            "Requirement already satisfied: chardet<4,>=3.0.2 in /usr/local/lib/python3.6/dist-packages (from requests<3,>=2.21.0->tensorboard~=2.4->tensorflow>=2.1.0->gpflow) (3.0.4)\n",
            "Requirement already satisfied: idna<3,>=2.5 in /usr/local/lib/python3.6/dist-packages (from requests<3,>=2.21.0->tensorboard~=2.4->tensorflow>=2.1.0->gpflow) (2.10)\n",
            "Requirement already satisfied: importlib-metadata; python_version < \"3.8\" in /usr/local/lib/python3.6/dist-packages (from markdown>=2.6.8->tensorboard~=2.4->tensorflow>=2.1.0->gpflow) (3.4.0)\n",
            "Requirement already satisfied: pyasn1<0.5.0,>=0.4.6 in /usr/local/lib/python3.6/dist-packages (from pyasn1-modules>=0.2.1->google-auth<2,>=1.6.3->tensorboard~=2.4->tensorflow>=2.1.0->gpflow) (0.4.8)\n",
            "Requirement already satisfied: oauthlib>=3.0.0 in /usr/local/lib/python3.6/dist-packages (from requests-oauthlib>=0.7.0->google-auth-oauthlib<0.5,>=0.4.1->tensorboard~=2.4->tensorflow>=2.1.0->gpflow) (3.1.0)\n",
            "Requirement already satisfied: zipp>=0.5 in /usr/local/lib/python3.6/dist-packages (from importlib-metadata; python_version < \"3.8\"->markdown>=2.6.8->tensorboard~=2.4->tensorflow>=2.1.0->gpflow) (3.4.0)\n"
          ],
          "name": "stdout"
        }
      ]
    },
    {
      "cell_type": "code",
      "metadata": {
        "id": "Ks43pRGGFeLZ",
        "colab": {
          "base_uri": "https://localhost:8080/"
        },
        "outputId": "1b5388a3-e93a-4fc3-e2bd-a8ff942cea62"
      },
      "source": [
        "import numpy as np\n",
        "import time\n",
        "\n",
        "from sklearn.preprocessing import StandardScaler\n",
        "from sklearn.datasets import make_regression\n",
        "from sklearn.model_selection import train_test_split\n",
        "\n",
        "import tensorflow as tf\n",
        "import tensorflow_probability as tfp\n",
        "\n",
        "import matplotlib\n",
        "import matplotlib.pyplot as plt\n",
        "\n",
        "from gdrive.MyDrive.prior_learning.spectral_stein_grad.estimator import SpectralScoreEstimator\n",
        "from gdrive.MyDrive.prior_learning import data_utils\n",
        "from gdrive.MyDrive.prior_learning import prior_utils\n",
        "from gdrive.MyDrive.prior_learning import sliced_score_estimation\n",
        "\n",
        "tf.compat.v1.enable_eager_execution()\n"
      ],
      "execution_count": 7,
      "outputs": [
        {
          "output_type": "stream",
          "text": [
            "WARNING:tensorflow:From /usr/local/lib/python3.6/dist-packages/tensorflow/python/compat/v2_compat.py:96: disable_resource_variables (from tensorflow.python.ops.variable_scope) is deprecated and will be removed in a future version.\n",
            "Instructions for updating:\n",
            "non-resource variables are not supported in the long term\n"
          ],
          "name": "stdout"
        }
      ]
    },
    {
      "cell_type": "code",
      "metadata": {
        "colab": {
          "base_uri": "https://localhost:8080/"
        },
        "id": "jpyirMceU8rl",
        "outputId": "40e61e03-2a25-4cc9-9a1c-dfcf65a6d2d6"
      },
      "source": [
        "tf.executing_eagerly()"
      ],
      "execution_count": 8,
      "outputs": [
        {
          "output_type": "execute_result",
          "data": {
            "text/plain": [
              "True"
            ]
          },
          "metadata": {
            "tags": []
          },
          "execution_count": 8
        }
      ]
    },
    {
      "cell_type": "code",
      "metadata": {
        "colab": {
          "base_uri": "https://localhost:8080/"
        },
        "id": "exSRRJaSZHEA",
        "outputId": "1a9bdff0-267e-4ea6-97d4-6e8d7b67824b"
      },
      "source": [
        "tf.config.list_physical_devices('GPU') "
      ],
      "execution_count": 9,
      "outputs": [
        {
          "output_type": "execute_result",
          "data": {
            "text/plain": [
              "[PhysicalDevice(name='/physical_device:GPU:0', device_type='GPU')]"
            ]
          },
          "metadata": {
            "tags": []
          },
          "execution_count": 9
        }
      ]
    },
    {
      "cell_type": "markdown",
      "metadata": {
        "id": "AtFYyye2Lq1G"
      },
      "source": [
        "## Building the dataset"
      ]
    },
    {
      "cell_type": "code",
      "metadata": {
        "id": "atKQhTcWGAYp"
      },
      "source": [
        "task_count = 10\n",
        "tasks_data = data_utils.GetSinusoidParams(task_count)"
      ],
      "execution_count": 10,
      "outputs": []
    },
    {
      "cell_type": "code",
      "metadata": {
        "id": "SC6KrF3DNlZG"
      },
      "source": [
        "config = {\n",
        "          'input_shape': 1,             # Shape of input data.\n",
        "          'size': 5,                    # Number of samples per task.  \n",
        "          'generation_method': 'sine',  # Generating process of the labels.\n",
        "          'tasks_data': tasks_data,     # Hyperparams for the sinusoids.\n",
        "}"
      ],
      "execution_count": 11,
      "outputs": []
    },
    {
      "cell_type": "code",
      "metadata": {
        "id": "-rX5LSt5Jgf_"
      },
      "source": [
        "X, y = data_utils.GetDataset(config)\n",
        "X = X[:, None]\n",
        "test_tasks_cnt = 1\n",
        "\n",
        "first_test_idx = len(X) - test_tasks_cnt * config['size']\n",
        "X_train, y_train = X[:first_test_idx], y[:first_test_idx]\n",
        "X_test, y_test = X[first_test_idx:], y[first_test_idx:]"
      ],
      "execution_count": 12,
      "outputs": []
    },
    {
      "cell_type": "code",
      "metadata": {
        "colab": {
          "base_uri": "https://localhost:8080/"
        },
        "id": "qAhcM4vPgZBE",
        "outputId": "c8db738e-e9d1-44bd-c0fd-d0edfd0c7f30"
      },
      "source": [
        "X_train.shape, X_test.shape"
      ],
      "execution_count": 13,
      "outputs": [
        {
          "output_type": "execute_result",
          "data": {
            "text/plain": [
              "((45, 1), (5, 1))"
            ]
          },
          "metadata": {
            "tags": []
          },
          "execution_count": 13
        }
      ]
    },
    {
      "cell_type": "code",
      "metadata": {
        "id": "0WoIeHxbpzcX"
      },
      "source": [
        "scaler = StandardScaler().fit(X_train)"
      ],
      "execution_count": 14,
      "outputs": []
    },
    {
      "cell_type": "code",
      "metadata": {
        "id": "VQZtL6nxglLY"
      },
      "source": [
        "# Use the same scaler in order to ensure that we don't inject knowledge\n",
        "# about the test distribution in our training biases.\n",
        "X_train = scaler.transform(X_train)\n",
        "X_test = scaler.transform(X_test)"
      ],
      "execution_count": 15,
      "outputs": []
    },
    {
      "cell_type": "code",
      "metadata": {
        "colab": {
          "base_uri": "https://localhost:8080/",
          "height": 294
        },
        "id": "lIUpN7Vkwj8A",
        "outputId": "4e1123a4-b7bb-4612-f101-1789f10eda11"
      },
      "source": [
        "fig, (ax1, ax2) = plt.subplots(1, 2)\n",
        "fig.suptitle('Inputs Train/Test distributions')\n",
        "ax1.hist(X_train, bins=10)\n",
        "ax2.hist(X_test, bins=10)\n",
        "plt.show()"
      ],
      "execution_count": 16,
      "outputs": [
        {
          "output_type": "display_data",
          "data": {
            "image/png": "[encoded data removed]",
            "text/plain": [
              "<Figure size 432x288 with 2 Axes>"
            ]
          },
          "metadata": {
            "tags": [],
            "needs_background": "light"
          }
        }
      ]
    },
    {
      "cell_type": "code",
      "metadata": {
        "id": "3ldHY_xK2Y9O"
      },
      "source": [
        "# Scale both dataset by `y_train_max`. Same reasoning\n",
        "# as in using the same scaler on inputs. This is done to avoid\n",
        "# exploding gradients.\n",
        "y_train_max = y_train.max()\n",
        "y_train /= y_train_max\n",
        "y_test /= y_train_max"
      ],
      "execution_count": 17,
      "outputs": []
    },
    {
      "cell_type": "code",
      "metadata": {
        "colab": {
          "base_uri": "https://localhost:8080/",
          "height": 294
        },
        "id": "VEdTaSi9w5iC",
        "outputId": "f9e1b276-8077-48fd-d643-46cd8b1ca011"
      },
      "source": [
        "fig, (ax1, ax2) = plt.subplots(1, 2)\n",
        "fig.suptitle('Labels Train/Test distributions')\n",
        "ax1.hist(y_train, bins=100)\n",
        "ax2.hist(y_test, bins=100)\n",
        "plt.show()"
      ],
      "execution_count": 18,
      "outputs": [
        {
          "output_type": "display_data",
          "data": {
            "image/png": "[encoded data removed]",
            "text/plain": [
              "<Figure size 432x288 with 2 Axes>"
            ]
          },
          "metadata": {
            "tags": [],
            "needs_background": "light"
          }
        }
      ]
    },
    {
      "cell_type": "markdown",
      "metadata": {
        "id": "hUczRSqDrgyZ"
      },
      "source": [
        "## GP Prior Setup\n",
        "\n",
        "Train a $\\mathcal{GP}$ on the training data, so that we may later use the tuned kernel for estimating the covariance of a Normal distribution over function values (this shall be used as the prior in the `f-bnn` formulation below)."
      ]
    },
    {
      "cell_type": "code",
      "metadata": {
        "id": "R8reHpDqdZNH"
      },
      "source": [
        "# Pre-train GP prior.\n",
        "gp_prior, _ = prior_utils.TrainGPPrior(X_train, y_train)"
      ],
      "execution_count": 19,
      "outputs": []
    },
    {
      "cell_type": "markdown",
      "metadata": {
        "id": "Lp0sKmQh6O-i"
      },
      "source": [
        "## Sliced Score Estimator Setup (https://arxiv.org/pdf/1905.07088.pdf)\n",
        "\n",
        "Here we train a network $h(\\cdot, \\hat{\\theta})$ which minimizes the objective $\\mathbb{E}_{x \\sim \\mu} \\Vert h(x, \\hat{\\theta}) - \\nabla_x \\log p(x) \\Vert_{2}$ in an unsupervised way, where $\\mu$ is some unknown data generating process and $p := \\sum_i \\delta_{x_i}$ is an empirical measure represented as a set of particles."
      ]
    },
    {
      "cell_type": "code",
      "metadata": {
        "id": "0s1vAhNu75Ax"
      },
      "source": [
        "input_shape = (1,)\n",
        "score_net = tf.keras.Sequential([\n",
        "    tf.keras.Input(shape=input_shape, name='input'),\n",
        "    tf.keras.layers.Dense(10, activation='relu'),\n",
        "    tf.keras.layers.Dense(input_shape[0]),\n",
        "])\n",
        "\n",
        "config_slice_train = {'data': y_train[:, None],\n",
        "          'score_net': score_net,\n",
        "          'epochs': 100, \n",
        "          'lambda_reg': 0.15\n",
        "}"
      ],
      "execution_count": 20,
      "outputs": []
    },
    {
      "cell_type": "code",
      "metadata": {
        "colab": {
          "base_uri": "https://localhost:8080/"
        },
        "id": "yTktaqjF7TGu",
        "outputId": "4ec6a86b-e164-4771-f3cc-5ba90b784906"
      },
      "source": [
        "score_net, best_loss = (\n",
        "    sliced_score_estimation.GetSlicedScoreEstimator(config_slice_train,\n",
        "                                                    verbose=True))"
      ],
      "execution_count": 21,
      "outputs": [
        {
          "output_type": "stream",
          "text": [
            "WARNING:tensorflow:Calling GradientTape.gradient on a persistent tape inside its context is significantly less efficient than calling it outside the context (it causes the gradient ops to be recorded on the tape, leading to increased CPU and memory usage). Only call GradientTape.gradient inside the context if you actually want to trace the gradient in order to compute higher order derivatives.\n",
            "Epoch [0], loss: [9.030468]\n",
            "Epoch [10], loss: [-0.925764]\n",
            "Epoch [20], loss: [6.117359]\n",
            "Epoch [30], loss: [1.609893]\n",
            "Epoch [40], loss: [-4.195779]\n",
            "Epoch [50], loss: [1.854404]\n",
            "Epoch [60], loss: [-3.677277]\n",
            "Epoch [70], loss: [-7.512081]\n",
            "Epoch [80], loss: [3.698197]\n",
            "Epoch [90], loss: [-3.291398]\n"
          ],
          "name": "stdout"
        }
      ]
    },
    {
      "cell_type": "markdown",
      "metadata": {
        "id": "CgDB6_SSLxOW"
      },
      "source": [
        "## Model setup"
      ]
    },
    {
      "cell_type": "code",
      "metadata": {
        "id": "UbS_6q1rNlwg"
      },
      "source": [
        "def ApproximateEntropyGrads(estimator, samples):\n",
        "  dlog_q = estimator.compute_gradients(samples)\n",
        "  surrogate = tf.reduce_mean(\n",
        "      tf.reduce_sum(\n",
        "          tf.stop_gradient(-dlog_q) * tf.cast(samples, tf.float64), -1))\n",
        "  return surrogate"
      ],
      "execution_count": 22,
      "outputs": []
    },
    {
      "cell_type": "code",
      "metadata": {
        "id": "n8cArXB4OtId"
      },
      "source": [
        "def InjectNoise(x, mean=0.0, std=1.0):\n",
        "  return x + np.random.normal(mean, std, size=x.shape)"
      ],
      "execution_count": 23,
      "outputs": []
    },
    {
      "cell_type": "code",
      "metadata": {
        "id": "D2P4aL4kLMMg"
      },
      "source": [
        "# Estimator to be used for computing score gradients of implicit distributions\n",
        "# represtend as sets of particles.\n",
        "estimator = SpectralScoreEstimator(n_eigen_threshold=0.99, eta=0.0)"
      ],
      "execution_count": 24,
      "outputs": []
    },
    {
      "cell_type": "code",
      "metadata": {
        "id": "gXbEKuDpL-L0"
      },
      "source": [
        "# TODO: Allow for customizable models.\n",
        "def _GetModel():\n",
        "  kl_divergence_function = (lambda q, p, _:\n",
        "                            tfp.distributions.kl_divergence(q, p) /\n",
        "                            tf.cast(len(X_train), dtype=tf.float32))\n",
        "\n",
        "  # Setup a feed forward BNN with 1 hidden layer.\n",
        "  model = tf.keras.Sequential([\n",
        "      tf.keras.Input(shape=X_train[0].shape,name='input'),\n",
        "      tfp.layers.DenseFlipout(10, kernel_divergence_fn=kl_divergence_function,\n",
        "                              activation=tf.nn.relu, name=\"dense_tfp_1\"),\n",
        "      tfp.layers.DenseFlipout(1,\n",
        "                              kernel_divergence_fn=kl_divergence_function,\n",
        "                              name=\"out_tfp_pred\"),\n",
        "  ])\n",
        "\n",
        "  return model"
      ],
      "execution_count": 25,
      "outputs": []
    },
    {
      "cell_type": "markdown",
      "metadata": {
        "id": "f37ZS9Fa1_N6"
      },
      "source": [
        "Reframing variational inference in the function space, we arrive at the following objective formulation [Sun et al., 2019]\n",
        "\n",
        "\\begin{equation}\n",
        " \\log p(\\mathcal{D} \\vert f) - \\lambda KL(q \\Vert p) \\hspace{0.5cm}(1)\n",
        "\\end{equation}\n",
        "\n",
        "where $q, p$ represent the posterior, and the prior over function values.\n",
        "\n",
        "Using the reparametrization trick, function values $f(x) \\sim q(\\cdot)$ are drawn from a parameterized neural net $g_\\phi(x ; \\xi)$. Here $\\phi$ denotes the set of optimizable parameters, while $\\xi$ is a random perturbation under which the change of variable is performed. Hence, drawing samples $f(x) \\sim q$ is done by forwarding $x$ through $g_\\phi(\\cdot ; \\xi)$.\n",
        "\n",
        "In order to obtain a feasible optimization procedure from $(1)$, the $KL$ divergence is then expanded as \n",
        "\n",
        "\\begin{equation}\n",
        " KL(q \\Vert p)  = \\mathbb{E}_{\\xi}[\\nabla_\\phi \\textbf{f} (\\nabla_\\textbf{f} \\log q(\\textbf{f}) - \\nabla_\\textbf{f}\\log p(\\textbf{f})  )] \\hspace{0.5cm}(2)\n",
        "\\end{equation}\n",
        "\n",
        "Note that the $KL$ term is made tractable by using SSGE [Shi et al., 2018] to extract gradients for the score functions, since both $q(\\cdot), p(\\cdot)$ are both implicit distributions represented as particles."
      ]
    },
    {
      "cell_type": "code",
      "metadata": {
        "id": "17AdJLvodP8K"
      },
      "source": [
        "def SamplePosterior(variational_posterior, n_particles, x):\n",
        "  return np.stack([variational_posterior(x) for _ in range(n_particles)])"
      ],
      "execution_count": 26,
      "outputs": []
    },
    {
      "cell_type": "code",
      "metadata": {
        "colab": {
          "base_uri": "https://localhost:8080/"
        },
        "id": "ZususzjfNJma",
        "outputId": "607f36b8-213d-454f-fafe-db63d210dbc4"
      },
      "source": [
        "model = _GetModel()\n",
        "\n",
        "epochs = 200\n",
        "loss_fn = tf.keras.losses.MeanSquaredError()\n",
        "optimizer = tf.keras.optimizers.Adam(0.001)\n",
        "n_particles = 10\n",
        "task_size = 5\n",
        "\n",
        "train_acc_metric = tf.keras.metrics.MeanAbsoluteError()\n",
        "val_acc_metric = tf.keras.metrics.MeanAbsoluteError()\n",
        "\n",
        "# The real targets are the true prior.\n",
        "prior_particles = np.copy(y_train)\n",
        "if len(prior_particles.shape) == 2:\n",
        "  prior_particles = np.squeeze(prior_particles, -1)\n",
        "\n",
        "# If this is disabled the model disregards the KL term and simply optimizes\n",
        "# the likelihood of the targets.\n",
        "use_functional_kl = True\n",
        "lambda_kl = 1.0\n",
        "\n",
        "# Configs used as arguments for the `ComputeCrossEntropy` function, which\n",
        "# will be used for computing the log_prior gradients (or approximate gradients).\n",
        "configs = {\n",
        "  'gp': {'method': 'gp',  'kernel_function': gp_prior.kernel},\n",
        "\n",
        "  'ssge': {'method': 'ssge', 'estimator': estimator,\n",
        "           'n_particles': n_particles, 'prior_particles': prior_particles},\n",
        "\n",
        "  'sliced_score_estimation': {'method': 'sliced', \n",
        "                              'score_estimator': score_net},\n",
        "}\n",
        "\n",
        "# If 'gp' is chosen here, then the prior will be represented exactly as a GP.\n",
        "# Otherwise, we will use the ground truth particles as an empirical measure\n",
        "# and compute approximate gradients with either {SSGE, SSM}.\n",
        "method = 'gp'\n",
        "print('Using %s for computing log-prior gradients. \\n' % method)\n",
        "\n",
        "for epoch in range(epochs):\n",
        "    start_time = time.time()\n",
        "    with tf.GradientTape() as tape:\n",
        "        task_idx = np.random.choice(np.arange(task_count - test_tasks_cnt))\n",
        "        start, end = task_idx * task_size, (task_idx + 1) * task_size \n",
        "\n",
        "        logits = model(X_train[start:end], training=True)\n",
        "        \n",
        "        # Considering a Gaussian likelihood model, with unit variance.\n",
        "        neg_log_likelihood = loss_fn(y_train[start:end], logits)\n",
        "        loss_value = neg_log_likelihood \n",
        "      \n",
        "        if use_functional_kl:\n",
        "          # Use SSGE to approximate the log gradients of the functional\n",
        "          # posterior given the 'drawn' samples from the neural net.\n",
        "          # See Equation (2).\n",
        "          noisy_logits = SamplePosterior(model, n_particles, X_train[start:end])\n",
        "          noisy_logits += np.random.normal(0, 1, size=noisy_logits.shape)\n",
        "          entropy_sur = ApproximateEntropyGrads(estimator, noisy_logits)\n",
        "        \n",
        "          if 'gp' in method:\n",
        "            configs[method]['x'] = X_train[start:end]\n",
        "            configs[method]['y'] = noisy_logits.squeeze(2)\n",
        "          elif 'ssge' in method:\n",
        "            configs[method]['y'] = noisy_logits\n",
        "          elif 'score' in method:\n",
        "            configs[method]['y'] = noisy_logits.reshape(\n",
        "                n_particles *  len(y_train), -1)\n",
        "            \n",
        "          cross_entropy_sur = prior_utils.ComputeCrossEntropy(configs[method])\n",
        "          \n",
        "          # Add these up to produce the KL term to be optimized.\n",
        "          functional_kl = (tf.cast(entropy_sur, tf.float32) -\n",
        "                           tf.cast(cross_entropy_sur, tf.float32))\n",
        "          loss_value += lambda_kl * functional_kl / len(X_train[start:end])\n",
        "\n",
        "    grads = tape.gradient(loss_value, model.trainable_weights)\n",
        "    optimizer.apply_gradients(zip(grads, model.trainable_weights))\n",
        "    train_acc_metric.update_state(y_train[start:end], logits)\n",
        "   \n",
        "    if epoch % 5 == 0:\n",
        "    \ttrain_acc = train_acc_metric.result()\n",
        "    \tprint(\"Negative log likelihood over epoch [%d]: %.4f\" % \n",
        "           (epoch, float(neg_log_likelihood,)))\n",
        "\n",
        "    train_acc_metric.reset_states()\n",
        "\n",
        "    # Results on validation dataset.\n",
        "    val_logits = model(X_test, training=False)\n",
        "    val_acc_metric.update_state(y_test, val_logits)\n",
        "\n",
        "    val_acc = val_acc_metric.result()\n",
        "    val_acc_metric.reset_states()\n",
        "    print(\"Validation negative log likelihood: %.4f\" % (float(val_acc),))\n",
        "    print(\"Time taken: %.2fs\" % (time.time() - start_time))\n",
        "    print()"
      ],
      "execution_count": 27,
      "outputs": [
        {
          "output_type": "stream",
          "text": [
            "/usr/local/lib/python3.6/dist-packages/tensorflow/python/keras/engine/base_layer.py:2281: UserWarning: `layer.add_variable` is deprecated and will be removed in a future version. Please use `layer.add_weight` method instead.\n",
            "  warnings.warn('`layer.add_variable` is deprecated and '\n"
          ],
          "name": "stderr"
        },
        {
          "output_type": "stream",
          "text": [
            "Using gp for computing log-prior gradients. \n",
            "\n",
            "WARNING:tensorflow:From /content/gdrive/MyDrive/prior_learning/spectral_stein_grad/estimator/spectral.py:72: to_int32 (from tensorflow.python.ops.math_ops) is deprecated and will be removed in a future version.\n",
            "Instructions for updating:\n",
            "Use `tf.cast` instead.\n",
            "WARNING:tensorflow:From /usr/local/lib/python3.6/dist-packages/tensorflow_probability/python/distributions/distribution.py:298: MultivariateNormalFullCovariance.__init__ (from tensorflow_probability.python.distributions.mvn_full_covariance) is deprecated and will be removed after 2019-12-01.\n",
            "Instructions for updating:\n",
            "`MultivariateNormalFullCovariance` is deprecated, use `MultivariateNormalTriL(loc=loc, scale_tril=tf.linalg.cholesky(covariance_matrix))` instead.\n",
            "Negative log likelihood over epoch [0]: 0.1324\n",
            "Validation negative log likelihood: 0.3803\n",
            "Time taken: 0.25s\n",
            "\n",
            "Validation negative log likelihood: 0.3597\n",
            "Time taken: 0.23s\n",
            "\n",
            "Validation negative log likelihood: 0.3618\n",
            "Time taken: 0.22s\n",
            "\n",
            "Validation negative log likelihood: 0.3703\n",
            "Time taken: 0.23s\n",
            "\n",
            "Validation negative log likelihood: 0.3493\n",
            "Time taken: 0.22s\n",
            "\n",
            "Negative log likelihood over epoch [5]: 0.1221\n",
            "Validation negative log likelihood: 0.3521\n",
            "Time taken: 0.22s\n",
            "\n",
            "Validation negative log likelihood: 0.3477\n",
            "Time taken: 0.22s\n",
            "\n",
            "Validation negative log likelihood: 0.3826\n",
            "Time taken: 0.22s\n",
            "\n",
            "Validation negative log likelihood: 0.3696\n",
            "Time taken: 0.23s\n",
            "\n",
            "Validation negative log likelihood: 0.3523\n",
            "Time taken: 0.22s\n",
            "\n",
            "Negative log likelihood over epoch [10]: 0.2569\n",
            "Validation negative log likelihood: 0.3555\n",
            "Time taken: 0.22s\n",
            "\n",
            "Validation negative log likelihood: 0.3670\n",
            "Time taken: 0.23s\n",
            "\n",
            "Validation negative log likelihood: 0.3410\n",
            "Time taken: 0.22s\n",
            "\n",
            "Validation negative log likelihood: 0.3714\n",
            "Time taken: 0.22s\n",
            "\n",
            "Validation negative log likelihood: 0.3737\n",
            "Time taken: 0.22s\n",
            "\n",
            "Negative log likelihood over epoch [15]: 0.1436\n",
            "Validation negative log likelihood: 0.3714\n",
            "Time taken: 0.22s\n",
            "\n",
            "Validation negative log likelihood: 0.3788\n",
            "Time taken: 0.22s\n",
            "\n",
            "Validation negative log likelihood: 0.3592\n",
            "Time taken: 0.23s\n",
            "\n",
            "Validation negative log likelihood: 0.3595\n",
            "Time taken: 0.22s\n",
            "\n",
            "Validation negative log likelihood: 0.3462\n",
            "Time taken: 0.23s\n",
            "\n",
            "Negative log likelihood over epoch [20]: 0.2449\n",
            "Validation negative log likelihood: 0.3707\n",
            "Time taken: 0.23s\n",
            "\n",
            "Validation negative log likelihood: 0.3483\n",
            "Time taken: 0.22s\n",
            "\n",
            "Validation negative log likelihood: 0.3869\n",
            "Time taken: 0.22s\n",
            "\n",
            "Validation negative log likelihood: 0.3514\n",
            "Time taken: 0.24s\n",
            "\n",
            "Validation negative log likelihood: 0.3647\n",
            "Time taken: 0.22s\n",
            "\n",
            "Negative log likelihood over epoch [25]: 0.1207\n",
            "Validation negative log likelihood: 0.3556\n",
            "Time taken: 0.25s\n",
            "\n",
            "Validation negative log likelihood: 0.3287\n",
            "Time taken: 0.23s\n",
            "\n",
            "Validation negative log likelihood: 0.3550\n",
            "Time taken: 0.23s\n",
            "\n",
            "Validation negative log likelihood: 0.3429\n",
            "Time taken: 0.22s\n",
            "\n",
            "Validation negative log likelihood: 0.3523\n",
            "Time taken: 0.22s\n",
            "\n",
            "Negative log likelihood over epoch [30]: 0.3027\n",
            "Validation negative log likelihood: 0.3457\n",
            "Time taken: 0.22s\n",
            "\n",
            "Validation negative log likelihood: 0.3595\n",
            "Time taken: 0.22s\n",
            "\n",
            "Validation negative log likelihood: 0.3640\n",
            "Time taken: 0.22s\n",
            "\n",
            "Validation negative log likelihood: 0.3499\n",
            "Time taken: 0.23s\n",
            "\n",
            "Validation negative log likelihood: 0.3649\n",
            "Time taken: 0.22s\n",
            "\n",
            "Negative log likelihood over epoch [35]: 0.3023\n",
            "Validation negative log likelihood: 0.3342\n",
            "Time taken: 0.23s\n",
            "\n",
            "Validation negative log likelihood: 0.3587\n",
            "Time taken: 0.23s\n",
            "\n",
            "Validation negative log likelihood: 0.3513\n",
            "Time taken: 0.22s\n",
            "\n",
            "Validation negative log likelihood: 0.3414\n",
            "Time taken: 0.22s\n",
            "\n",
            "Validation negative log likelihood: 0.3328\n",
            "Time taken: 0.22s\n",
            "\n",
            "Negative log likelihood over epoch [40]: 0.3011\n",
            "Validation negative log likelihood: 0.3423\n",
            "Time taken: 0.22s\n",
            "\n",
            "Validation negative log likelihood: 0.3556\n",
            "Time taken: 0.22s\n",
            "\n",
            "Validation negative log likelihood: 0.3253\n",
            "Time taken: 0.25s\n",
            "\n",
            "Validation negative log likelihood: 0.3592\n",
            "Time taken: 0.23s\n",
            "\n",
            "Validation negative log likelihood: 0.3631\n",
            "Time taken: 0.23s\n",
            "\n",
            "Negative log likelihood over epoch [45]: 0.1436\n",
            "Validation negative log likelihood: 0.3397\n",
            "Time taken: 0.22s\n",
            "\n",
            "Validation negative log likelihood: 0.3530\n",
            "Time taken: 0.22s\n",
            "\n",
            "Validation negative log likelihood: 0.3611\n",
            "Time taken: 0.22s\n",
            "\n",
            "Validation negative log likelihood: 0.3457\n",
            "Time taken: 0.23s\n",
            "\n",
            "Validation negative log likelihood: 0.3381\n",
            "Time taken: 0.22s\n",
            "\n",
            "Negative log likelihood over epoch [50]: 0.2009\n",
            "Validation negative log likelihood: 0.3612\n",
            "Time taken: 0.23s\n",
            "\n",
            "Validation negative log likelihood: 0.3547\n",
            "Time taken: 0.23s\n",
            "\n",
            "Validation negative log likelihood: 0.3767\n",
            "Time taken: 0.22s\n",
            "\n",
            "Validation negative log likelihood: 0.3094\n",
            "Time taken: 0.23s\n",
            "\n",
            "Validation negative log likelihood: 0.3690\n",
            "Time taken: 0.23s\n",
            "\n",
            "Negative log likelihood over epoch [55]: 0.1426\n",
            "Validation negative log likelihood: 0.3313\n",
            "Time taken: 0.23s\n",
            "\n",
            "Validation negative log likelihood: 0.3551\n",
            "Time taken: 0.23s\n",
            "\n",
            "Validation negative log likelihood: 0.3666\n",
            "Time taken: 0.23s\n",
            "\n",
            "Validation negative log likelihood: 0.3570\n",
            "Time taken: 0.23s\n",
            "\n",
            "Validation negative log likelihood: 0.3416\n",
            "Time taken: 0.22s\n",
            "\n",
            "Negative log likelihood over epoch [60]: 0.2971\n",
            "Validation negative log likelihood: 0.3693\n",
            "Time taken: 0.22s\n",
            "\n",
            "Validation negative log likelihood: 0.3414\n",
            "Time taken: 0.22s\n",
            "\n",
            "Validation negative log likelihood: 0.3448\n",
            "Time taken: 0.23s\n",
            "\n",
            "Validation negative log likelihood: 0.3404\n",
            "Time taken: 0.22s\n",
            "\n",
            "Validation negative log likelihood: 0.3440\n",
            "Time taken: 0.22s\n",
            "\n",
            "Negative log likelihood over epoch [65]: 0.4717\n",
            "Validation negative log likelihood: 0.3474\n",
            "Time taken: 0.22s\n",
            "\n",
            "Validation negative log likelihood: 0.3541\n",
            "Time taken: 0.23s\n",
            "\n",
            "Validation negative log likelihood: 0.3246\n",
            "Time taken: 0.22s\n",
            "\n",
            "Validation negative log likelihood: 0.3529\n",
            "Time taken: 0.22s\n",
            "\n",
            "Validation negative log likelihood: 0.3250\n",
            "Time taken: 0.22s\n",
            "\n",
            "Negative log likelihood over epoch [70]: 0.2824\n",
            "Validation negative log likelihood: 0.3758\n",
            "Time taken: 0.22s\n",
            "\n",
            "Validation negative log likelihood: 0.3564\n",
            "Time taken: 0.22s\n",
            "\n",
            "Validation negative log likelihood: 0.3460\n",
            "Time taken: 0.22s\n",
            "\n",
            "Validation negative log likelihood: 0.3724\n",
            "Time taken: 0.22s\n",
            "\n",
            "Validation negative log likelihood: 0.3448\n",
            "Time taken: 0.22s\n",
            "\n",
            "Negative log likelihood over epoch [75]: 0.4672\n",
            "Validation negative log likelihood: 0.3546\n",
            "Time taken: 0.23s\n",
            "\n",
            "Validation negative log likelihood: 0.3436\n",
            "Time taken: 0.23s\n",
            "\n",
            "Validation negative log likelihood: 0.3466\n",
            "Time taken: 0.22s\n",
            "\n",
            "Validation negative log likelihood: 0.3490\n",
            "Time taken: 0.22s\n",
            "\n",
            "Validation negative log likelihood: 0.3612\n",
            "Time taken: 0.22s\n",
            "\n",
            "Negative log likelihood over epoch [80]: 0.3010\n",
            "Validation negative log likelihood: 0.3549\n",
            "Time taken: 0.23s\n",
            "\n",
            "Validation negative log likelihood: 0.3555\n",
            "Time taken: 0.22s\n",
            "\n",
            "Validation negative log likelihood: 0.3580\n",
            "Time taken: 0.22s\n",
            "\n",
            "Validation negative log likelihood: 0.3692\n",
            "Time taken: 0.22s\n",
            "\n",
            "Validation negative log likelihood: 0.3713\n",
            "Time taken: 0.24s\n",
            "\n",
            "Negative log likelihood over epoch [85]: 0.2370\n",
            "Validation negative log likelihood: 0.3834\n",
            "Time taken: 0.22s\n",
            "\n",
            "Validation negative log likelihood: 0.3614\n",
            "Time taken: 0.22s\n",
            "\n",
            "Validation negative log likelihood: 0.3619\n",
            "Time taken: 0.22s\n",
            "\n",
            "Validation negative log likelihood: 0.3799\n",
            "Time taken: 0.24s\n",
            "\n",
            "Validation negative log likelihood: 0.3619\n",
            "Time taken: 0.25s\n",
            "\n",
            "Negative log likelihood over epoch [90]: 0.2580\n",
            "Validation negative log likelihood: 0.3656\n",
            "Time taken: 0.23s\n",
            "\n",
            "Validation negative log likelihood: 0.3690\n",
            "Time taken: 0.23s\n",
            "\n",
            "Validation negative log likelihood: 0.3738\n",
            "Time taken: 0.22s\n",
            "\n",
            "Validation negative log likelihood: 0.3669\n",
            "Time taken: 0.23s\n",
            "\n",
            "Validation negative log likelihood: 0.3524\n",
            "Time taken: 0.22s\n",
            "\n",
            "Negative log likelihood over epoch [95]: 0.3032\n",
            "Validation negative log likelihood: 0.3538\n",
            "Time taken: 0.22s\n",
            "\n",
            "Validation negative log likelihood: 0.3383\n",
            "Time taken: 0.21s\n",
            "\n",
            "Validation negative log likelihood: 0.3606\n",
            "Time taken: 0.22s\n",
            "\n",
            "Validation negative log likelihood: 0.3466\n",
            "Time taken: 0.23s\n",
            "\n",
            "Validation negative log likelihood: 0.3683\n",
            "Time taken: 0.21s\n",
            "\n",
            "Negative log likelihood over epoch [100]: 0.4692\n",
            "Validation negative log likelihood: 0.3639\n",
            "Time taken: 0.22s\n",
            "\n",
            "Validation negative log likelihood: 0.3566\n",
            "Time taken: 0.22s\n",
            "\n",
            "Validation negative log likelihood: 0.3653\n",
            "Time taken: 0.22s\n",
            "\n",
            "Validation negative log likelihood: 0.3457\n",
            "Time taken: 0.21s\n",
            "\n",
            "Validation negative log likelihood: 0.3455\n",
            "Time taken: 0.22s\n",
            "\n",
            "Negative log likelihood over epoch [105]: 0.0980\n",
            "Validation negative log likelihood: 0.3526\n",
            "Time taken: 0.22s\n",
            "\n",
            "Validation negative log likelihood: 0.3419\n",
            "Time taken: 0.23s\n",
            "\n",
            "Validation negative log likelihood: 0.3548\n",
            "Time taken: 0.22s\n",
            "\n",
            "Validation negative log likelihood: 0.3570\n",
            "Time taken: 0.22s\n",
            "\n",
            "Validation negative log likelihood: 0.3936\n",
            "Time taken: 0.22s\n",
            "\n",
            "Negative log likelihood over epoch [110]: 0.2381\n",
            "Validation negative log likelihood: 0.3417\n",
            "Time taken: 0.23s\n",
            "\n",
            "Validation negative log likelihood: 0.3629\n",
            "Time taken: 0.23s\n",
            "\n",
            "Validation negative log likelihood: 0.3538\n",
            "Time taken: 0.22s\n",
            "\n",
            "Validation negative log likelihood: 0.3590\n",
            "Time taken: 0.22s\n",
            "\n",
            "Validation negative log likelihood: 0.3530\n",
            "Time taken: 0.23s\n",
            "\n",
            "Negative log likelihood over epoch [115]: 0.1364\n",
            "Validation negative log likelihood: 0.4041\n",
            "Time taken: 0.22s\n",
            "\n",
            "Validation negative log likelihood: 0.3543\n",
            "Time taken: 0.22s\n",
            "\n",
            "Validation negative log likelihood: 0.3487\n",
            "Time taken: 0.22s\n",
            "\n",
            "Validation negative log likelihood: 0.3541\n",
            "Time taken: 0.22s\n",
            "\n",
            "Validation negative log likelihood: 0.3518\n",
            "Time taken: 0.21s\n",
            "\n",
            "Negative log likelihood over epoch [120]: 0.1051\n",
            "Validation negative log likelihood: 0.3443\n",
            "Time taken: 0.22s\n",
            "\n",
            "Validation negative log likelihood: 0.3585\n",
            "Time taken: 0.23s\n",
            "\n",
            "Validation negative log likelihood: 0.3546\n",
            "Time taken: 0.22s\n",
            "\n",
            "Validation negative log likelihood: 0.3491\n",
            "Time taken: 0.22s\n",
            "\n",
            "Validation negative log likelihood: 0.3446\n",
            "Time taken: 0.23s\n",
            "\n",
            "Negative log likelihood over epoch [125]: 0.4675\n",
            "Validation negative log likelihood: 0.3675\n",
            "Time taken: 0.22s\n",
            "\n",
            "Validation negative log likelihood: 0.3293\n",
            "Time taken: 0.22s\n",
            "\n",
            "Validation negative log likelihood: 0.3491\n",
            "Time taken: 0.22s\n",
            "\n",
            "Validation negative log likelihood: 0.3421\n",
            "Time taken: 0.21s\n",
            "\n",
            "Validation negative log likelihood: 0.3435\n",
            "Time taken: 0.22s\n",
            "\n",
            "Negative log likelihood over epoch [130]: 0.4718\n",
            "Validation negative log likelihood: 0.3503\n",
            "Time taken: 0.22s\n",
            "\n",
            "Validation negative log likelihood: 0.3318\n",
            "Time taken: 0.22s\n",
            "\n",
            "Validation negative log likelihood: 0.3445\n",
            "Time taken: 0.23s\n",
            "\n",
            "Validation negative log likelihood: 0.3477\n",
            "Time taken: 0.22s\n",
            "\n",
            "Validation negative log likelihood: 0.3495\n",
            "Time taken: 0.23s\n",
            "\n",
            "Negative log likelihood over epoch [135]: 0.4686\n",
            "Validation negative log likelihood: 0.3494\n",
            "Time taken: 0.23s\n",
            "\n",
            "Validation negative log likelihood: 0.3478\n",
            "Time taken: 0.22s\n",
            "\n",
            "Validation negative log likelihood: 0.3472\n",
            "Time taken: 0.22s\n",
            "\n",
            "Validation negative log likelihood: 0.3554\n",
            "Time taken: 0.23s\n",
            "\n",
            "Validation negative log likelihood: 0.3569\n",
            "Time taken: 0.22s\n",
            "\n",
            "Negative log likelihood over epoch [140]: 0.2025\n",
            "Validation negative log likelihood: 0.3464\n",
            "Time taken: 0.22s\n",
            "\n",
            "Validation negative log likelihood: 0.3523\n",
            "Time taken: 0.23s\n",
            "\n",
            "Validation negative log likelihood: 0.3583\n",
            "Time taken: 0.23s\n",
            "\n",
            "Validation negative log likelihood: 0.3528\n",
            "Time taken: 0.23s\n",
            "\n",
            "Validation negative log likelihood: 0.3431\n",
            "Time taken: 0.22s\n",
            "\n",
            "Negative log likelihood over epoch [145]: 0.1420\n",
            "Validation negative log likelihood: 0.3422\n",
            "Time taken: 0.22s\n",
            "\n",
            "Validation negative log likelihood: 0.3711\n",
            "Time taken: 0.22s\n",
            "\n",
            "Validation negative log likelihood: 0.3343\n",
            "Time taken: 0.23s\n",
            "\n",
            "Validation negative log likelihood: 0.3454\n",
            "Time taken: 0.23s\n",
            "\n",
            "Validation negative log likelihood: 0.3142\n",
            "Time taken: 0.22s\n",
            "\n",
            "Negative log likelihood over epoch [150]: 0.1002\n",
            "Validation negative log likelihood: 0.3568\n",
            "Time taken: 0.22s\n",
            "\n",
            "Validation negative log likelihood: 0.3516\n",
            "Time taken: 0.22s\n",
            "\n",
            "Validation negative log likelihood: 0.3467\n",
            "Time taken: 0.22s\n",
            "\n",
            "Validation negative log likelihood: 0.3301\n",
            "Time taken: 0.22s\n",
            "\n",
            "Validation negative log likelihood: 0.3488\n",
            "Time taken: 0.22s\n",
            "\n",
            "Negative log likelihood over epoch [155]: 0.4733\n",
            "Validation negative log likelihood: 0.3416\n",
            "Time taken: 0.23s\n",
            "\n",
            "Validation negative log likelihood: 0.3449\n",
            "Time taken: 0.22s\n",
            "\n",
            "Validation negative log likelihood: 0.3431\n",
            "Time taken: 0.23s\n",
            "\n",
            "Validation negative log likelihood: 0.3705\n",
            "Time taken: 0.22s\n",
            "\n",
            "Validation negative log likelihood: 0.3372\n",
            "Time taken: 0.22s\n",
            "\n",
            "Negative log likelihood over epoch [160]: 0.2555\n",
            "Validation negative log likelihood: 0.3573\n",
            "Time taken: 0.22s\n",
            "\n",
            "Validation negative log likelihood: 0.3467\n",
            "Time taken: 0.24s\n",
            "\n",
            "Validation negative log likelihood: 0.3379\n",
            "Time taken: 0.23s\n",
            "\n",
            "Validation negative log likelihood: 0.3438\n",
            "Time taken: 0.23s\n",
            "\n",
            "Validation negative log likelihood: 0.3430\n",
            "Time taken: 0.23s\n",
            "\n",
            "Negative log likelihood over epoch [165]: 0.3064\n",
            "Validation negative log likelihood: 0.3454\n",
            "Time taken: 0.22s\n",
            "\n",
            "Validation negative log likelihood: 0.3437\n",
            "Time taken: 0.23s\n",
            "\n",
            "Validation negative log likelihood: 0.3474\n",
            "Time taken: 0.23s\n",
            "\n",
            "Validation negative log likelihood: 0.3459\n",
            "Time taken: 0.22s\n",
            "\n",
            "Validation negative log likelihood: 0.3378\n",
            "Time taken: 0.23s\n",
            "\n",
            "Negative log likelihood over epoch [170]: 0.2331\n",
            "Validation negative log likelihood: 0.3465\n",
            "Time taken: 0.24s\n",
            "\n",
            "Validation negative log likelihood: 0.3447\n",
            "Time taken: 0.22s\n",
            "\n",
            "Validation negative log likelihood: 0.3443\n",
            "Time taken: 0.22s\n",
            "\n",
            "Validation negative log likelihood: 0.3264\n",
            "Time taken: 0.22s\n",
            "\n",
            "Validation negative log likelihood: 0.3287\n",
            "Time taken: 0.22s\n",
            "\n",
            "Negative log likelihood over epoch [175]: 0.4729\n",
            "Validation negative log likelihood: 0.3481\n",
            "Time taken: 0.23s\n",
            "\n",
            "Validation negative log likelihood: 0.3356\n",
            "Time taken: 0.22s\n",
            "\n",
            "Validation negative log likelihood: 0.3520\n",
            "Time taken: 0.22s\n",
            "\n",
            "Validation negative log likelihood: 0.3587\n",
            "Time taken: 0.22s\n",
            "\n",
            "Validation negative log likelihood: 0.3796\n",
            "Time taken: 0.24s\n",
            "\n",
            "Negative log likelihood over epoch [180]: 0.0909\n",
            "Validation negative log likelihood: 0.3354\n",
            "Time taken: 0.23s\n",
            "\n",
            "Validation negative log likelihood: 0.3450\n",
            "Time taken: 0.23s\n",
            "\n",
            "Validation negative log likelihood: 0.3301\n",
            "Time taken: 0.22s\n",
            "\n",
            "Validation negative log likelihood: 0.3255\n",
            "Time taken: 0.22s\n",
            "\n",
            "Validation negative log likelihood: 0.3158\n",
            "Time taken: 0.22s\n",
            "\n",
            "Negative log likelihood over epoch [185]: 0.2106\n",
            "Validation negative log likelihood: 0.3433\n",
            "Time taken: 0.22s\n",
            "\n",
            "Validation negative log likelihood: 0.3485\n",
            "Time taken: 0.22s\n",
            "\n",
            "Validation negative log likelihood: 0.3467\n",
            "Time taken: 0.22s\n",
            "\n",
            "Validation negative log likelihood: 0.3190\n",
            "Time taken: 0.22s\n",
            "\n",
            "Validation negative log likelihood: 0.3428\n",
            "Time taken: 0.22s\n",
            "\n",
            "Negative log likelihood over epoch [190]: 0.2283\n",
            "Validation negative log likelihood: 0.3484\n",
            "Time taken: 0.22s\n",
            "\n",
            "Validation negative log likelihood: 0.3365\n",
            "Time taken: 0.23s\n",
            "\n",
            "Validation negative log likelihood: 0.3483\n",
            "Time taken: 0.22s\n",
            "\n",
            "Validation negative log likelihood: 0.3453\n",
            "Time taken: 0.23s\n",
            "\n",
            "Validation negative log likelihood: 0.3497\n",
            "Time taken: 0.23s\n",
            "\n",
            "Negative log likelihood over epoch [195]: 0.3072\n",
            "Validation negative log likelihood: 0.3449\n",
            "Time taken: 0.22s\n",
            "\n",
            "Validation negative log likelihood: 0.3467\n",
            "Time taken: 0.22s\n",
            "\n",
            "Validation negative log likelihood: 0.3433\n",
            "Time taken: 0.22s\n",
            "\n",
            "Validation negative log likelihood: 0.3261\n",
            "Time taken: 0.22s\n",
            "\n",
            "Validation negative log likelihood: 0.3317\n",
            "Time taken: 0.22s\n",
            "\n"
          ],
          "name": "stdout"
        }
      ]
    },
    {
      "cell_type": "code",
      "metadata": {
        "colab": {
          "base_uri": "https://localhost:8080/",
          "height": 269
        },
        "id": "4XswtGczNRv5",
        "outputId": "7bd2c8d7-e89a-41ec-b2b2-94ac42173326"
      },
      "source": [
        "plt.plot(model.predict(X_test))\n",
        "plt.plot(y_test)\n",
        "\n",
        "plt.legend(['Prediction', 'Ground Truth'], loc='upper left')\n",
        "plt.show()"
      ],
      "execution_count": 28,
      "outputs": [
        {
          "output_type": "display_data",
          "data": {
            "image/png": "[encoded data removed]",
            "text/plain": [
              "<Figure size 432x288 with 1 Axes>"
            ]
          },
          "metadata": {
            "tags": [],
            "needs_background": "light"
          }
        }
      ]
    }
  ]
}